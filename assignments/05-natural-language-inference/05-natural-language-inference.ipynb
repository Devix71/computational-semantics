{
 "cells": [
  {
   "cell_type": "markdown",
   "metadata": {},
   "source": [
    "# A5: Natural Language Inference using Neural Networks\n",
    "\n",
    "Adam Ek"
   ]
  },
  {
   "cell_type": "markdown",
   "metadata": {},
   "source": [
    "The lab is an exploration and learning exercise to be done in a group and also in discussion with the teachers and other students.\n",
    "\n",
    "Write all your answers and the code in the appropriate boxes below.\n",
    "\n",
    "\n",
    "In this lab we will work with neural networks for natural language inference. Our task is: given a premise sentence P and hypothesis H, what entailment relationship holds between them? Is H entailed by P, contradicted by P or neutral towards P?\n",
    "\n",
    "Given a sentence P, if H definitely describe something true given P then it is an **entailment**. If H describe something that's *maybe* true given P, it's **neutral**, and if H describe something that's definitely *false* given P it's a **contradiction**. "
   ]
  },
  {
   "cell_type": "markdown",
   "metadata": {},
   "source": [
    "## 1. Data"
   ]
  },
  {
   "cell_type": "markdown",
   "metadata": {},
   "source": [
    "We will explore natural language inference using neural networks on the SNLI dataset, described in [1]. The dataset can be downloaded [here](https://nlp.stanford.edu/projects/snli/). We prepared a \"simplified\" version, with only the relevant columns in `simple_snli_1.0.zip`.\n",
    "\n",
    "The (simplified) data is organized as follows (tab-separated values):\n",
    "* Column 1: Premise\n",
    "* Column 2: Hypothesis\n",
    "* Column 3: Relation\n",
    "\n",
    "Like in the previous lab, we'll use torchtext to build a dataloader. You can essentially do the same thing as you did in the last lab, but with our new dataset. **[1 mark]**"
   ]
  },
  {
   "cell_type": "code",
   "execution_count": 1,
   "metadata": {},
   "outputs": [
    {
     "name": "stdout",
     "output_type": "stream",
     "text": [
      "--2023-05-29 12:42:54--  https://nlp.stanford.edu/projects/snli/snli_1.0.zip\n",
      "Resolving nlp.stanford.edu (nlp.stanford.edu)... 171.64.67.140\n",
      "Connecting to nlp.stanford.edu (nlp.stanford.edu)|171.64.67.140|:443... connected.\n",
      "HTTP request sent, awaiting response... 200 OK\n",
      "Length: 94550081 (90M) [application/zip]\n",
      "Saving to: ‘snli_1.0.zip’\n",
      "\n",
      "snli_1.0.zip        100%[===================>]  90.17M  17.3MB/s    in 10s     \n",
      "\n",
      "2023-05-29 12:43:06 (8.84 MB/s) - ‘snli_1.0.zip’ saved [94550081/94550081]\n",
      "\n"
     ]
    }
   ],
   "source": [
    "!wget https://nlp.stanford.edu/projects/snli/snli_1.0.zip"
   ]
  },
  {
   "cell_type": "code",
   "execution_count": 2,
   "metadata": {},
   "outputs": [
    {
     "name": "stdout",
     "output_type": "stream",
     "text": [
      "Archive:  snli_1.0.zip\n",
      "   creating: snli_1.0/\n",
      "  inflating: snli_1.0/.DS_Store      \n",
      "   creating: __MACOSX/\n",
      "   creating: __MACOSX/snli_1.0/\n",
      "  inflating: __MACOSX/snli_1.0/._.DS_Store  \n",
      " extracting: snli_1.0/Icon           \n",
      "  inflating: __MACOSX/snli_1.0/._Icon  \n",
      "  inflating: snli_1.0/README.txt     \n",
      "  inflating: __MACOSX/snli_1.0/._README.txt  \n",
      "  inflating: snli_1.0/snli_1.0_dev.jsonl  \n",
      "  inflating: snli_1.0/snli_1.0_dev.txt  \n",
      "  inflating: snli_1.0/snli_1.0_test.jsonl  \n",
      "  inflating: snli_1.0/snli_1.0_test.txt  \n",
      "  inflating: snli_1.0/snli_1.0_train.jsonl  \n",
      "  inflating: snli_1.0/snli_1.0_train.txt  \n",
      "  inflating: __MACOSX/._snli_1.0     \n"
     ]
    }
   ],
   "source": [
    "!unzip snli_1.0.zip"
   ]
  },
  {
   "cell_type": "code",
   "execution_count": 11,
   "metadata": {},
   "outputs": [
    {
     "name": "stdout",
     "output_type": "stream",
     "text": [
      "Defaulting to user installation because normal site-packages is not writeable\n",
      "Collecting gensim\n",
      "  Downloading gensim-4.3.1-cp310-cp310-manylinux_2_17_x86_64.manylinux2014_x86_64.whl (26.4 MB)\n",
      "     |████████████████████████████████| 26.4 MB 272 kB/s            \n",
      "\u001b[?25hRequirement already satisfied: numpy>=1.18.5 in /usr/local/lib64/python3.10/site-packages (from gensim) (1.23.3)\n",
      "Requirement already satisfied: smart-open>=1.8.1 in /home/gussodato@GU.GU.SE/.local/lib/python3.10/site-packages (from gensim) (6.3.0)\n",
      "Requirement already satisfied: scipy>=1.7.0 in /usr/local/lib64/python3.10/site-packages (from gensim) (1.9.2)\n",
      "Installing collected packages: gensim\n",
      "Successfully installed gensim-4.3.1\n"
     ]
    }
   ],
   "source": [
    "!pip install gensim"
   ]
  },
  {
   "cell_type": "code",
   "execution_count": 48,
   "metadata": {},
   "outputs": [],
   "source": [
    "import pandas as pd\n",
    "import numpy as np\n",
    "import torch\n",
    "import torch.nn as nn\n",
    "from gensim.utils import tokenize\n",
    "from torch.utils.data import DataLoader, Dataset\n",
    "import pickle\n",
    "import torch.optim as optim\n",
    "from tqdm.auto import tqdm\n",
    "\n",
    "device = torch.device('cuda:3')"
   ]
  },
  {
   "cell_type": "code",
   "execution_count": 2,
   "metadata": {},
   "outputs": [],
   "source": [
    "train_path = './snli_1.0/snli_1.0_train.txt'\n",
    "dev_path = './snli_1.0/snli_1.0_dev.txt'\n",
    "test_path = './snli_1.0/snli_1.0_test.txt'"
   ]
  },
  {
   "cell_type": "code",
   "execution_count": 49,
   "metadata": {},
   "outputs": [],
   "source": [
    "class Vocab:\n",
    "    def __init__(self, tokens, pad_token='PAD', unk_token='UNK', unk_and_pad=True):\n",
    "        \"\"\"If we are creating a vocab of a finite set of labels, we don't need unk and pad tokens. \n",
    "        We then set unk_and_pad to False.\n",
    "        \"\"\"\n",
    "        if unk_and_pad:\n",
    "            self.tokens = tokens+[unk_token]\n",
    "            self.i2t = {i: t for i, t in enumerate(self.tokens, start=1)}\n",
    "            self.i2t[0] = pad_token\n",
    "            self.t2i = {v: k for k, v in self.i2t.items()}\n",
    "            self.tokens += [pad_token] \n",
    "        else:\n",
    "            self.tokens = tokens\n",
    "            self.i2t = {i: t for i, t in enumerate(self.tokens)}\n",
    "            self.t2i = {v: k for k, v in self.i2t.items()}\n",
    "        \n",
    "    def __len__(self):\n",
    "        return len(self.tokens)\n",
    "    \n",
    "    def __getitem__(self, x):\n",
    "        if type(x) == str:\n",
    "            return self.t2i[x]\n",
    "        if type(x) == int:\n",
    "            return self.i2t[x]"
   ]
  },
  {
   "cell_type": "code",
   "execution_count": 62,
   "metadata": {},
   "outputs": [],
   "source": [
    "class NLI_Dataset(Dataset):\n",
    "    def __init__(self, tsv_file,\n",
    "                 train=True,\n",
    "                 unk_token='UNK',\n",
    "                 pad_token='PAD',\n",
    "                 vocab=None,\n",
    "                 label_vocab=None):\n",
    "        \n",
    "        self.unk_token = unk_token\n",
    "        self.pad_token = pad_token\n",
    "        self.alldata = pd.read_csv(tsv_file, sep='\\t')\n",
    "        self.data = self.remove_missing(self.alldata)\n",
    "        \n",
    "        self.gold_labels = [label for label in self.data['gold_label']]\n",
    "        self.premises = [list(tokenize(premise)) for premise in self.data['sentence1']]\n",
    "        self.hypotheses = [list(tokenize(hypothesis)) for hypothesis in self.data['sentence2']]\n",
    "        \n",
    "        if train:\n",
    "            self.tokens = list(set([token for line in self.premises for token in line]+[token for line in self.hypotheses for token in line]))\n",
    "            self.vocab = Vocab(self.tokens, pad_token=self.pad_token, unk_token=self.unk_token)    \n",
    "            self.label_vocab = Vocab(['neutral', 'contradiction', '-', 'entailment'], unk_and_pad=False)\n",
    "            self.int_premises = [[self.vocab[word] for word in seq] for seq in self.premises]\n",
    "            self.int_hypotheses = [[self.vocab[word] for word in seq] for seq in self.hypotheses]\n",
    "        \n",
    "        else:\n",
    "            self.vocab = vocab\n",
    "            self.label_vocab = label_vocab\n",
    "            self.int_premises = [[self.vocab[word] if word in self.vocab.t2i else self.vocab[self.unk_token] for word in seq] for seq in self.premises]\n",
    "            self.int_hypotheses = [[self.vocab[word] if word in self.vocab.t2i else self.vocab[self.unk_token] for word in seq] for seq in self.hypotheses]\n",
    "            \n",
    "        self.int_gold_labels = [self.label_vocab[label] for label in self.gold_labels]\n",
    "    \n",
    "    def remove_missing(self, df): # Quickfix for removing nan values in the training data (there were only six such rows).\n",
    "        \n",
    "        droprows = [i for i, x in enumerate(df['sentence1']) if type(x) != str]\n",
    "        droprows += [i for i, x in enumerate(df['sentence2']) if type(x) != str]\n",
    "        droprows += [i for i, x in enumerate(df['gold_label']) if type(x) != str]\n",
    "        droprows = list(set(droprows))\n",
    "        \n",
    "        return df.drop(index=droprows)\n",
    "    \n",
    "    def __getitem__(self, idx):\n",
    "        \n",
    "        return (self.int_gold_labels[idx], self.int_premises[idx], self.int_hypotheses[idx])\n",
    "\n",
    "    def __len__(self):\n",
    "        return len(self.int_gold_labels)"
   ]
  },
  {
   "cell_type": "code",
   "execution_count": 63,
   "metadata": {},
   "outputs": [],
   "source": [
    "def nli_pad_fn(data):\n",
    "    p_len = max([len(x[1]) for x in data])\n",
    "    h_len = max([len(x[2]) for x in data])\n",
    "    padded_data = [(x[0], [w for w in x[1]+[0]*(p_len-len(x[1]))], [w for w in x[2]+[0]*(h_len-len(x[2]))]) for x in data]\n",
    "    return padded_data\n",
    "\n",
    "\n",
    "def dataloader(path_to_snli, batch_size, train=True, vocab=None, label_vocab=None):\n",
    "    dataset = NLI_Dataset(path_to_snli, train=train, vocab=vocab, label_vocab=label_vocab)\n",
    "    dataloader = DataLoader(dataset,\n",
    "                            batch_size=batch_size,\n",
    "                            shuffle=True,\n",
    "                            collate_fn=nli_pad_fn)\n",
    "    if train==True:\n",
    "        return dataloader, dataset.vocab, dataset.label_vocab\n",
    "    else:\n",
    "        return dataloader"
   ]
  },
  {
   "cell_type": "markdown",
   "metadata": {},
   "source": [
    "## 2. Model"
   ]
  },
  {
   "cell_type": "markdown",
   "metadata": {},
   "source": [
    "In this part, we'll build the model for predicting the relationship between H and P.\n",
    "\n",
    "We will process each sentence using an LSTM. Then, we will construct some representation of the sentence. When we have a representation for H and P, we will combine them into one vector which we can use to predict the relationship."
   ]
  },
  {
   "cell_type": "markdown",
   "metadata": {},
   "source": [
    "We will train a model described in [2], the BiLSTM with max-pooling model. The procedure for the model is roughly:\n",
    "\n",
    "    1) Encode the Hypothesis and the Premise using one shared bidirectional LSTM (or two different LSTMS)\n",
    "    2) Perform max over the tokens in the premise and the hypothesis\n",
    "    3) Combine the encoded premise and encoded hypothesis into one representation\n",
    "    4) Predict the relationship "
   ]
  },
  {
   "cell_type": "markdown",
   "metadata": {},
   "source": [
    "### Creating a representation of a sentence\n",
    "\n",
    "Let's first consider step 2 where we perform max/mean pooling. There is a function in pytorch for this, but we'll implement it from scratch. \n",
    "\n",
    "Let's consider the general case, what we want to do for these methods is apply some function $f$ along dimension $i$, and we want to do this for all $i$'s. As an example we consider the matrix S with size ``(N, D)`` where N is the number of words and D the number of dimensions:\n",
    "\n",
    "$S = \\begin{bmatrix}\n",
    "    s_{11} & s_{12} & s_{13} & \\dots  & s_{1d} \\\\\n",
    "    s_{21} & s_{22} & s_{23} & \\dots  & s_{2d} \\\\\n",
    "    \\vdots & \\vdots & \\vdots & \\ddots & \\vdots \\\\\n",
    "    s_{n1} & s_{n2} & s_{n3} & \\dots  & s_{nd}\n",
    "\\end{bmatrix}$\n",
    "\n",
    "What we want to do is apply our function $f$ on each dimension, taking the input $s_{1d}, s_{2d}, ..., s_{nd}$ and generating the output $x_d$. \n",
    "\n",
    "You will implement both the max pooling method. When performing max-pooling, $max$ will be the function which selects a _maximum_ value from a vector and $x$ is the output, thus for each dimension $d$ in our output $x$ we get:\n",
    "\n",
    "\\begin{equation}\n",
    "    x_d = max(s_{1d}, s_{2d}, ..., s_{nd})\n",
    "\\end{equation}\n",
    "\n",
    "\n",
    "This operation will reduce a batch of size ``(batch_size, num_words, dimensions)`` to ``(batch_size, dimensions)`` meaning that we now have created a sentence representation based on the content of the words representations in the sentence. \n",
    "\n",
    "Create a function that takes as input a tensor of size ``(batch_size, num_words, dimensions)`` then performs max pooling and returns the result (the output should be of size: ```(batch_size, dimensions)```). [**4 Marks**]"
   ]
  },
  {
   "cell_type": "code",
   "execution_count": 66,
   "metadata": {},
   "outputs": [],
   "source": [
    "def pooling(input_tensor):\n",
    "    output_tensor = torch.max(input_tensor, 1)[0] \n",
    "    return output_tensor"
   ]
  },
  {
   "cell_type": "markdown",
   "metadata": {},
   "source": [
    "### Combining sentence representations\n",
    "\n",
    "Next, we need to combine the premise and hypothesis into one representation. We will do this by concatenating four tensors (the final size of our tensor $X$ should be ``(batch_size, 4d)`` where ``d`` is the number of dimensions that you use): \n",
    "\n",
    "$$X = [P; H; |P-H|; P \\cdot H]$$\n",
    "\n",
    "Here, what we do is concatenating P, H, P times H, and the absolute value of P minus H, then return the result.\n",
    "\n",
    "Implement the function. **[2 marks]**"
   ]
  },
  {
   "cell_type": "code",
   "execution_count": 67,
   "metadata": {},
   "outputs": [],
   "source": [
    "def combine_premise_and_hypothesis(premise, hypothesis):\n",
    "    p_minus_h = torch.sub(premise, hypothesis)\n",
    "    p_times_h = torch.stack([torch.mul(premise[i],hypothesis[i])for i in range(len(premise))])\n",
    "    output = torch.cat((premise, hypothesis, p_minus_h, p_times_h), 1)\n",
    "    return output"
   ]
  },
  {
   "cell_type": "markdown",
   "metadata": {},
   "source": [
    "### Creating the model\n",
    "\n",
    "Finally, we can build the model according to the procedure given previously by using the functions we defined above. Additionaly, in the model you should use *dropout*. For efficiency purposes, it's acceptable to only train the model with either max or mean pooling. \n",
    "\n",
    "Implement the model [**6 marks**]"
   ]
  },
  {
   "cell_type": "code",
   "execution_count": 68,
   "metadata": {},
   "outputs": [],
   "source": [
    "class SNLIModel(nn.Module):\n",
    "    def __init__(self, vocab_size, embedding_dims, hidden_dims, n_labels, pad_index=0, dropout=0.1):\n",
    "        super(SNLIModel, self).__init__()\n",
    "        \n",
    "        self.pad_index = pad_index\n",
    "        self.embeddings = nn.Embedding(vocab_size, \n",
    "                                       embedding_dims, \n",
    "                                       padding_idx=pad_index)\n",
    "        self.rnn = nn.LSTM(embedding_dims, \n",
    "                           hidden_dims, \n",
    "                           bidirectional=True,\n",
    "                           batch_first=True)\n",
    "        self.dropout = nn.Dropout(dropout)\n",
    "        self.classifier = nn.Linear(hidden_dims*8, n_labels) \n",
    "        \n",
    "    def forward(self, premise, hypothesis):\n",
    "        p_embedded = self.embeddings(premise)\n",
    "        h_embedded = self.embeddings(hypothesis)\n",
    "        \n",
    "        p = self.dropout(p_embedded)  \n",
    "        h = self.dropout(h_embedded)  \n",
    "        \n",
    "        p, _ = self.rnn(p)\n",
    "        h, _ = self.rnn(h)\n",
    "         \n",
    "        p_pooled = pooling(p)\n",
    "        h_pooled = pooling(h)\n",
    "        \n",
    "        ph_representation = combine_premise_and_hypothesis(p_pooled,h_pooled)\n",
    "        predictions = self.classifier(ph_representation)\n",
    "        \n",
    "        return predictions"
   ]
  },
  {
   "cell_type": "markdown",
   "metadata": {},
   "source": [
    "## 3. Training and testing"
   ]
  },
  {
   "cell_type": "markdown",
   "metadata": {},
   "source": [
    "As before, implement the training and testing of the model. SNLI can take a very long time to train, so I suggest you only run it for one or two epochs. **[2 marks]** \n",
    "\n",
    "**Tip for efficiency:** *when developing your model, try training and testing the model on one batch (for each epoch) of data to make sure everything works! It's very annoying if you train for N epochs to find out that something went wrong when testing the model, or to find that something goes wrong when moving from epoch 0 to epoch 1.*"
   ]
  },
  {
   "cell_type": "code",
   "execution_count": 76,
   "metadata": {},
   "outputs": [],
   "source": [
    "# Hyperparameters:\n",
    "epochs = 3\n",
    "batch_size = 4\n",
    "embedding_dims = 128\n",
    "hidden_dims = 128\n",
    "dropout = 0.1\n",
    "learning_rate = 0.001"
   ]
  },
  {
   "cell_type": "code",
   "execution_count": 75,
   "metadata": {},
   "outputs": [],
   "source": [
    "# Load data:\n",
    "train_iter, vocab, label_vocab = dataloader(train_path, batch_size)\n",
    "test_iter = dataloader(test_path, batch_size, train=False, vocab=vocab, label_vocab=label_vocab)"
   ]
  },
  {
   "cell_type": "code",
   "execution_count": 77,
   "metadata": {},
   "outputs": [
    {
     "name": "stdout",
     "output_type": "stream",
     "text": [
      "Defaulting to user installation because normal site-packages is not writeable\r\n",
      "Requirement already satisfied: nvidia-cudnn-cu11==8.5.0.96 in /home/gussodato@GU.GU.SE/.local/lib/python3.10/site-packages (8.5.0.96)\r\n",
      "Requirement already satisfied: nvidia-cublas-cu11 in /home/gussodato@GU.GU.SE/.local/lib/python3.10/site-packages (from nvidia-cudnn-cu11==8.5.0.96) (11.10.3.66)\r\n",
      "Requirement already satisfied: setuptools in /usr/lib/python3.10/site-packages (from nvidia-cublas-cu11->nvidia-cudnn-cu11==8.5.0.96) (59.6.0)\r\n",
      "Requirement already satisfied: wheel in /usr/local/lib/python3.10/site-packages (from nvidia-cublas-cu11->nvidia-cudnn-cu11==8.5.0.96) (0.40.0)\r\n"
     ]
    }
   ],
   "source": [
    "!pip install nvidia-cudnn-cu11==8.5.0.96  # To keep cudnn from throwing errors all the time."
   ]
  },
  {
   "cell_type": "code",
   "execution_count": 78,
   "metadata": {},
   "outputs": [],
   "source": [
    "model = SNLIModel(len(vocab), embedding_dims, hidden_dims, len(label_vocab), dropout=dropout).to(device)\n",
    "loss_function = nn.CrossEntropyLoss(reduction='mean').to(device)\n",
    "optimizer = optim.Adam(model.parameters(), lr=learning_rate) "
   ]
  },
  {
   "cell_type": "code",
   "execution_count": 79,
   "metadata": {},
   "outputs": [
    {
     "data": {
      "application/vnd.jupyter.widget-view+json": {
       "model_id": "cbf8669b54384ba3812847d28e76b05f",
       "version_major": 2,
       "version_minor": 0
      },
      "text/plain": [
       "  0%|          | 0/3 [00:00<?, ?it/s]"
      ]
     },
     "metadata": {},
     "output_type": "display_data"
    },
    {
     "name": "stdout",
     "output_type": "stream",
     "text": [
      "accuracy: 0.721564\n"
     ]
    }
   ],
   "source": [
    "for epoch in tqdm(range(epochs)):\n",
    "    model.train()\n",
    "    total_loss = 0\n",
    "    for i, batch in enumerate(train_iter):\n",
    "         \n",
    "        gold_labels = torch.Tensor([example[0] for example in batch]).long().to(device)\n",
    "        premises = torch.Tensor([example[1] for example in batch]).long().to(device)\n",
    "        hypotheses = torch.Tensor([example[2] for example in batch]).long().to(device)\n",
    "                  \n",
    "        output = model(premises, hypotheses)\n",
    "                  \n",
    "        loss = loss_function(output, gold_labels)\n",
    "        total_loss += loss.item()\n",
    "        \n",
    "        loss.backward()\n",
    "                  \n",
    "        optimizer.step()\n",
    "                  \n",
    "        optimizer.zero_grad()             \n",
    "                         \n",
    "        \n",
    "        if (i%100) == 0:\n",
    "            print('total_loss:', round(total_loss / (i + 1), 4), end='\\r')\n",
    "            \n",
    "\n",
    "# save trained model\n",
    "pickle.dump(model, open('nli_model.pickle', 'wb'))\n",
    "    \n",
    "# test model after all epochs are completed\n",
    "accuracies = []\n",
    "for batch in test_iter:\n",
    "    gold_labels = [example[0] for example in batch]\n",
    "    premises = torch.Tensor([example[1] for example in batch]).long().to(device)\n",
    "    hypotheses = torch.Tensor([example[2] for example in batch]).long().to(device)\n",
    "    output = model(premises, hypotheses).cpu().numpy(force=True)\n",
    "    model_predictions = [np.argmax(output[i]) for i in range(len(batch))]\n",
    "    batch_accuracies = [int(gold_labels[i] == model_predictions[i]) for i in range(len(batch))]\n",
    "    accuracies.extend(batch_accuracies)\n",
    "\n",
    "print('accuracy:', sum(accuracies)/len(accuracies))\n"
   ]
  },
  {
   "cell_type": "markdown",
   "metadata": {},
   "source": [
    "Suggest a _baseline_ that we can compare our model against **[2 marks]**"
   ]
  },
  {
   "cell_type": "markdown",
   "metadata": {},
   "source": [
    "**Your answer should go here**"
   ]
  },
  {
   "cell_type": "markdown",
   "metadata": {},
   "source": [
    "**Answer:**\n",
    "- We could treat it as a simple document classification task and use logistic regression on tf-idf vectors. \n",
    "- We could use the hypothesis only baseline [(Poliak et al., 2018)](https://aclanthology.org/S18-2023/). This way, we can see if the model is in fact learning a relationship between two inputs or if it is simply picking up on statistical irregularities in the dataset."
   ]
  },
  {
   "cell_type": "markdown",
   "metadata": {},
   "source": [
    "Suggest some ways (other than using a baseline) in which we can analyse the models performance **[4 marks]**."
   ]
  },
  {
   "cell_type": "markdown",
   "metadata": {},
   "source": [
    "**Your answer should go here**"
   ]
  },
  {
   "cell_type": "markdown",
   "metadata": {},
   "source": [
    "**Answer:**\n",
    "A tricky thing when it comes to NLI is that it is hard to tell what exactly the model is learning - is it actually learning a logical relationship between two propositions, or is it basing its predictions on other cues, such as lexical similarity or statistical quirks due to how the dataset was constructed?\n",
    "\n",
    "One way to check if the predictions are based on similarity rather than actual inference, would be to treat the premise and hypothesis as bags of words and create vector representations for them. We can then measure cosine similarity between the vectors for the premise and the hypothesis and compare this to the model's predictions to see if the model's predictions are closely tied to the similarity of the sequences. If we do this, we should also compare this to the gold standard to see if there is a strong relationship between lexical similarity and entailment in the dataset itself, which would explain why the model has picked up on it.\n",
    "\n",
    "We should also test the model on other benchmarks than SNLI, to make sure that it is learning the actual task and not just relationships specific to this dataset or domain. "
   ]
  },
  {
   "cell_type": "markdown",
   "metadata": {},
   "source": [
    "Suggest some ways to improve the model **[3 marks]**."
   ]
  },
  {
   "cell_type": "markdown",
   "metadata": {},
   "source": [
    "**Your answer should go here**"
   ]
  },
  {
   "cell_type": "markdown",
   "metadata": {},
   "source": [
    "**Answer:**\n",
    "- This model architecture is relatively simple. Adding one or more extra layers and nonlinearities might improve the performance. \n",
    "- We used a rather small batch size when training, mainly because we have had problems with the gpu running out of memory before and didn't want to risk it. It is possible that a larger batch size would have led to better results, or at least more efficient training. \n",
    "- We only trained the model once, so we did not play around with different settings for any of the hyperparameters. If we had, we might have discovered a more optimal combination of eg batch size, embedding dimensions, dropout and learning rate. \n",
    "- We noticed that the training corpus contains a small (<1%) percentage of examples labeled `-`. This seems to be the examples where there was insufficient annotator agreement. With the label `-` present in the training data, this turned the task into a 4-class classification problem rather than 3-class, with the fourth class containing very few examples and the other three being balanced, which could potentially confuce the model. Removing the examples labeled `-` and treating the task as 3-class classification might have improved the model's performance."
   ]
  },
  {
   "cell_type": "markdown",
   "metadata": {},
   "source": [
    "## Readings\n",
    "\n",
    "[1] Samuel R. Bowman, Gabor Angeli, Christopher Potts, and Christopher D. Manning. 2015. A large annotated corpus for learning natural language inference. In Proceedings of the 2015 Conference on Empirical Methods in Natural Language Processing (EMNLP). \n",
    "\n",
    "[2] Conneau, A., Kiela, D., Schwenk, H., Barrault, L., & Bordes, A. (2017). Supervised learning of universal sentence representations from natural language inference data. arXiv preprint arXiv:1705.02364."
   ]
  },
  {
   "cell_type": "markdown",
   "metadata": {},
   "source": [
    "## Statement of contribution\n",
    "\n",
    "Briefly state how many times you have met for discussions, who was present, to what degree each member contributed to the discussion and the final answers you are submitting."
   ]
  },
  {
   "cell_type": "markdown",
   "metadata": {},
   "source": [
    "## Marks\n",
    "\n",
    "This assignment has a total of 23 marks."
   ]
  }
 ],
 "metadata": {
  "kernelspec": {
   "display_name": "Python 3 (ipykernel)",
   "language": "python",
   "name": "python3"
  },
  "language_info": {
   "codemirror_mode": {
    "name": "ipython",
    "version": 3
   },
   "file_extension": ".py",
   "mimetype": "text/x-python",
   "name": "python",
   "nbconvert_exporter": "python",
   "pygments_lexer": "ipython3",
   "version": "3.10.8"
  }
 },
 "nbformat": 4,
 "nbformat_minor": 2
}
