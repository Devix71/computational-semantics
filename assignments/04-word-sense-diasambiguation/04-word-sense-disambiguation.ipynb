{
 "cells": [
  {
   "cell_type": "markdown",
   "metadata": {},
   "source": [
    "# A4: Word Sense Disambiguation using Neural Networks\n",
    "Adam Ek\n",
    "\n",
    "The lab is an exploration and learning exercise to be done in a group and also in discussion with the teachers and other students.\n",
    "\n",
    "Write all your answers and the code in the appropriate boxes below.\n",
    "\n",
    "\n",
    "A problem with static distributional vectors is the difficulty of distinguishing between different *word senses*. We will continue our exploration of word vectors by considering *trainable vectors* or *word embeddings* for Word Sense Disambiguation (WSD).\n",
    "\n",
    "The goal of word sense disambiguation is to train a model to find the sense of a word (homonyms of a word-form). For example, the word \"bank\" can mean \"sloping land\" or \"financial institution\". \n",
    "\n",
    "(a) \"I deposited my money in the **bank**\" (financial institution)\n",
    "\n",
    "(b) \"I swam from the river **bank**\" (sloping land)\n",
    "\n",
    "In case a) and b) we can determine that the meaning of \"bank\" based on the *context*. To utilize context in a semantic model we use *contextualized word representations*. Previously we worked with *static word representations*, i.e. the representation does not depend on the context. To illustrate we can consider sentences (a) and (b), the word **bank** would have the same static representation in both sentences, which means that it becomes difficult for us to predict its sense. What we want is to create representations that depend on the context, i.e. *contextualized embeddings*. \n",
    "\n",
    "We will create contextualized embeddings with Recurrent Neural Networks. You can read more about recurrent neural netoworks [here](https://colah.github.io/posts/2015-08-Understanding-LSTMs/). Your overall task in this lab is to create a neural network model that can disambiguate the word sense of 30 different words. "
   ]
  },
  {
   "cell_type": "code",
   "execution_count": 1,
   "metadata": {},
   "outputs": [],
   "source": [
    "# first we import some packages that we need\n",
    "import torch\n",
    "import torch.nn as nn\n",
    "# import torchtext\n",
    "from torch.utils.data import DataLoader, Dataset\n",
    "\n",
    "# our hyperparameters (add more when/if you need them)\n",
    "device = torch.device('cuda:0')\n",
    "\n",
    "batch_size = 8\n",
    "learning_rate = 0.001\n",
    "epochs = 3"
   ]
  },
  {
   "cell_type": "markdown",
   "metadata": {},
   "source": [
    "# 1. Working with data\n",
    "\n",
    "A central part of any machine learning system is the data we're working with. In this section we will split the data (the dataset is located here: ``wsd-data/wsd_data.txt``) into a training set and a test set. We will also create a baseline to compare our model against. Finally, we will use TorchText to transform our data (raw text) into a convenient format that our neural network can work with."
   ]
  },
  {
   "cell_type": "markdown",
   "metadata": {},
   "source": [
    "## Data\n",
    "\n",
    "The dataset we will use contain different word sense for 30 different words. The data is organized as follows (values separated by tabs): \n",
    "- Column 1: word-sense\n",
    "- Column 2: word-form\n",
    "- Column 3: index of word\n",
    "- Column 4: white-space tokenized context"
   ]
  },
  {
   "cell_type": "markdown",
   "metadata": {},
   "source": [
    "### Splitting the data\n",
    "\n",
    "Your first task is to seperate the data into a *training set* and a *test set*. The training set should contain 80% of the examples and the test set the remaining 20%. The examples for the test/training set should be selected **randomly**. Save each dataset into a .csv file for loading later. **[2 marks]**"
   ]
  },
  {
   "cell_type": "code",
   "execution_count": 2,
   "metadata": {},
   "outputs": [],
   "source": [
    "import pandas as pd\n",
    "def data_split(path_to_dataset):\n",
    "    with open(path_to_dataset) as f:\n",
    "        lines = [line.split('\\t') for line in f]\n",
    "    df = pd.DataFrame(lines)\n",
    "    df_test = df.sample(frac=0.2)\n",
    "    df_train = df.drop(df_test.index)\n",
    "    df_test.to_csv('test.csv')\n",
    "    df_train.to_csv('train.csv')\n",
    "    return\n",
    "data_split('wsd_data.txt')"
   ]
  },
  {
   "cell_type": "markdown",
   "metadata": {},
   "source": [
    "### Creating a baseline\n",
    "\n",
    "Your second task is to create a *baseline* for the task. A baseline is a \"reality check\" for a model, given a very simple heuristic/algorithmic/model solution to the problem, can our neural network perform better than this?\n",
    "The baseline you are to create is the \"most common sense\" (MCS) baseline. For each word form, find the most commonly assigned sense to the word, and label a words with that sense. **[2 marks]**\n",
    "\n",
    "E.g. In a fictional dataset, \"bank\" have two senses, \"financial institution\" which occur 5 times and \"side of river\" 3 times. Thus, all 8 occurences of bank is labeled \"financial institution\" and this yields an MCS accuracy of 5/8 = 62.5%. If a model obtain a higher score than this, we can conclude that the model *at least* is better than selecting the most frequent word sense."
   ]
  },
  {
   "cell_type": "code",
   "execution_count": 4,
   "metadata": {},
   "outputs": [],
   "source": [
    "def mcs_baseline(data):\n",
    "    '''Takes data in the form of a pandas DataFrame and returns a dictionay mapping\n",
    "    from word form to most common word sense.\n",
    "    '''\n",
    "    df_grouped = data.groupby('1')\n",
    "    mapping = {}\n",
    "    for group in df_grouped:\n",
    "        mapping[group[0].split('.')[0]] = group[1].mode()['0'][0]\n",
    "    return mapping  "
   ]
  },
  {
   "cell_type": "code",
   "execution_count": 5,
   "metadata": {},
   "outputs": [
    {
     "data": {
      "text/plain": [
       "{'active': 'active%5:00:00:involved:00',\n",
       " 'bad': 'bad%5:00:00:intense:00',\n",
       " 'bring': 'bring%2:38:00::',\n",
       " 'build': 'build%2:36:00::',\n",
       " 'case': 'case%1:11:00::',\n",
       " 'common': 'common%3:00:02::',\n",
       " 'critical': 'critical%3:00:01::',\n",
       " 'extend': 'extend%2:30:01::',\n",
       " 'find': 'find%2:32:01::',\n",
       " 'follow': 'follow%2:41:00::',\n",
       " 'force': 'force%1:07:02::',\n",
       " 'hold': 'hold%2:31:01::',\n",
       " 'keep': 'keep%2:41:03::',\n",
       " 'lead': 'lead%2:41:00::',\n",
       " 'life': 'life%1:28:02::',\n",
       " 'line': 'line%1:04:01::',\n",
       " 'major': 'major%3:00:07::',\n",
       " 'national': 'national%3:00:01::',\n",
       " 'order': 'order%1:10:00::',\n",
       " 'physical': 'physical%3:01:00::',\n",
       " 'place': 'place%1:15:04::',\n",
       " 'point': 'point%1:09:01::',\n",
       " 'position': 'position%1:15:00::',\n",
       " 'positive': 'positive%3:00:01::',\n",
       " 'professional': 'professional%3:00:01::',\n",
       " 'regular': 'regular%5:00:00:scheduled:00',\n",
       " 'security': 'security%1:21:04::',\n",
       " 'see': 'see%2:31:00::',\n",
       " 'serve': 'serve%2:42:01::',\n",
       " 'time': 'time%1:11:00::'}"
      ]
     },
     "execution_count": 5,
     "metadata": {},
     "output_type": "execute_result"
    }
   ],
   "source": [
    "test = pd.read_csv('test.csv', index_col=0)\n",
    "mcs_baseline(test)"
   ]
  },
  {
   "cell_type": "markdown",
   "metadata": {},
   "source": [
    "### Creating data iterators\n",
    "\n",
    "To train a neural network, we first need to prepare the data. This involves converting words (and labels) to a number, and organizing the data into batches. We also want the ability to shuffle the examples such that they appear in a random order.  \n",
    "\n",
    "To do all of this we will use the torchtext library (https://torchtext.readthedocs.io/en/latest/index.html). In addition to converting our data into numerical form and creating batches, it will generate a word and label vocabulary, and data iterators than can sort and shuffle the examples. \n",
    "\n",
    "Your task is to create a dataloader for the training and test set you created previously. So, how do we go about doing this?\n",
    "\n",
    "1) First we create a ``Field`` for each of our columns. A field is a function which tokenize the input, keep a dictionary of word-to-numbers, and fix paddings. So, we need four fields, one for the word-sense, one for the position, one for the lemma and one for the context. \n",
    "\n",
    "2) After we have our fields, we need to process the data. For this we use the ``TabularDataset`` class. We pass the name and path of the training and test files we created previously, then we assign which field to use in each column. The result is that each column will be processed by the field indicated. So, the context column will be tokenized and processed by the context field and so on. \n",
    "\n",
    "3) After we have processed the dataset we need to build the vocabulary, for this we call the function ``build_vocab()`` on the different ``Fields`` with the output from ``TabularDataset`` as input. This looks at our dataset and creates the necessary vocabularies (word-to-number mappings). \n",
    "\n",
    "4) Finally, the last step. In the last step we load the data objects given by the ``TabularDataset`` and pass it to the ``BucketIterator`` class. This class will organize our examples into batches and shuffle them around (such that for each epoch the model observe the examples in a different order). When we are done with this we can let our function return the data iterators and vocabularies, then we are ready to train and test our model!\n",
    "\n",
    "Implement the dataloader. [**2 marks**]\n",
    "\n",
    "*hint: for TabularDataset and BucketIterator use the class function splits()* "
   ]
  },
  {
   "cell_type": "code",
   "execution_count": 3,
   "metadata": {},
   "outputs": [],
   "source": [
    "class Vocab:\n",
    "    def __init__(self, tokens, pad_token='PAD', unk_token='UNK'):\n",
    "        self.tokens = tokens+[unk_token]\n",
    "        self.i2t = {i: t for i, t in enumerate(self.tokens, start=1)}\n",
    "        self.i2t[0] = pad_token\n",
    "        self.t2i = {v: k for k, v in self.i2t.items()}\n",
    "        \n",
    "    def __len__(self):\n",
    "        return len(self.tokens)\n",
    "    \n",
    "    def __getitem__(self, x):\n",
    "        if type(x) == str:\n",
    "            return self.t2i[x]\n",
    "        if type(x) == int:\n",
    "            return self.i2t[x]"
   ]
  },
  {
   "cell_type": "code",
   "execution_count": 16,
   "metadata": {},
   "outputs": [],
   "source": [
    "class WSD_Dataset(Dataset):\n",
    "    def __init__(self, csv_file,\n",
    "                 train=True,\n",
    "                 unk_token='UNK',\n",
    "                 pad_token='PAD',\n",
    "                 vocab=None,\n",
    "                 sense_vocab=None):\n",
    "        \n",
    "        self.unk_token = unk_token\n",
    "        self.pad_token = pad_token\n",
    "        self.alldata = pd.read_csv(csv_file, index_col=0)\n",
    "        \n",
    "        self.senses = [sense for sense in self.alldata['0']]\n",
    "        self.words = [line.split('.')[0] for line in self.alldata['1']]\n",
    "        self.indices = [int(x) for x in self.alldata['2']]\n",
    "        self.contexts = [line.lower().split() for line in self.alldata['3']]\n",
    "        \n",
    "        if train:\n",
    "            self.tokens = list(set([token for line in self.contexts for token in line]))\n",
    "            self.vocab = Vocab(self.tokens, pad_token=self.pad_token, unk_token=self.unk_token)    \n",
    "            self.sense_vocab = Vocab(list(set(self.senses)))\n",
    "            self.int_contexts = [[self.vocab[word] for word in seq] for seq in self.contexts]\n",
    "        \n",
    "        else:\n",
    "            self.vocab = vocab\n",
    "            self.sense_vocab = sense_vocab\n",
    "            self.int_contexts = [[self.vocab[word] if word in self.vocab else self.vocab[self.unk_token] for word in seq] for seq in self.contexts]\n",
    "            \n",
    "        self.int_senses = [self.sense_vocab[sense] for sense in self.senses]\n",
    "        \n",
    "    \n",
    "    def __getitem__(self, idx):\n",
    "        \n",
    "        return (self.int_senses[idx], self.indices[idx], self.int_contexts[idx])\n",
    "\n",
    "    def __len__(self):\n",
    "        return len(self.int_senses)"
   ]
  },
  {
   "cell_type": "code",
   "execution_count": 19,
   "metadata": {},
   "outputs": [],
   "source": [
    "def pad_fn(data):\n",
    "    lengths = [len(x[2]) for x in data]\n",
    "    max_len = max(lengths)\n",
    "    padded_data = [(x[0], x[1], [w for w in x[2]+[0]*(max_len-len(x[2]))]) for x in data]\n",
    "    return padded_data\n",
    "\n",
    "def dataloader(path_to_csv, batch_size, train=True): \n",
    "    dataset = WSD_Dataset(path_to_csv, train=train)\n",
    "    dataloader = DataLoader(dataset,\n",
    "                            batch_size=batch_size,\n",
    "                            shuffle=True,\n",
    "                            collate_fn=pad_fn)\n",
    "    \n",
    "    return dataloader, dataset.vocab"
   ]
  },
  {
   "cell_type": "code",
   "execution_count": 20,
   "metadata": {},
   "outputs": [
    {
     "name": "stdout",
     "output_type": "stream",
     "text": [
      "pad_index = 0\n",
      "Batch size: 8\n",
      "(190, 31, [3771, 23417, 12135, 12398, 2819, 7644, 12135, 12398, 2819, 20005, 7644, 2819, 23088, 33861, 6583, 31828, 22206, 32995, 30771, 7230, 22206, 2819, 7644, 2819, 30606, 34164, 23849, 17527, 23938, 2302, 31828, 14252, 22149, 23088, 26546, 15315, 30262, 15241, 23088, 26943, 2819, 23088, 23771, 18084, 31599, 14381, 31828, 23444, 7644, 0, 0, 0, 0, 0, 0, 0, 0, 0, 0, 0, 0, 0, 0, 0, 0, 0, 0, 0, 0, 0, 0, 0, 0, 0, 0, 0, 0, 0, 0, 0, 0, 0, 0, 0, 0, 0, 0, 0, 0, 0, 0, 0, 0, 0, 0, 0, 0, 0, 0, 0, 0, 0, 0, 0, 0, 0, 0, 0, 0, 0, 0, 0, 0, 0, 0, 0, 0, 0, 0, 0])\n",
      "context length: 120\n",
      "(102, 66, [25964, 7814, 23088, 27100, 2819, 23088, 12751, 2819, 26070, 15315, 34383, 20933, 2656, 30606, 25771, 18189, 27287, 25497, 29957, 3620, 10873, 25795, 23088, 10887, 6759, 22301, 2819, 10887, 26070, 22206, 15315, 35219, 23088, 30285, 35391, 30970, 31828, 11833, 2928, 35391, 4059, 22206, 15315, 23088, 9607, 2819, 32673, 35391, 32756, 10887, 26070, 18189, 20929, 25497, 29957, 3620, 19277, 35391, 33472, 23088, 35019, 2819, 34383, 15315, 6904, 15315, 30794, 15241, 11224, 1079, 22206, 30785, 23088, 22147, 2819, 4081, 21625, 18189, 25358, 25497, 29957, 19384, 29697, 4979, 30606, 28388, 2819, 12751, 24832, 16399, 22206, 15315, 35219, 18783, 23088, 10801, 2819, 24287, 18626, 18189, 13734, 25497, 29957, 0, 0, 0, 0, 0, 0, 0, 0, 0, 0, 0, 0, 0, 0, 0, 0, 0])\n",
      "context length: 120\n",
      "(104, 27, [23088, 11530, 8671, 33633, 35391, 10887, 6759, 2402, 2819, 28096, 35391, 30970, 31828, 2873, 28992, 31828, 11288, 14790, 20768, 6759, 15315, 16639, 7274, 31599, 1712, 9867, 13446, 28893, 23088, 27100, 2819, 23088, 5342, 31828, 11121, 33633, 16349, 31828, 11833, 2928, 22206, 6425, 12568, 31599, 2033, 23088, 20683, 2819, 2921, 22206, 32454, 6378, 4979, 23088, 27100, 2819, 23088, 11121, 33633, 35563, 16938, 2013, 256, 22149, 23088, 20771, 31599, 0, 0, 0, 0, 0, 0, 0, 0, 0, 0, 0, 0, 0, 0, 0, 0, 0, 0, 0, 0, 0, 0, 0, 0, 0, 0, 0, 0, 0, 0, 0, 0, 0, 0, 0, 0, 0, 0, 0, 0, 0, 0, 0, 0, 0, 0, 0, 0, 0, 0, 0, 0, 0])\n",
      "context length: 120\n",
      "(168, 34, [2033, 23088, 20683, 2819, 11527, 2819, 22209, 30489, 22206, 23088, 35019, 15315, 31828, 18171, 11314, 5150, 35391, 27887, 4203, 22206, 15241, 4465, 1397, 32514, 7849, 32948, 16481, 23088, 16614, 31599, 23088, 33107, 10023, 2756, 15416, 1798, 33633, 9458, 22206, 30785, 23088, 26374, 11960, 6793, 31828, 3887, 19318, 15416, 22206, 35391, 6308, 11314, 31599, 29714, 20818, 20952, 15315, 35439, 25348, 9480, 23088, 25377, 2819, 23771, 25762, 27739, 4979, 9397, 24130, 31828, 2819, 29714, 3431, 30026, 13323, 4100, 34387, 29714, 15289, 13618, 31599, 0, 0, 0, 0, 0, 0, 0, 0, 0, 0, 0, 0, 0, 0, 0, 0, 0, 0, 0, 0, 0, 0, 0, 0, 0, 0, 0, 0, 0, 0, 0, 0, 0, 0, 0, 0, 0, 0, 0])\n",
      "context length: 120\n",
      "(102, 30, [23088, 29655, 2819, 7002, 5342, 5910, 23219, 27970, 35391, 27558, 23088, 9390, 2819, 23088, 32673, 31828, 14627, 23088, 25094, 34278, 9458, 31599, 23088, 27970, 20933, 17829, 33472, 8910, 32673, 10873, 30794, 15241, 23088, 23771, 18084, 32809, 907, 7002, 22206, 1798, 33238, 5910, 3197, 15315, 2317, 15458, 31599, 1756, 10976, 31901, 4979, 9887, 26201, 35391, 14627, 23088, 9178, 35391, 2873, 21669, 6694, 31828, 9886, 6665, 35391, 10887, 6759, 31828, 358, 23088, 14204, 2819, 10887, 6759, 23714, 2081, 35391, 27645, 9458, 7847, 16799, 9887, 26201, 35391, 13232, 14450, 23714, 12119, 31599, 0, 0, 0, 0, 0, 0, 0, 0, 0, 0, 0, 0, 0, 0, 0, 0, 0, 0, 0, 0, 0, 0, 0, 0, 0, 0, 0, 0, 0, 0, 0])\n",
      "context length: 120\n",
      "(214, 70, [23088, 20490, 12095, 6568, 18810, 35391, 23088, 6031, 31729, 1959, 2819, 23088, 4587, 32809, 30496, 22206, 23855, 15241, 29714, 27351, 4979, 26953, 16481, 33895, 31828, 29714, 27788, 35391, 23088, 25371, 15600, 22206, 22817, 5191, 27848, 15315, 11931, 31828, 12224, 22206, 15315, 22853, 35391, 33423, 22206, 4614, 31828, 8165, 31599, 33710, 22206, 23088, 33354, 20601, 7999, 30708, 21756, 22206, 34974, 31828, 27087, 15407, 35391, 32604, 23088, 27788, 4979, 23088, 10801, 2819, 31729, 17894, 35391, 33567, 23088, 4587, 32809, 22206, 23855, 15241, 23088, 27788, 6945, 22206, 9867, 17955, 23938, 27848, 15315, 2845, 14343, 23771, 18084, 20201, 31599, 23088, 19556, 20601, 7999, 30708, 27087, 31828, 31652, 22817, 27848, 15315, 33423, 22206, 4614, 31828, 8165, 31599, 0, 0, 0, 0, 0, 0, 0, 0])\n",
      "context length: 120\n",
      "(116, 70, [23088, 25018, 2819, 28041, 18051, 15315, 16133, 22206, 35445, 31828, 16936, 9867, 23938, 6912, 15315, 10639, 28462, 28041, 13142, 23088, 23444, 11934, 18626, 31828, 27037, 5342, 6946, 22206, 19109, 21381, 18189, 31628, 2819, 20350, 25497, 31599, 31628, 8267, 13132, 31828, 5803, 17398, 19495, 15315, 23088, 33335, 5342, 3015, 22206, 19109, 13823, 18189, 19405, 25497, 18189, 6811, 25497, 22206, 1798, 8671, 16799, 25870, 15396, 907, 545, 33335, 24515, 15315, 31792, 2819, 7299, 7556, 31599, 22209, 17398, 19657, 4979, 23088, 29127, 2819, 7556, 2819, 7299, 7556, 22206, 19109, 19405, 22646, 15472, 2819, 7299, 14084, 31828, 33389, 18189, 15472, 2819, 3196, 31828, 7128, 25497, 31599, 0, 0, 0, 0, 0, 0, 0, 0, 0, 0, 0, 0, 0, 0, 0, 0, 0, 0])\n",
      "context length: 120\n",
      "(15, 76, [16294, 16667, 32096, 24855, 29731, 12246, 28977, 33040, 2819, 23088, 6885, 2819, 30569, 20318, 2672, 35391, 29714, 24816, 2754, 22646, 6679, 9351, 30569, 30259, 2672, 8688, 30569, 18693, 2672, 8688, 30569, 22110, 2672, 13142, 29714, 26719, 2819, 22102, 15688, 35040, 29563, 22206, 21036, 8864, 3430, 5199, 12817, 22817, 34278, 21256, 31599, 32896, 17398, 29714, 11530, 808, 2819, 23088, 27743, 2819, 13307, 22206, 11590, 13307, 22206, 4979, 6814, 28673, 1798, 24130, 27887, 15285, 2373, 23687, 16799, 1212, 20683, 31599, 15315, 12383, 978, 581, 28977, 4778, 2819, 23088, 9254, 31828, 30270, 31548, 2819, 15234, 22206, 29714, 8397, 13696, 9480, 23088, 27545, 35391, 11029, 3557, 22206, 29714, 30285, 35391, 33980, 8908, 10308, 20300, 23088, 3751, 2819, 23501, 8688, 2819, 10812, 23088, 14647, 31599])\n",
      "context length: 120\n"
     ]
    }
   ],
   "source": [
    "# checking that it works:\n",
    "\n",
    "dataloader, vocab = dataloader('test.csv', batch_size)\n",
    "print('pad_index =', vocab.t2i['PAD'])\n",
    "for i, batch in enumerate(dataloader):\n",
    "    print('Batch size:', len(batch)) \n",
    "    for example in batch:\n",
    "        print(example)\n",
    "        print('context length:', len(example[2]))\n",
    "  # Only look at first batch.\n",
    "    break"
   ]
  },
  {
   "cell_type": "markdown",
   "metadata": {},
   "source": [
    "# 2.1 Creating and running a Neural Network for WSD\n",
    "\n",
    "In this section we will create and run a neural network to predict word senses based on *contextualized representations*."
   ]
  },
  {
   "cell_type": "markdown",
   "metadata": {},
   "source": [
    "### Model\n",
    "\n",
    "We will use a bidirectional Long-Short-Term Memory (LSTM) network to create a representation for the sentences and a Linear classifier to predict the sense of each word.\n",
    "\n",
    "When we initialize the model, we need a few things:\n",
    "\n",
    "    1) An embedding layer: a dictionary from which we can obtain word embeddings\n",
    "    2) A LSTM-module to obtain contextual representations\n",
    "    3) A classifier that compute scores for each word-sense given *some* input\n",
    "\n",
    "\n",
    "The general procedure is the following:\n",
    "\n",
    "    1) For each word in the sentence, obtain word embeddings\n",
    "    2) Run the embedded sentences through the RNN\n",
    "    3) Select the appropriate hidden state\n",
    "    4) Predict the word-sense \n",
    "\n",
    "**Suggestion for efficiency:**  *Use a low dimensionality (32) for word embeddings and the LSTM when developing and testing the code, then scale up when running the full training/tests*\n",
    "    \n",
    "Your tasks will be to create two different models (both follow the two outlines described above), described below:"
   ]
  },
  {
   "cell_type": "markdown",
   "metadata": {},
   "source": [
    "In the first approach to WSD, you are to select the index of our target word (column 3 in the dataset) and predict the word sense. **[5 marks]**\n"
   ]
  },
  {
   "cell_type": "code",
   "execution_count": null,
   "metadata": {},
   "outputs": [],
   "source": [
    "class WSDModel_approach1(nn.Module):\n",
    "    def __init__(self, ...):\n",
    "        # your code goes here\n",
    "        self.embeddings = ...\n",
    "        self.rnn = ...\n",
    "        self.classifier = ...\n",
    "    \n",
    "    def forward(self, batch):\n",
    "        # your code goes here\n",
    "        \n",
    "        return predictions"
   ]
  },
  {
   "cell_type": "markdown",
   "metadata": {},
   "source": [
    "In the second approach to WSD, you are to predict the word sense based on the final hidden state given by the RNN. **[5 marks]**"
   ]
  },
  {
   "cell_type": "code",
   "execution_count": null,
   "metadata": {},
   "outputs": [],
   "source": [
    "class WSDModel_approach2(nn.Module):\n",
    "    def __init__(self, ...):\n",
    "        # your code goes here\n",
    "    \n",
    "    def forward(self, ...):\n",
    "        # your code goes here\n",
    "        \n",
    "        return predictions"
   ]
  },
  {
   "cell_type": "markdown",
   "metadata": {},
   "source": [
    "### Training and testing the model\n",
    "\n",
    "Now we are ready to train and test our model. What we need now is a loss function, an optimizer, and our data. \n",
    "\n",
    "- First, create the loss function and the optimizer.\n",
    "- Next, we iterate over the number of epochs (i.e. how many times we let the model see our data). \n",
    "- For each epoch, iterate over the dataset (``train_iter``) to obtain batches. Use the batch as input to the model, and let the model output scores for the different word senses.\n",
    "- For each model output, calculate the loss (and print the loss) on the output and update the model parameters.\n",
    "- Reset the gradients and repeat.\n",
    "- After all epochs are done, test your trained model on the test set (``test_iter``) and calculate the total and per-word-form accuracy of your model.\n",
    "\n",
    "Implement the training and testing of the model **[4 marks]**\n",
    "\n",
    "**Suggestion for efficiency:** *when developing your model, try training and testing the model on one or two batches (for each epoch) of data to make sure everything works! It's very annoying if you train for N epochs to find out that something went wrong when testing the model, or to find that something goes wrong when moving from epoch 0 to epoch 1.*"
   ]
  },
  {
   "cell_type": "code",
   "execution_count": null,
   "metadata": {},
   "outputs": [],
   "source": [
    "train_iter, test_iter, vocab, labels = dataloader(path_to_folder)\n",
    "\n",
    "loss_function = ...\n",
    "optimizer = ...\n",
    "model = ...\n",
    "\n",
    "for _ in range(epochs):\n",
    "    # train model\n",
    "    ...\n",
    "    \n",
    "# test model after all epochs are completed"
   ]
  },
  {
   "cell_type": "markdown",
   "metadata": {},
   "source": [
    "# 2.2 Running a transformer for WSD"
   ]
  },
  {
   "cell_type": "markdown",
   "metadata": {},
   "source": [
    "In this section of the lab you'll try out the transformer, specifically the BERT model. For this we'll use the huggingface library (https://huggingface.co/).\n",
    "\n",
    "You can find the documentation for the BERT model here (https://huggingface.co/transformers/model_doc/bert.html) and a general usage guide here (https://huggingface.co/transformers/quickstart.html).\n",
    "\n",
    "What we're going to do is *fine-tune* the BERT model, i.e. update the weights of a pre-trained model. That is, we have a model that is trained on language modeling, but now we apply it to word sense disambiguation with the word representations it learnt from language modeling.\n",
    "\n",
    "We'll use the same data splits for training and testing as before, but this time you'll not use a torchtext dataloader. Rather now you create an iterator that collects N sentences (where N is the batch size) then use the BertTokenizer to transform the sentence into integers. For your dataloader, remember to:\n",
    "* Shuffle the data in each batch\n",
    "* Make sure you get a new iterator for each *epoch*\n",
    "* Create a vocabulary of *sense-labels* so you can calculate accuracy \n",
    "\n",
    "We then pass this batch into the BERT model and train as before. The BERT model will encode the sentence, then we send this encoded sentence into a prediction layer (you can either use the sentence-representation from bert, or the ambiguous word) like before and collect sense predictions.\n",
    "\n",
    "About the hyperparameters and training:\n",
    "* For BERT, usually a lower learning rate works best, between 0.0001-0.000001.\n",
    "* BERT takes alot of resources, running it on CPU will take ages, utilize the GPUs :)\n",
    "* Since BERT takes alot of resources, use a small batch size (4-8)\n",
    "* Computing the BERT representation, make sure you pass the mask\n",
    "\n",
    "**[10 marks]**"
   ]
  },
  {
   "cell_type": "code",
   "execution_count": null,
   "metadata": {},
   "outputs": [],
   "source": [
    "def dataloader_for_bert(path_to_file, batch_size):\n",
    "    ..."
   ]
  },
  {
   "cell_type": "code",
   "execution_count": null,
   "metadata": {},
   "outputs": [],
   "source": [
    "class BERT_WSD(nn.Module):\n",
    "    def __init__(self, ...):\n",
    "        # your code goes here\n",
    "        self.bert = ...\n",
    "        self.classifier = ...\n",
    "    \n",
    "    def forward(self, batch):\n",
    "        # your code goes here\n",
    "        \n",
    "        return predictions"
   ]
  },
  {
   "cell_type": "code",
   "execution_count": null,
   "metadata": {},
   "outputs": [],
   "source": [
    "loss_function = ...\n",
    "optimizer = ...\n",
    "model = ...\n",
    "\n",
    "for _ in range(epochs):\n",
    "    # train model\n",
    "    ...\n",
    "    \n",
    "# test model after all epochs are completed"
   ]
  },
  {
   "cell_type": "markdown",
   "metadata": {},
   "source": [
    "# 3. Evaluation"
   ]
  },
  {
   "cell_type": "markdown",
   "metadata": {},
   "source": [
    "Explain the difference between the first and second approach. What kind of representations are the different approaches using to predict word-senses? **[4 marks]**"
   ]
  },
  {
   "cell_type": "code",
   "execution_count": null,
   "metadata": {},
   "outputs": [],
   "source": []
  },
  {
   "cell_type": "markdown",
   "metadata": {},
   "source": [
    "Evaluate your model with per-word-form *accuracy* and comment on the results you get, how does the model perform in comparison to the baseline, and how do the models compare to each other? \n",
    "\n",
    "Expand on the evaluation by sorting the word-forms by the number of senses they have. Are word-forms with fewer senses easier to predict? Give a short explanation of the results you get based on the number of senses per word.\n",
    "\n",
    "**[6 marks]**"
   ]
  },
  {
   "cell_type": "markdown",
   "metadata": {},
   "source": [
    "How does the LSTMs perform in comparison to BERT? What's the difference between representations obtained by the LSTMs and BERT? **[2 marks]**"
   ]
  },
  {
   "cell_type": "code",
   "execution_count": null,
   "metadata": {},
   "outputs": [],
   "source": []
  },
  {
   "cell_type": "markdown",
   "metadata": {},
   "source": [
    "What could we do to improve our LSTM word sense disambiguation models and our BERT model? **[4 marks]**"
   ]
  },
  {
   "cell_type": "code",
   "execution_count": null,
   "metadata": {},
   "outputs": [],
   "source": []
  },
  {
   "cell_type": "markdown",
   "metadata": {},
   "source": [
    "# Readings\n",
    "\n",
    "[1] Kågebäck, M., & Salomonsson, H. (2016). Word Sense Disambiguation using a Bidirectional LSTM. arXiv preprint arXiv:1606.03568.\n",
    "\n",
    "[2] https://cl.lingfil.uu.se/~nivre/master/NLP-LexSem.pdf"
   ]
  },
  {
   "cell_type": "markdown",
   "metadata": {},
   "source": [
    "## Statement of contribution\n",
    "\n",
    "Briefly state how many times you have met for discussions, who was present, to what degree each member contributed to the discussion and the final answers you are submitting."
   ]
  },
  {
   "cell_type": "markdown",
   "metadata": {},
   "source": [
    "## Marks\n",
    "\n",
    "This assignment has a total of 46 marks."
   ]
  }
 ],
 "metadata": {
  "kernelspec": {
   "display_name": "Python 3 (ipykernel)",
   "language": "python",
   "name": "python3"
  },
  "language_info": {
   "codemirror_mode": {
    "name": "ipython",
    "version": 3
   },
   "file_extension": ".py",
   "mimetype": "text/x-python",
   "name": "python",
   "nbconvert_exporter": "python",
   "pygments_lexer": "ipython3",
   "version": "3.10.8"
  }
 },
 "nbformat": 4,
 "nbformat_minor": 2
}
