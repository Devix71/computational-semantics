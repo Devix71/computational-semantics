{
 "cells": [
  {
   "cell_type": "markdown",
   "metadata": {},
   "source": [
    "# A4: Word Sense Disambiguation using Neural Networks\n",
    "Adam Ek\n",
    "\n",
    "The lab is an exploration and learning exercise to be done in a group and also in discussion with the teachers and other students.\n",
    "\n",
    "Write all your answers and the code in the appropriate boxes below.\n",
    "\n",
    "\n",
    "A problem with static distributional vectors is the difficulty of distinguishing between different *word senses*. We will continue our exploration of word vectors by considering *trainable vectors* or *word embeddings* for Word Sense Disambiguation (WSD).\n",
    "\n",
    "The goal of word sense disambiguation is to train a model to find the sense of a word (homonyms of a word-form). For example, the word \"bank\" can mean \"sloping land\" or \"financial institution\". \n",
    "\n",
    "(a) \"I deposited my money in the **bank**\" (financial institution)\n",
    "\n",
    "(b) \"I swam from the river **bank**\" (sloping land)\n",
    "\n",
    "In case a) and b) we can determine that the meaning of \"bank\" based on the *context*. To utilize context in a semantic model we use *contextualized word representations*. Previously we worked with *static word representations*, i.e. the representation does not depend on the context. To illustrate we can consider sentences (a) and (b), the word **bank** would have the same static representation in both sentences, which means that it becomes difficult for us to predict its sense. What we want is to create representations that depend on the context, i.e. *contextualized embeddings*. \n",
    "\n",
    "We will create contextualized embeddings with Recurrent Neural Networks. You can read more about recurrent neural netoworks [here](https://colah.github.io/posts/2015-08-Understanding-LSTMs/). Your overall task in this lab is to create a neural network model that can disambiguate the word sense of 30 different words. "
   ]
  },
  {
   "cell_type": "code",
   "execution_count": 5,
   "metadata": {},
   "outputs": [],
   "source": [
    "# first we import some packages that we need\n",
    "import torch\n",
    "import torch.nn as nn\n",
    "# import torchtext\n",
    "from torch.utils.data import DataLoader, Dataset\n",
    "import pickle\n",
    "import torch.optim as optim\n",
    "import pandas as pd\n",
    "\n",
    "# our hyperparameters (add more when/if you need them)\n",
    "device = torch.device('cuda:0')\n",
    "\n",
    "batch_size = 8\n",
    "learning_rate = 0.001\n",
    "epochs = 3"
   ]
  },
  {
   "cell_type": "markdown",
   "metadata": {},
   "source": [
    "# 1. Working with data\n",
    "\n",
    "A central part of any machine learning system is the data we're working with. In this section we will split the data (the dataset is located here: ``wsd-data/wsd_data.txt``) into a training set and a test set. We will also create a baseline to compare our model against. Finally, we will use TorchText to transform our data (raw text) into a convenient format that our neural network can work with."
   ]
  },
  {
   "cell_type": "markdown",
   "metadata": {},
   "source": [
    "## Data\n",
    "\n",
    "The dataset we will use contain different word sense for 30 different words. The data is organized as follows (values separated by tabs): \n",
    "- Column 1: word-sense\n",
    "- Column 2: word-form\n",
    "- Column 3: index of word\n",
    "- Column 4: white-space tokenized context"
   ]
  },
  {
   "cell_type": "markdown",
   "metadata": {},
   "source": [
    "### Splitting the data\n",
    "\n",
    "Your first task is to seperate the data into a *training set* and a *test set*. The training set should contain 80% of the examples and the test set the remaining 20%. The examples for the test/training set should be selected **randomly**. Save each dataset into a .csv file for loading later. **[2 marks]**"
   ]
  },
  {
   "cell_type": "code",
   "execution_count": 3,
   "metadata": {},
   "outputs": [],
   "source": [
    "def data_split(path_to_dataset):\n",
    "    with open(path_to_dataset) as f:\n",
    "        lines = [line.split('\\t') for line in f]\n",
    "    df = pd.DataFrame(lines)\n",
    "    df_test = df.sample(frac=0.2)\n",
    "    df_train = df.drop(df_test.index)\n",
    "    df_test.to_csv('test.csv')\n",
    "    df_train.to_csv('train.csv')\n",
    "    return\n",
    "data_split('wsd_data.txt')"
   ]
  },
  {
   "cell_type": "markdown",
   "metadata": {},
   "source": [
    "### Creating a baseline\n",
    "\n",
    "Your second task is to create a *baseline* for the task. A baseline is a \"reality check\" for a model, given a very simple heuristic/algorithmic/model solution to the problem, can our neural network perform better than this?\n",
    "The baseline you are to create is the \"most common sense\" (MCS) baseline. For each word form, find the most commonly assigned sense to the word, and label a words with that sense. **[2 marks]**\n",
    "\n",
    "E.g. In a fictional dataset, \"bank\" have two senses, \"financial institution\" which occur 5 times and \"side of river\" 3 times. Thus, all 8 occurences of bank is labeled \"financial institution\" and this yields an MCS accuracy of 5/8 = 62.5%. If a model obtain a higher score than this, we can conclude that the model *at least* is better than selecting the most frequent word sense."
   ]
  },
  {
   "cell_type": "code",
   "execution_count": 4,
   "metadata": {},
   "outputs": [],
   "source": [
    "def mcs_baseline(data):\n",
    "    '''Takes data in the form of a pandas DataFrame and returns a dictionay mapping\n",
    "    from word form to most common word sense.\n",
    "    '''\n",
    "    df_grouped = data.groupby('1')\n",
    "    mapping = {}\n",
    "    for group in df_grouped:\n",
    "        mapping[group[0].split('.')[0]] = group[1].mode()['0'][0]\n",
    "    return mapping  "
   ]
  },
  {
   "cell_type": "code",
   "execution_count": 5,
   "metadata": {},
   "outputs": [
    {
     "data": {
      "text/plain": [
       "{'active': 'active%5:00:00:involved:00',\n",
       " 'bad': 'bad%5:00:00:intense:00',\n",
       " 'bring': 'bring%2:38:00::',\n",
       " 'build': 'build%2:36:00::',\n",
       " 'case': 'case%1:11:00::',\n",
       " 'common': 'common%3:00:02::',\n",
       " 'critical': 'critical%3:00:03::',\n",
       " 'extend': 'extend%2:40:04::',\n",
       " 'find': 'find%2:40:02::',\n",
       " 'follow': 'follow%2:40:00::',\n",
       " 'force': 'force%1:07:02::',\n",
       " 'hold': 'hold%2:40:04::',\n",
       " 'keep': 'keep%2:41:03::',\n",
       " 'lead': 'lead%2:38:01::',\n",
       " 'life': 'life%1:26:01::',\n",
       " 'line': 'line%1:04:01::',\n",
       " 'major': 'major%3:00:06::',\n",
       " 'national': 'national%3:00:01::',\n",
       " 'order': 'order%1:14:00::',\n",
       " 'physical': 'physical%3:00:00::',\n",
       " 'place': 'place%1:04:01::',\n",
       " 'point': 'point%1:09:01::',\n",
       " 'position': 'position%1:26:02::',\n",
       " 'positive': 'positive%3:00:01::',\n",
       " 'professional': 'professional%3:01:00::',\n",
       " 'regular': 'regular%5:00:00:standard:02',\n",
       " 'security': 'security%1:26:00::',\n",
       " 'see': 'see%2:31:00::',\n",
       " 'serve': 'serve%2:42:03::',\n",
       " 'time': 'time%1:11:00::'}"
      ]
     },
     "execution_count": 5,
     "metadata": {},
     "output_type": "execute_result"
    }
   ],
   "source": [
    "test = pd.read_csv('test.csv', index_col=0)\n",
    "mcs_baseline(test)"
   ]
  },
  {
   "cell_type": "markdown",
   "metadata": {},
   "source": [
    "### Creating data iterators\n",
    "\n",
    "To train a neural network, we first need to prepare the data. This involves converting words (and labels) to a number, and organizing the data into batches. We also want the ability to shuffle the examples such that they appear in a random order.  \n",
    "\n",
    "To do all of this we will use the torchtext library (https://torchtext.readthedocs.io/en/latest/index.html). In addition to converting our data into numerical form and creating batches, it will generate a word and label vocabulary, and data iterators than can sort and shuffle the examples. \n",
    "\n",
    "Your task is to create a dataloader for the training and test set you created previously. So, how do we go about doing this?\n",
    "\n",
    "1) First we create a ``Field`` for each of our columns. A field is a function which tokenize the input, keep a dictionary of word-to-numbers, and fix paddings. So, we need four fields, one for the word-sense, one for the position, one for the lemma and one for the context. \n",
    "\n",
    "2) After we have our fields, we need to process the data. For this we use the ``TabularDataset`` class. We pass the name and path of the training and test files we created previously, then we assign which field to use in each column. The result is that each column will be processed by the field indicated. So, the context column will be tokenized and processed by the context field and so on. \n",
    "\n",
    "3) After we have processed the dataset we need to build the vocabulary, for this we call the function ``build_vocab()`` on the different ``Fields`` with the output from ``TabularDataset`` as input. This looks at our dataset and creates the necessary vocabularies (word-to-number mappings). \n",
    "\n",
    "4) Finally, the last step. In the last step we load the data objects given by the ``TabularDataset`` and pass it to the ``BucketIterator`` class. This class will organize our examples into batches and shuffle them around (such that for each epoch the model observe the examples in a different order). When we are done with this we can let our function return the data iterators and vocabularies, then we are ready to train and test our model!\n",
    "\n",
    "Implement the dataloader. [**2 marks**]\n",
    "\n",
    "*hint: for TabularDataset and BucketIterator use the class function splits()* "
   ]
  },
  {
   "cell_type": "code",
   "execution_count": 6,
   "metadata": {},
   "outputs": [],
   "source": [
    "class Vocab:\n",
    "    def __init__(self, tokens, pad_token='PAD', unk_token='UNK'):\n",
    "        self.tokens = tokens+[unk_token]\n",
    "        self.i2t = {i: t for i, t in enumerate(self.tokens, start=1)}\n",
    "        self.i2t[0] = pad_token\n",
    "        self.t2i = {v: k for k, v in self.i2t.items()}\n",
    "        \n",
    "    def __len__(self):\n",
    "        return len(self.tokens)\n",
    "    \n",
    "    def __getitem__(self, x):\n",
    "        if type(x) == str:\n",
    "            return self.t2i[x]\n",
    "        if type(x) == int:\n",
    "            return self.i2t[x]"
   ]
  },
  {
   "cell_type": "code",
   "execution_count": 21,
   "metadata": {},
   "outputs": [],
   "source": [
    "class WSD_Dataset(Dataset):\n",
    "    def __init__(self, csv_file,\n",
    "                 train=True,\n",
    "                 unk_token='UNK',\n",
    "                 pad_token='PAD',\n",
    "                 vocab=None,\n",
    "                 sense_vocab=None):\n",
    "        \n",
    "        self.unk_token = unk_token\n",
    "        self.pad_token = pad_token\n",
    "        self.alldata = pd.read_csv(csv_file, index_col=0)\n",
    "        \n",
    "        self.senses = [sense for sense in self.alldata['0']]\n",
    "        self.words = [line.split('.')[0] for line in self.alldata['1']]\n",
    "        self.indices = [int(x) for x in self.alldata['2']]\n",
    "        self.contexts = [line.lower().split() for line in self.alldata['3']]\n",
    "        \n",
    "        if train:\n",
    "            self.tokens = list(set([token for line in self.contexts for token in line]))\n",
    "            self.vocab = Vocab(self.tokens, pad_token=self.pad_token, unk_token=self.unk_token)    \n",
    "            self.sense_vocab = Vocab(list(set(self.senses)))\n",
    "            self.int_contexts = [[self.vocab[word] for word in seq] for seq in self.contexts]\n",
    "        \n",
    "        else:\n",
    "            self.vocab = vocab\n",
    "            self.sense_vocab = sense_vocab\n",
    "            self.int_contexts = [[self.vocab[word] if word in self.vocab.t2i else self.vocab[self.unk_token] for word in seq] for seq in self.contexts]\n",
    "            \n",
    "        self.int_senses = [self.sense_vocab[sense] for sense in self.senses]\n",
    "        \n",
    "    \n",
    "    def __getitem__(self, idx):\n",
    "        \n",
    "        return (self.int_senses[idx], self.indices[idx], self.int_contexts[idx])\n",
    "\n",
    "    def __len__(self):\n",
    "        return len(self.int_senses)"
   ]
  },
  {
   "cell_type": "code",
   "execution_count": 22,
   "metadata": {},
   "outputs": [],
   "source": [
    "def pad_fn(data):\n",
    "    lengths = [len(x[2]) for x in data]\n",
    "    max_len = max(lengths)\n",
    "    padded_data = [(x[0], x[1], [w for w in x[2]+[0]*(max_len-len(x[2]))]) for x in data]\n",
    "    return padded_data\n",
    "\n",
    "def data_load(path_to_csv, batch_size, train=True, vocab=None, sense_vocab=None): \n",
    "    dataset = WSD_Dataset(path_to_csv, train=train, vocab=vocab, sense_vocab=sense_vocab)\n",
    "    dataloader = DataLoader(dataset,\n",
    "                            batch_size=batch_size,\n",
    "                            shuffle=True,\n",
    "                            collate_fn=pad_fn)\n",
    "    if train==True:\n",
    "        return dataloader, dataset.vocab, dataset.sense_vocab\n",
    "    else:\n",
    "        return dataloader"
   ]
  },
  {
   "cell_type": "code",
   "execution_count": 18,
   "metadata": {},
   "outputs": [
    {
     "name": "stdout",
     "output_type": "stream",
     "text": [
      "pad_index = 0\n",
      "Batch size: 8\n",
      "(180, 103, [19620, 31775, 20146, 8520, 14174, 5000, 9812, 19620, 22246, 10346, 35727, 14174, 26606, 22680, 6520, 13109, 12425, 19620, 1825, 10346, 25051, 21260, 18752, 21260, 9504, 21260, 16130, 29147, 24646, 6253, 14174, 28019, 15505, 19620, 4732, 10346, 9504, 24080, 19620, 17468, 20146, 21137, 14276, 33387, 26606, 19545, 6520, 9504, 21260, 16290, 30701, 12644, 29967, 19916, 10642, 10346, 5474, 29967, 10346, 20460, 29967, 10346, 26238, 30420, 6520, 27847, 19620, 34889, 5000, 12427, 21260, 626, 29147, 20970, 10346, 23858, 19620, 4983, 9656, 19620, 30881, 10346, 23505, 31564, 19583, 23787, 33430, 29147, 19620, 21047, 4164, 19633, 14174, 27171, 29967, 10346, 12997, 14629, 6539, 4466, 34545, 9656, 19620, 27316, 10346, 19545, 29967, 23505, 29147, 29967, 12665, 20460, 15505, 19620, 4732, 14629, 30599, 27979, 34574, 15541, 19620, 1924, 26805, 6520, 34961, 4164, 23787, 15578, 25972, 34067, 14276, 4164, 16796, 26606, 24470, 19620, 34574, 25347, 29967, 16992, 19620, 13993, 32923, 10346, 23787, 20970, 29967, 23505, 6520, 28385, 4164, 13305, 18355, 6520, 16707, 25753, 14276, 20146, 32577, 25972, 6520, 34067, 14524, 10346, 4614, 5008, 6520, 10346, 18304, 29474, 19620, 12601, 10346, 1552, 14174, 7471, 28019, 29967, 14993, 22893, 6021, 26997, 10346, 23213, 14174, 30920, 4164, 24470, 15505])\n",
      "context length: 189\n",
      "(191, 33, [24106, 19671, 15763, 5916, 13572, 6520, 22564, 29431, 29196, 19620, 19018, 6520, 8235, 13166, 15505, 35176, 21373, 9610, 19671, 5728, 14174, 5247, 6520, 23604, 3400, 23383, 25972, 5728, 6520, 2691, 14174, 16091, 28696, 368, 29967, 13572, 17006, 29967, 4935, 11185, 15505, 24106, 19671, 15417, 8114, 25032, 6520, 15113, 30563, 29967, 10520, 10615, 8053, 15590, 15505, 0, 0, 0, 0, 0, 0, 0, 0, 0, 0, 0, 0, 0, 0, 0, 0, 0, 0, 0, 0, 0, 0, 0, 0, 0, 0, 0, 0, 0, 0, 0, 0, 0, 0, 0, 0, 0, 0, 0, 0, 0, 0, 0, 0, 0, 0, 0, 0, 0, 0, 0, 0, 0, 0, 0, 0, 0, 0, 0, 0, 0, 0, 0, 0, 0, 0, 0, 0, 0, 0, 0, 0, 0, 0, 0, 0, 0, 0, 0, 0, 0, 0, 0, 0, 0, 0, 0, 0, 0, 0, 0, 0, 0, 0, 0, 0, 0, 0, 0, 0, 0, 0, 0, 0, 0, 0, 0, 0, 0, 0, 0, 0, 0, 0, 0, 0, 0, 0, 0, 0, 0, 0, 0, 0, 0, 0, 0, 0, 0, 0, 0, 0, 0, 0])\n",
      "context length: 189\n",
      "(159, 30, [10520, 9709, 35029, 16073, 17006, 31352, 16707, 11185, 16035, 3883, 21260, 4164, 17819, 20758, 21804, 2661, 4164, 21364, 15227, 14346, 29967, 10346, 25267, 1316, 14174, 6446, 21749, 15505, 30849, 6523, 9504, 20852, 11389, 10346, 8086, 6520, 20306, 19620, 8323, 24449, 21260, 10520, 16424, 16707, 10346, 8086, 21754, 4164, 19566, 9011, 14174, 25821, 6209, 10642, 10659, 29059, 29967, 16992, 19620, 23397, 10346, 15333, 6520, 7887, 14174, 10346, 33466, 15505, 10346, 5363, 26928, 10346, 9504, 20852, 31394, 10642, 16519, 33457, 25267, 21260, 4164, 26811, 23172, 32809, 2728, 15509, 10665, 31909, 29967, 10346, 20797, 21260, 1166, 4164, 5728, 14174, 12344, 15505, 0, 0, 0, 0, 0, 0, 0, 0, 0, 0, 0, 0, 0, 0, 0, 0, 0, 0, 0, 0, 0, 0, 0, 0, 0, 0, 0, 0, 0, 0, 0, 0, 0, 0, 0, 0, 0, 0, 0, 0, 0, 0, 0, 0, 0, 0, 0, 0, 0, 0, 0, 0, 0, 0, 0, 0, 0, 0, 0, 0, 0, 0, 0, 0, 0, 0, 0, 0, 0, 0, 0, 0, 0, 0, 0, 0, 0, 0, 0, 0, 0, 0, 0, 0, 0, 0, 0, 0, 0, 0, 0])\n",
      "context length: 189\n",
      "(5, 12, [22413, 19583, 29137, 27571, 17960, 9504, 6520, 12635, 28720, 4136, 19671, 2738, 9504, 14276, 4164, 12065, 3723, 21260, 16330, 15505, 6026, 19671, 15890, 0, 0, 0, 0, 0, 0, 0, 0, 0, 0, 0, 0, 0, 0, 0, 0, 0, 0, 0, 0, 0, 0, 0, 0, 0, 0, 0, 0, 0, 0, 0, 0, 0, 0, 0, 0, 0, 0, 0, 0, 0, 0, 0, 0, 0, 0, 0, 0, 0, 0, 0, 0, 0, 0, 0, 0, 0, 0, 0, 0, 0, 0, 0, 0, 0, 0, 0, 0, 0, 0, 0, 0, 0, 0, 0, 0, 0, 0, 0, 0, 0, 0, 0, 0, 0, 0, 0, 0, 0, 0, 0, 0, 0, 0, 0, 0, 0, 0, 0, 0, 0, 0, 0, 0, 0, 0, 0, 0, 0, 0, 0, 0, 0, 0, 0, 0, 0, 0, 0, 0, 0, 0, 0, 0, 0, 0, 0, 0, 0, 0, 0, 0, 0, 0, 0, 0, 0, 0, 0, 0, 0, 0, 0, 0, 0, 0, 0, 0, 0, 0, 0, 0, 0, 0, 0, 0, 0, 0, 0, 0, 0, 0, 0, 0, 0, 0])\n",
      "context length: 189\n",
      "(48, 63, [9521, 17033, 5169, 14629, 13114, 33050, 12325, 13923, 29967, 10346, 4236, 19583, 4796, 14174, 10346, 11925, 11208, 22733, 17896, 21260, 29147, 19583, 9712, 21260, 2500, 3594, 21260, 29147, 8781, 23349, 22156, 10346, 11925, 17896, 6520, 34305, 14174, 21748, 33050, 591, 5816, 19583, 10346, 8606, 14174, 10346, 19647, 15505, 9521, 33092, 5169, 14629, 22287, 14174, 10346, 21818, 591, 21260, 29967, 4066, 19620, 11262, 19583, 24646, 8606, 14174, 10346, 10525, 21260, 5816, 19583, 10346, 8606, 14174, 10346, 4236, 15505, 9521, 18778, 5356, 5169, 14629, 2272, 756, 15120, 591, 16042, 10346, 33421, 19620, 31678, 32282, 7107, 29967, 10346, 0, 0, 0, 0, 0, 0, 0, 0, 0, 0, 0, 0, 0, 0, 0, 0, 0, 0, 0, 0, 0, 0, 0, 0, 0, 0, 0, 0, 0, 0, 0, 0, 0, 0, 0, 0, 0, 0, 0, 0, 0, 0, 0, 0, 0, 0, 0, 0, 0, 0, 0, 0, 0, 0, 0, 0, 0, 0, 0, 0, 0, 0, 0, 0, 0, 0, 0, 0, 0, 0, 0, 0, 0, 0, 0, 0, 0, 0, 0, 0, 0, 0, 0, 0, 0, 0, 0, 0, 0, 0, 0, 0, 0, 0])\n",
      "context length: 189\n",
      "(142, 57, [10346, 3929, 591, 24018, 26230, 10346, 19594, 30949, 29967, 2494, 25722, 27533, 21260, 1166, 10346, 31052, 27351, 14174, 10346, 15661, 21260, 29967, 30920, 4164, 1980, 34796, 19620, 12643, 10346, 8705, 3970, 14174, 17311, 12242, 15505, 14276, 30920, 8122, 34796, 10346, 30130, 14174, 32282, 21977, 29967, 35146, 10642, 8774, 26633, 30124, 6520, 10346, 13850, 14174, 4164, 9684, 14174, 8705, 10954, 29967, 35146, 10642, 8774, 18006, 35335, 21260, 10346, 3929, 591, 12377, 21260, 34796, 29293, 21260, 10642, 5000, 29226, 22167, 6088, 14174, 12242, 29147, 32282, 26501, 21260, 1166, 5000, 30920, 6088, 10346, 31492, 14174, 16424, 4176, 34574, 11197, 19583, 10346, 31151, 14174, 28019, 32312, 15505, 8774, 30124, 26633, 3824, 14174, 32282, 21977, 0, 0, 0, 0, 0, 0, 0, 0, 0, 0, 0, 0, 0, 0, 0, 0, 0, 0, 0, 0, 0, 0, 0, 0, 0, 0, 0, 0, 0, 0, 0, 0, 0, 0, 0, 0, 0, 0, 0, 0, 0, 0, 0, 0, 0, 0, 0, 0, 0, 0, 0, 0, 0, 0, 0, 0, 0, 0, 0, 0, 0, 0, 0, 0, 0, 0, 0, 0, 0, 0, 0, 0, 0, 0, 0, 0, 0, 0, 0])\n",
      "context length: 189\n",
      "(86, 44, [32568, 27238, 35491, 4938, 27847, 34574, 11869, 19620, 3162, 10346, 28921, 15700, 21260, 10346, 7690, 35684, 34574, 11869, 19620, 35035, 29147, 12343, 10346, 27975, 26195, 15505, 29967, 20211, 1667, 35083, 10346, 21189, 14174, 10346, 29196, 15700, 34543, 30849, 32230, 35649, 11853, 29386, 14276, 20211, 16707, 35649, 20791, 19620, 23707, 14174, 14629, 32230, 29967, 16992, 19620, 34889, 3647, 19620, 34574, 14119, 29967, 33457, 17499, 21458, 31451, 15505, 25944, 20299, 27571, 17409, 35684, 34574, 10346, 19493, 14174, 10346, 30791, 2871, 19620, 3642, 4164, 32856, 4092, 8758, 10346, 20032, 14174, 4164, 714, 26195, 21260, 6520, 33433, 19620, 3642, 4164, 21782, 32856, 4092, 8758, 10346, 5046, 14174, 30849, 32230, 15505, 0, 0, 0, 0, 0, 0, 0, 0, 0, 0, 0, 0, 0, 0, 0, 0, 0, 0, 0, 0, 0, 0, 0, 0, 0, 0, 0, 0, 0, 0, 0, 0, 0, 0, 0, 0, 0, 0, 0, 0, 0, 0, 0, 0, 0, 0, 0, 0, 0, 0, 0, 0, 0, 0, 0, 0, 0, 0, 0, 0, 0, 0, 0, 0, 0, 0, 0, 0, 0, 0, 0, 0, 0, 0, 0, 0, 0, 0, 0, 0, 0, 0, 0])\n",
      "context length: 189\n",
      "(26, 64, [19583, 10346, 29041, 25280, 21260, 10642, 5040, 19620, 2494, 8140, 14174, 10346, 6369, 29349, 21260, 5468, 7927, 10346, 33467, 3273, 13496, 19620, 19298, 13017, 14174, 10346, 20429, 26666, 21260, 16424, 15932, 34796, 10346, 12997, 22733, 24681, 8721, 31621, 30920, 16707, 34796, 21744, 23424, 10346, 26666, 14174, 10346, 28342, 5255, 14276, 12695, 824, 15505, 10346, 20016, 8103, 10520, 10346, 26666, 6539, 16042, 12127, 10346, 19109, 3735, 29967, 10346, 6369, 29349, 15505, 23287, 1605, 24237, 14629, 17409, 7321, 11853, 10802, 10346, 23858, 14276, 20342, 7125, 14174, 8192, 21350, 10642, 10346, 15134, 29474, 6520, 14629, 10346, 25119, 7321, 11853, 23424, 3306, 10346, 10615, 16926, 25944, 17409, 15505, 0, 0, 0, 0, 0, 0, 0, 0, 0, 0, 0, 0, 0, 0, 0, 0, 0, 0, 0, 0, 0, 0, 0, 0, 0, 0, 0, 0, 0, 0, 0, 0, 0, 0, 0, 0, 0, 0, 0, 0, 0, 0, 0, 0, 0, 0, 0, 0, 0, 0, 0, 0, 0, 0, 0, 0, 0, 0, 0, 0, 0, 0, 0, 0, 0, 0, 0, 0, 0, 0, 0, 0, 0, 0, 0, 0, 0, 0, 0, 0, 0, 0, 0, 0, 0])\n",
      "context length: 189\n"
     ]
    }
   ],
   "source": [
    "# checking that it works:\n",
    "\n",
    "dataloader, vocab, sense_vocab = data_load('test.csv', batch_size)\n",
    "print('pad_index =', vocab.t2i['PAD'])\n",
    "for i, batch in enumerate(dataloader):\n",
    "    print('Batch size:', len(batch)) \n",
    "    for example in batch:\n",
    "        print(example)\n",
    "        print('context length:', len(example[2]))\n",
    "  # Only look at first batch.\n",
    "    break"
   ]
  },
  {
   "cell_type": "markdown",
   "metadata": {},
   "source": [
    "# 2.1 Creating and running a Neural Network for WSD\n",
    "\n",
    "In this section we will create and run a neural network to predict word senses based on *contextualized representations*."
   ]
  },
  {
   "cell_type": "markdown",
   "metadata": {},
   "source": [
    "### Model\n",
    "\n",
    "We will use a bidirectional Long-Short-Term Memory (LSTM) network to create a representation for the sentences and a Linear classifier to predict the sense of each word.\n",
    "\n",
    "When we initialize the model, we need a few things:\n",
    "\n",
    "    1) An embedding layer: a dictionary from which we can obtain word embeddings\n",
    "    2) A LSTM-module to obtain contextual representations\n",
    "    3) A classifier that compute scores for each word-sense given *some* input\n",
    "\n",
    "\n",
    "The general procedure is the following:\n",
    "\n",
    "    1) For each word in the sentence, obtain word embeddings\n",
    "    2) Run the embedded sentences through the RNN\n",
    "    3) Select the appropriate hidden state\n",
    "    4) Predict the word-sense \n",
    "\n",
    "**Suggestion for efficiency:**  *Use a low dimensionality (32) for word embeddings and the LSTM when developing and testing the code, then scale up when running the full training/tests*\n",
    "    \n",
    "Your tasks will be to create two different models (both follow the two outlines described above), described below:"
   ]
  },
  {
   "cell_type": "markdown",
   "metadata": {},
   "source": [
    "In the first approach to WSD, you are to select the index of our target word (column 3 in the dataset) and predict the word sense. **[5 marks]**\n"
   ]
  },
  {
   "cell_type": "code",
   "execution_count": 3,
   "metadata": {},
   "outputs": [],
   "source": [
    "from IPython import embed"
   ]
  },
  {
   "cell_type": "code",
   "execution_count": 9,
   "metadata": {},
   "outputs": [],
   "source": [
    "class WSDModel_approach1(nn.Module):\n",
    "    def __init__(self, vocab_dims, embedding_dims, hidden_dims, n_senses, pad_index=0):\n",
    "        super(WSDModel_approach1, self).__init__()\n",
    "        \n",
    "        self.embeddings = nn.Embedding(num_embeddings=vocab_dims, \n",
    "                                               embedding_dim=embedding_dims,\n",
    "                                               padding_idx=pad_index)\n",
    "        self.rnn = nn.LSTM(embedding_dims, hidden_dims, batch_first=True)\n",
    "        self.classifier = nn.Linear(hidden_dims, n_senses)\n",
    "    \n",
    "    def forward(self, batch):\n",
    "        raise embed()\n",
    "        embedded_seq = self.embeddings(batch)\n",
    "        output, (h, c) = self.rnn(embedded_seq)\n",
    "        predictions = self.classifier(output)\n",
    "        \n",
    "        return predictions"
   ]
  },
  {
   "cell_type": "markdown",
   "metadata": {},
   "source": [
    "In the second approach to WSD, you are to predict the word sense based on the final hidden state given by the RNN. **[5 marks]**"
   ]
  },
  {
   "cell_type": "code",
   "execution_count": null,
   "metadata": {},
   "outputs": [],
   "source": [
    "class WSDModel_approach2(nn.Module):\n",
    "    def __init__(self, ...):\n",
    "        # your code goes here\n",
    "    \n",
    "    def forward(self, ...):\n",
    "        # your code goes here\n",
    "        \n",
    "        return predictions"
   ]
  },
  {
   "cell_type": "markdown",
   "metadata": {},
   "source": [
    "### Training and testing the model\n",
    "\n",
    "Now we are ready to train and test our model. What we need now is a loss function, an optimizer, and our data. \n",
    "\n",
    "- First, create the loss function and the optimizer.\n",
    "- Next, we iterate over the number of epochs (i.e. how many times we let the model see our data). \n",
    "- For each epoch, iterate over the dataset (``train_iter``) to obtain batches. Use the batch as input to the model, and let the model output scores for the different word senses.\n",
    "- For each model output, calculate the loss (and print the loss) on the output and update the model parameters.\n",
    "- Reset the gradients and repeat.\n",
    "- After all epochs are done, test your trained model on the test set (``test_iter``) and calculate the total and per-word-form accuracy of your model.\n",
    "\n",
    "Implement the training and testing of the model **[4 marks]**\n",
    "\n",
    "**Suggestion for efficiency:** *when developing your model, try training and testing the model on one or two batches (for each epoch) of data to make sure everything works! It's very annoying if you train for N epochs to find out that something went wrong when testing the model, or to find that something goes wrong when moving from epoch 0 to epoch 1.*"
   ]
  },
  {
   "cell_type": "code",
   "execution_count": 23,
   "metadata": {},
   "outputs": [],
   "source": [
    "train_iter, vocab, labels = data_load('train.csv', batch_size)\n",
    "test_iter = data_load('test.csv', batch_size, train=False, vocab=vocab, sense_vocab=labels)"
   ]
  },
  {
   "cell_type": "code",
   "execution_count": 26,
   "metadata": {},
   "outputs": [
    {
     "name": "stdout",
     "output_type": "stream",
     "text": [
      "pad_index = 0\n",
      "unk_index = 70155\n",
      "Batch size: 8\n",
      "(211, 70, [14193, 27802, 20268, 19336, 51532, 27802, 20268, 44547, 4902, 20268, 45178, 59644, 41673, 37712, 19336, 51532, 41673, 57978, 29941, 15988, 43119, 41673, 23695, 20839, 881, 27802, 20268, 36531, 27802, 61725, 38494, 57107, 63785, 41673, 68254, 20268, 56098, 828, 58769, 60949, 3717, 41673, 61725, 7703, 36268, 38494, 53175, 57142, 54584, 39578, 54779, 27802, 6466, 27975, 25711, 3767, 12653, 41025, 3767, 27802, 20268, 42636, 28665, 12684, 67812, 56599, 41673, 55908, 12653, 58769, 57579, 20839, 52133, 14965, 30429, 54096, 15843, 8127, 57439, 41673, 37712, 19336, 51532, 23695, 20839, 3008, 33355, 12653, 65562, 46539, 63496, 881, 58769, 33453, 38494, 50137, 8112, 12368, 6524, 14330, 59461, 54096, 20268, 29297, 27802, 60949, 3717, 45461, 33354, 62906, 58157, 8811, 21925, 41673, 32247, 10593, 7703, 4137, 20268, 36531, 27802, 61725, 12684, 54584, 30429])\n",
      "context length: 125\n",
      "unk in context: False\n",
      "(219, 53, [20268, 48350, 28115, 27975, 20268, 3075, 33354, 70155, 21925, 66219, 35687, 58769, 20268, 48350, 64445, 34141, 66219, 8112, 23551, 39141, 41673, 29557, 48035, 14193, 12653, 14604, 35038, 58769, 23753, 48035, 22914, 33354, 27806, 41673, 27809, 41673, 67987, 41673, 23784, 21925, 30429, 20268, 70155, 70155, 48350, 70064, 31299, 66219, 24020, 27802, 70155, 12653, 10014, 30050, 35038, 58769, 45289, 41673, 27603, 12653, 59537, 70064, 30429, 20268, 48350, 4856, 40083, 58769, 20268, 41286, 61264, 54096, 33579, 27802, 26431, 12653, 51305, 38418, 68670, 32720, 69820, 58769, 20268, 69756, 7262, 30429, 0, 0, 0, 0, 0, 0, 0, 0, 0, 0, 0, 0, 0, 0, 0, 0, 0, 0, 0, 0, 0, 0, 0, 0, 0, 0, 0, 0, 0, 0, 0, 0, 0, 0, 0, 0, 0, 0, 0])\n",
      "context length: 125\n",
      "unk in context: True\n",
      "(78, 45, [60437, 6443, 36765, 67812, 60437, 4025, 38418, 41520, 8112, 38494, 36744, 37818, 22173, 50913, 28679, 52222, 30429, 20268, 66520, 27802, 60599, 60437, 4025, 70027, 54641, 30594, 67812, 27802, 8112, 29336, 38857, 41673, 7348, 34141, 8127, 67812, 28665, 65047, 20268, 22173, 66219, 52222, 41673, 20268, 64111, 32698, 27802, 20268, 4025, 66219, 8576, 30429, 68580, 20268, 46620, 61639, 33514, 41673, 70155, 41673, 13491, 36427, 41673, 50062, 27707, 33354, 36962, 21925, 41673, 20603, 50062, 24956, 30429, 0, 0, 0, 0, 0, 0, 0, 0, 0, 0, 0, 0, 0, 0, 0, 0, 0, 0, 0, 0, 0, 0, 0, 0, 0, 0, 0, 0, 0, 0, 0, 0, 0, 0, 0, 0, 0, 0, 0, 0, 0, 0, 0, 0, 0, 0, 0, 0, 0, 0, 0, 0])\n",
      "context length: 125\n",
      "unk in context: True\n",
      "(135, 28, [47308, 2693, 12653, 47308, 29302, 20183, 25531, 39470, 20995, 38494, 20538, 58769, 20268, 9004, 9745, 64790, 6390, 13949, 68079, 41673, 8112, 25517, 65067, 62479, 38418, 20268, 44547, 28665, 55439, 54096, 20268, 13949, 27975, 25711, 50941, 38494, 54584, 64790, 6390, 13949, 12653, 7453, 20268, 47308, 52300, 12653, 49828, 30429, 20839, 20268, 716, 47763, 27802, 12379, 9004, 9745, 65246, 41673, 57547, 14193, 8068, 20268, 61540, 27802, 60437, 57260, 35419, 41673, 9309, 27802, 8112, 24054, 36030, 38494, 25497, 43747, 12653, 9812, 27802, 8112, 7737, 63147, 30429, 0, 0, 0, 0, 0, 0, 0, 0, 0, 0, 0, 0, 0, 0, 0, 0, 0, 0, 0, 0, 0, 0, 0, 0, 0, 0, 0, 0, 0, 0, 0, 0, 0, 0, 0, 0, 0, 0, 0, 0, 0, 0])\n",
      "context length: 125\n",
      "unk in context: False\n",
      "(134, 43, [33354, 17880, 21925, 66479, 21445, 41673, 33139, 12653, 44654, 20268, 70104, 13573, 58769, 20268, 57131, 34521, 54096, 9088, 70104, 12653, 66786, 20603, 60577, 12653, 39470, 61311, 50967, 33354, 2475, 21925, 69328, 12653, 50817, 58769, 20268, 2440, 52683, 27975, 20268, 61243, 46430, 27802, 20268, 44075, 13716, 27802, 62048, 15847, 41673, 2226, 38418, 33139, 25528, 5328, 12653, 63801, 27802, 57131, 60033, 11777, 67840, 51430, 20268, 33106, 12653, 61243, 23329, 27975, 20268, 46430, 27802, 20268, 44075, 13716, 27802, 62048, 15847, 50967, 33354, 35983, 21925, 33139, 68473, 12653, 10414, 17424, 20603, 60577, 58769, 33333, 38494, 31109, 43991, 49279, 12653, 38494, 33862, 20268, 48348, 54096, 45131, 12653, 56261, 49152, 27802, 23609, 30153, 12653, 37031, 30429, 0, 0, 0, 0, 0, 0, 0, 0, 0, 0, 0, 0, 0, 0, 0])\n",
      "context length: 125\n",
      "unk in context: False\n",
      "(175, 36, [30483, 69512, 5165, 8112, 22175, 27802, 26307, 12653, 29610, 14193, 20839, 9796, 38494, 51438, 30429, 58769, 64337, 25497, 64730, 66048, 51438, 27185, 12222, 54641, 36268, 41673, 70155, 2762, 12222, 54641, 51766, 54096, 49365, 10574, 12653, 2635, 38431, 69782, 27802, 4578, 12222, 54641, 19460, 30429, 25975, 41673, 5089, 25497, 64730, 16426, 54641, 25700, 20268, 70155, 61693, 27975, 51438, 15794, 12653, 16426, 54641, 9455, 2635, 51438, 19060, 38494, 70080, 30429, 0, 0, 0, 0, 0, 0, 0, 0, 0, 0, 0, 0, 0, 0, 0, 0, 0, 0, 0, 0, 0, 0, 0, 0, 0, 0, 0, 0, 0, 0, 0, 0, 0, 0, 0, 0, 0, 0, 0, 0, 0, 0, 0, 0, 0, 0, 0, 0, 0, 0, 0, 0, 0, 0, 0, 0, 0])\n",
      "context length: 125\n",
      "unk in context: True\n",
      "(186, 54, [25975, 34141, 66219, 20603, 28290, 20839, 20268, 70027, 12653, 20268, 50996, 27802, 20268, 21088, 67857, 27802, 37614, 3360, 32681, 19162, 12222, 50193, 58345, 27975, 8112, 25096, 12653, 27975, 15074, 58769, 20268, 60885, 27802, 23930, 38494, 20268, 29651, 57778, 30429, 60144, 55619, 41673, 68254, 22170, 68254, 60144, 12222, 8549, 41673, 38494, 34013, 5312, 9183, 38494, 65806, 24321, 54096, 60732, 12653, 60144, 31478, 2645, 54096, 60437, 29241, 21446, 58769, 33333, 38494, 68205, 13757, 45920, 27802, 40701, 12653, 68437, 24321, 38494, 15328, 64398, 20268, 66786, 12653, 49339, 28665, 49334, 12222, 22424, 38494, 68254, 3360, 30429, 58769, 23930, 41673, 60144, 31478, 42795, 61251, 27975, 60014, 5089, 62661, 12653, 60144, 31478, 11154, 30429, 0, 0, 0, 0, 0, 0, 0, 0, 0, 0, 0, 0, 0, 0, 0, 0, 0])\n",
      "context length: 125\n",
      "unk in context: False\n",
      "(15, 18, [10965, 20268, 10322, 52663, 41673, 423, 10011, 16541, 28665, 34141, 7703, 50913, 20268, 35337, 46764, 30429, 20268, 68077, 9494, 14237, 19258, 23348, 12653, 39270, 50913, 20268, 11378, 12653, 20883, 32028, 38494, 31996, 25711, 20268, 10093, 30429, 423, 65312, 38494, 24993, 47769, 50011, 12653, 70155, 20603, 3982, 20268, 16448, 70155, 41673, 20603, 3982, 69291, 17010, 27975, 38569, 30429, 0, 0, 0, 0, 0, 0, 0, 0, 0, 0, 0, 0, 0, 0, 0, 0, 0, 0, 0, 0, 0, 0, 0, 0, 0, 0, 0, 0, 0, 0, 0, 0, 0, 0, 0, 0, 0, 0, 0, 0, 0, 0, 0, 0, 0, 0, 0, 0, 0, 0, 0, 0, 0, 0, 0, 0, 0, 0, 0, 0, 0, 0, 0, 0, 0, 0, 0, 0])\n",
      "context length: 125\n",
      "unk in context: True\n"
     ]
    }
   ],
   "source": [
    "# Check that it works for the test set too:\n",
    "\n",
    "print('pad_index =', vocab.t2i['PAD'])\n",
    "print('unk_index =', vocab.t2i['UNK'])\n",
    "for i, batch in enumerate(test_iter):\n",
    "    print('Batch size:', len(batch)) \n",
    "    for example in batch:\n",
    "        print(example)\n",
    "        print('context length:', len(example[2]))\n",
    "        print('unk in context:', vocab.t2i['UNK'] in example[2])\n",
    "  # Only look at first batch.\n",
    "    break"
   ]
  },
  {
   "cell_type": "code",
   "execution_count": null,
   "metadata": {},
   "outputs": [],
   "source": [
    "\n",
    "\n",
    "loss_function = ...\n",
    "optimizer = ...\n",
    "model = ...\n",
    "\n",
    "for _ in range(epochs):\n",
    "    # train model\n",
    "    ...\n",
    "    \n",
    "# test model after all epochs are completed"
   ]
  },
  {
   "cell_type": "markdown",
   "metadata": {},
   "source": [
    "# 2.2 Running a transformer for WSD"
   ]
  },
  {
   "cell_type": "markdown",
   "metadata": {},
   "source": [
    "In this section of the lab you'll try out the transformer, specifically the BERT model. For this we'll use the huggingface library (https://huggingface.co/).\n",
    "\n",
    "You can find the documentation for the BERT model here (https://huggingface.co/transformers/model_doc/bert.html) and a general usage guide here (https://huggingface.co/transformers/quickstart.html).\n",
    "\n",
    "What we're going to do is *fine-tune* the BERT model, i.e. update the weights of a pre-trained model. That is, we have a model that is trained on language modeling, but now we apply it to word sense disambiguation with the word representations it learnt from language modeling.\n",
    "\n",
    "We'll use the same data splits for training and testing as before, but this time you'll not use a torchtext dataloader. Rather now you create an iterator that collects N sentences (where N is the batch size) then use the BertTokenizer to transform the sentence into integers. For your dataloader, remember to:\n",
    "* Shuffle the data in each batch\n",
    "* Make sure you get a new iterator for each *epoch*\n",
    "* Create a vocabulary of *sense-labels* so you can calculate accuracy \n",
    "\n",
    "We then pass this batch into the BERT model and train as before. The BERT model will encode the sentence, then we send this encoded sentence into a prediction layer (you can either use the sentence-representation from bert, or the ambiguous word) like before and collect sense predictions.\n",
    "\n",
    "About the hyperparameters and training:\n",
    "* For BERT, usually a lower learning rate works best, between 0.0001-0.000001.\n",
    "* BERT takes alot of resources, running it on CPU will take ages, utilize the GPUs :)\n",
    "* Since BERT takes alot of resources, use a small batch size (4-8)\n",
    "* Computing the BERT representation, make sure you pass the mask\n",
    "\n",
    "**[10 marks]**"
   ]
  },
  {
   "cell_type": "code",
   "execution_count": null,
   "metadata": {},
   "outputs": [],
   "source": [
    "def dataloader_for_bert(path_to_file, batch_size):\n",
    "    ..."
   ]
  },
  {
   "cell_type": "code",
   "execution_count": null,
   "metadata": {},
   "outputs": [],
   "source": [
    "class BERT_WSD(nn.Module):\n",
    "    def __init__(self, ...):\n",
    "        # your code goes here\n",
    "        self.bert = ...\n",
    "        self.classifier = ...\n",
    "    \n",
    "    def forward(self, batch):\n",
    "        # your code goes here\n",
    "        \n",
    "        return predictions"
   ]
  },
  {
   "cell_type": "code",
   "execution_count": null,
   "metadata": {},
   "outputs": [],
   "source": [
    "loss_function = ...\n",
    "optimizer = ...\n",
    "model = ...\n",
    "\n",
    "for _ in range(epochs):\n",
    "    # train model\n",
    "    ...\n",
    "    \n",
    "# test model after all epochs are completed"
   ]
  },
  {
   "cell_type": "markdown",
   "metadata": {},
   "source": [
    "# 3. Evaluation"
   ]
  },
  {
   "cell_type": "markdown",
   "metadata": {},
   "source": [
    "Explain the difference between the first and second approach. What kind of representations are the different approaches using to predict word-senses? **[4 marks]**"
   ]
  },
  {
   "cell_type": "code",
   "execution_count": null,
   "metadata": {},
   "outputs": [],
   "source": []
  },
  {
   "cell_type": "markdown",
   "metadata": {},
   "source": [
    "Evaluate your model with per-word-form *accuracy* and comment on the results you get, how does the model perform in comparison to the baseline, and how do the models compare to each other? \n",
    "\n",
    "Expand on the evaluation by sorting the word-forms by the number of senses they have. Are word-forms with fewer senses easier to predict? Give a short explanation of the results you get based on the number of senses per word.\n",
    "\n",
    "**[6 marks]**"
   ]
  },
  {
   "cell_type": "markdown",
   "metadata": {},
   "source": [
    "How does the LSTMs perform in comparison to BERT? What's the difference between representations obtained by the LSTMs and BERT? **[2 marks]**"
   ]
  },
  {
   "cell_type": "code",
   "execution_count": null,
   "metadata": {},
   "outputs": [],
   "source": []
  },
  {
   "cell_type": "markdown",
   "metadata": {},
   "source": [
    "What could we do to improve our LSTM word sense disambiguation models and our BERT model? **[4 marks]**"
   ]
  },
  {
   "cell_type": "code",
   "execution_count": null,
   "metadata": {},
   "outputs": [],
   "source": []
  },
  {
   "cell_type": "markdown",
   "metadata": {},
   "source": [
    "# Readings\n",
    "\n",
    "[1] Kågebäck, M., & Salomonsson, H. (2016). Word Sense Disambiguation using a Bidirectional LSTM. arXiv preprint arXiv:1606.03568.\n",
    "\n",
    "[2] https://cl.lingfil.uu.se/~nivre/master/NLP-LexSem.pdf"
   ]
  },
  {
   "cell_type": "markdown",
   "metadata": {},
   "source": [
    "## Statement of contribution\n",
    "\n",
    "Briefly state how many times you have met for discussions, who was present, to what degree each member contributed to the discussion and the final answers you are submitting."
   ]
  },
  {
   "cell_type": "markdown",
   "metadata": {},
   "source": [
    "## Marks\n",
    "\n",
    "This assignment has a total of 46 marks."
   ]
  }
 ],
 "metadata": {
  "kernelspec": {
   "display_name": "Python 3 (ipykernel)",
   "language": "python",
   "name": "python3"
  },
  "language_info": {
   "codemirror_mode": {
    "name": "ipython",
    "version": 3
   },
   "file_extension": ".py",
   "mimetype": "text/x-python",
   "name": "python",
   "nbconvert_exporter": "python",
   "pygments_lexer": "ipython3",
   "version": "3.10.8"
  }
 },
 "nbformat": 4,
 "nbformat_minor": 2
}
