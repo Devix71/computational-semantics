{
 "cells": [
  {
   "cell_type": "markdown",
   "metadata": {},
   "source": [
    "# A4: Word Sense Disambiguation using Neural Networks\n",
    "Adam Ek\n",
    "\n",
    "The lab is an exploration and learning exercise to be done in a group and also in discussion with the teachers and other students.\n",
    "\n",
    "Write all your answers and the code in the appropriate boxes below.\n",
    "\n",
    "\n",
    "A problem with static distributional vectors is the difficulty of distinguishing between different *word senses*. We will continue our exploration of word vectors by considering *trainable vectors* or *word embeddings* for Word Sense Disambiguation (WSD).\n",
    "\n",
    "The goal of word sense disambiguation is to train a model to find the sense of a word (homonyms of a word-form). For example, the word \"bank\" can mean \"sloping land\" or \"financial institution\". \n",
    "\n",
    "(a) \"I deposited my money in the **bank**\" (financial institution)\n",
    "\n",
    "(b) \"I swam from the river **bank**\" (sloping land)\n",
    "\n",
    "In case a) and b) we can determine that the meaning of \"bank\" based on the *context*. To utilize context in a semantic model we use *contextualized word representations*. Previously we worked with *static word representations*, i.e. the representation does not depend on the context. To illustrate we can consider sentences (a) and (b), the word **bank** would have the same static representation in both sentences, which means that it becomes difficult for us to predict its sense. What we want is to create representations that depend on the context, i.e. *contextualized embeddings*. \n",
    "\n",
    "We will create contextualized embeddings with Recurrent Neural Networks. You can read more about recurrent neural netoworks [here](https://colah.github.io/posts/2015-08-Understanding-LSTMs/). Your overall task in this lab is to create a neural network model that can disambiguate the word sense of 30 different words. "
   ]
  },
  {
   "cell_type": "code",
   "execution_count": null,
   "metadata": {},
   "outputs": [],
   "source": [
    "!pip install nvidia-cudnn-cu11==8.5.0.96"
   ]
  },
  {
   "cell_type": "code",
   "execution_count": 21,
   "metadata": {},
   "outputs": [],
   "source": [
    "# first we import some packages that we need\n",
    "import torch\n",
    "import torch.nn as nn\n",
    "# import torchtext\n",
    "from torch.utils.data import DataLoader, Dataset\n",
    "import pickle\n",
    "import torch.optim as optim\n",
    "import pandas as pd\n",
    "import numpy as np\n",
    "\n",
    "# our hyperparameters (add more when/if you need them)\n",
    "device = torch.device('cuda:3')\n",
    "\n",
    "batch_size = 8\n",
    "learning_rate = 0.001\n",
    "epochs = 3\n",
    "\n",
    "embedding_dims = 128\n",
    "hidden_dims = 128"
   ]
  },
  {
   "cell_type": "markdown",
   "metadata": {},
   "source": [
    "# 1. Working with data\n",
    "\n",
    "A central part of any machine learning system is the data we're working with. In this section we will split the data (the dataset is located here: ``wsd-data/wsd_data.txt``) into a training set and a test set. We will also create a baseline to compare our model against. Finally, we will use TorchText to transform our data (raw text) into a convenient format that our neural network can work with."
   ]
  },
  {
   "cell_type": "markdown",
   "metadata": {},
   "source": [
    "## Data\n",
    "\n",
    "The dataset we will use contain different word sense for 30 different words. The data is organized as follows (values separated by tabs): \n",
    "- Column 1: word-sense\n",
    "- Column 2: word-form\n",
    "- Column 3: index of word\n",
    "- Column 4: white-space tokenized context"
   ]
  },
  {
   "cell_type": "markdown",
   "metadata": {},
   "source": [
    "### Splitting the data\n",
    "\n",
    "Your first task is to seperate the data into a *training set* and a *test set*. The training set should contain 80% of the examples and the test set the remaining 20%. The examples for the test/training set should be selected **randomly**. Save each dataset into a .csv file for loading later. **[2 marks]**"
   ]
  },
  {
   "cell_type": "code",
   "execution_count": 3,
   "metadata": {},
   "outputs": [],
   "source": [
    "def data_split(path_to_dataset):\n",
    "    with open(path_to_dataset) as f:\n",
    "        lines = [line.split('\\t') for line in f]\n",
    "    df = pd.DataFrame(lines)\n",
    "    df_test = df.sample(frac=0.2)\n",
    "    df_train = df.drop(df_test.index)\n",
    "    df_test.to_csv('test.csv')\n",
    "    df_train.to_csv('train.csv')\n",
    "    return\n",
    "data_split('wsd_data.txt')"
   ]
  },
  {
   "cell_type": "markdown",
   "metadata": {},
   "source": [
    "### Creating a baseline\n",
    "\n",
    "Your second task is to create a *baseline* for the task. A baseline is a \"reality check\" for a model, given a very simple heuristic/algorithmic/model solution to the problem, can our neural network perform better than this?\n",
    "The baseline you are to create is the \"most common sense\" (MCS) baseline. For each word form, find the most commonly assigned sense to the word, and label a words with that sense. **[2 marks]**\n",
    "\n",
    "E.g. In a fictional dataset, \"bank\" have two senses, \"financial institution\" which occur 5 times and \"side of river\" 3 times. Thus, all 8 occurences of bank is labeled \"financial institution\" and this yields an MCS accuracy of 5/8 = 62.5%. If a model obtain a higher score than this, we can conclude that the model *at least* is better than selecting the most frequent word sense."
   ]
  },
  {
   "cell_type": "code",
   "execution_count": 4,
   "metadata": {},
   "outputs": [],
   "source": [
    "def mcs_baseline(data):\n",
    "    '''Takes data in the form of a pandas DataFrame and returns a dictionay mapping\n",
    "    from word form to most common word sense.\n",
    "    '''\n",
    "    df_grouped = data.groupby('1')\n",
    "    mapping = {}\n",
    "    for group in df_grouped:\n",
    "        mapping[group[0].split('.')[0]] = group[1].mode()['0'][0]\n",
    "    return mapping  "
   ]
  },
  {
   "cell_type": "code",
   "execution_count": 5,
   "metadata": {},
   "outputs": [
    {
     "data": {
      "text/plain": [
       "{'active': 'active%5:00:00:involved:00',\n",
       " 'bad': 'bad%5:00:00:intense:00',\n",
       " 'bring': 'bring%2:38:00::',\n",
       " 'build': 'build%2:36:00::',\n",
       " 'case': 'case%1:11:00::',\n",
       " 'common': 'common%3:00:02::',\n",
       " 'critical': 'critical%3:00:03::',\n",
       " 'extend': 'extend%2:40:04::',\n",
       " 'find': 'find%2:40:02::',\n",
       " 'follow': 'follow%2:40:00::',\n",
       " 'force': 'force%1:07:02::',\n",
       " 'hold': 'hold%2:40:04::',\n",
       " 'keep': 'keep%2:41:03::',\n",
       " 'lead': 'lead%2:38:01::',\n",
       " 'life': 'life%1:26:01::',\n",
       " 'line': 'line%1:04:01::',\n",
       " 'major': 'major%3:00:06::',\n",
       " 'national': 'national%3:00:01::',\n",
       " 'order': 'order%1:14:00::',\n",
       " 'physical': 'physical%3:00:00::',\n",
       " 'place': 'place%1:04:01::',\n",
       " 'point': 'point%1:09:01::',\n",
       " 'position': 'position%1:26:02::',\n",
       " 'positive': 'positive%3:00:01::',\n",
       " 'professional': 'professional%3:01:00::',\n",
       " 'regular': 'regular%5:00:00:standard:02',\n",
       " 'security': 'security%1:26:00::',\n",
       " 'see': 'see%2:31:00::',\n",
       " 'serve': 'serve%2:42:03::',\n",
       " 'time': 'time%1:11:00::'}"
      ]
     },
     "execution_count": 5,
     "metadata": {},
     "output_type": "execute_result"
    }
   ],
   "source": [
    "test = pd.read_csv('test.csv', index_col=0)\n",
    "mcs_baseline(test)"
   ]
  },
  {
   "cell_type": "markdown",
   "metadata": {},
   "source": [
    "### Creating data iterators\n",
    "\n",
    "To train a neural network, we first need to prepare the data. This involves converting words (and labels) to a number, and organizing the data into batches. We also want the ability to shuffle the examples such that they appear in a random order.  \n",
    "\n",
    "To do all of this we will use the torchtext library (https://torchtext.readthedocs.io/en/latest/index.html). In addition to converting our data into numerical form and creating batches, it will generate a word and label vocabulary, and data iterators than can sort and shuffle the examples. \n",
    "\n",
    "Your task is to create a dataloader for the training and test set you created previously. So, how do we go about doing this?\n",
    "\n",
    "1) First we create a ``Field`` for each of our columns. A field is a function which tokenize the input, keep a dictionary of word-to-numbers, and fix paddings. So, we need four fields, one for the word-sense, one for the position, one for the lemma and one for the context. \n",
    "\n",
    "2) After we have our fields, we need to process the data. For this we use the ``TabularDataset`` class. We pass the name and path of the training and test files we created previously, then we assign which field to use in each column. The result is that each column will be processed by the field indicated. So, the context column will be tokenized and processed by the context field and so on. \n",
    "\n",
    "3) After we have processed the dataset we need to build the vocabulary, for this we call the function ``build_vocab()`` on the different ``Fields`` with the output from ``TabularDataset`` as input. This looks at our dataset and creates the necessary vocabularies (word-to-number mappings). \n",
    "\n",
    "4) Finally, the last step. In the last step we load the data objects given by the ``TabularDataset`` and pass it to the ``BucketIterator`` class. This class will organize our examples into batches and shuffle them around (such that for each epoch the model observe the examples in a different order). When we are done with this we can let our function return the data iterators and vocabularies, then we are ready to train and test our model!\n",
    "\n",
    "Implement the dataloader. [**2 marks**]\n",
    "\n",
    "*hint: for TabularDataset and BucketIterator use the class function splits()* "
   ]
  },
  {
   "cell_type": "code",
   "execution_count": 4,
   "metadata": {},
   "outputs": [],
   "source": [
    "class Vocab:\n",
    "    def __init__(self, tokens, pad_token='PAD', unk_token='UNK'):\n",
    "        self.tokens = tokens+[unk_token]\n",
    "        self.i2t = {i: t for i, t in enumerate(self.tokens, start=1)}\n",
    "        self.i2t[0] = pad_token\n",
    "        self.t2i = {v: k for k, v in self.i2t.items()}\n",
    "        self.tokens += [pad_token] \n",
    "        \n",
    "    def __len__(self):\n",
    "        return len(self.tokens)\n",
    "    \n",
    "    def __getitem__(self, x):\n",
    "        if type(x) == str:\n",
    "            return self.t2i[x]\n",
    "        if type(x) == int:\n",
    "            return self.i2t[x]"
   ]
  },
  {
   "cell_type": "code",
   "execution_count": 5,
   "metadata": {},
   "outputs": [],
   "source": [
    "class WSD_Dataset(Dataset):\n",
    "    def __init__(self, csv_file,\n",
    "                 train=True,\n",
    "                 unk_token='UNK',\n",
    "                 pad_token='PAD',\n",
    "                 vocab=None,\n",
    "                 sense_vocab=None):\n",
    "        \n",
    "        self.unk_token = unk_token\n",
    "        self.pad_token = pad_token\n",
    "        self.alldata = pd.read_csv(csv_file, index_col=0)\n",
    "        \n",
    "        self.senses = [sense for sense in self.alldata['0']]\n",
    "        self.words = [line.split('.')[0] for line in self.alldata['1']]\n",
    "        self.indices = [int(x) for x in self.alldata['2']]\n",
    "        self.contexts = [line.lower().split() for line in self.alldata['3']]\n",
    "        \n",
    "        if train:\n",
    "            self.tokens = list(set([token for line in self.contexts for token in line]))\n",
    "            self.vocab = Vocab(self.tokens, pad_token=self.pad_token, unk_token=self.unk_token)    \n",
    "            self.sense_vocab = Vocab(list(set(self.senses)))\n",
    "            self.int_contexts = [[self.vocab[word] for word in seq] for seq in self.contexts]\n",
    "        \n",
    "        else:\n",
    "            self.vocab = vocab\n",
    "            self.sense_vocab = sense_vocab\n",
    "            self.int_contexts = [[self.vocab[word] if word in self.vocab.t2i else self.vocab[self.unk_token] for word in seq] for seq in self.contexts]\n",
    "            \n",
    "        self.int_senses = [self.sense_vocab[sense] for sense in self.senses]\n",
    "        \n",
    "    \n",
    "    def __getitem__(self, idx):\n",
    "        \n",
    "        return (self.int_senses[idx], self.indices[idx], self.int_contexts[idx])\n",
    "\n",
    "    def __len__(self):\n",
    "        return len(self.int_senses)"
   ]
  },
  {
   "cell_type": "code",
   "execution_count": 6,
   "metadata": {},
   "outputs": [],
   "source": [
    "def pad_fn(data):\n",
    "    lengths = [len(x[2]) for x in data]\n",
    "    max_len = max(lengths)\n",
    "    padded_data = [(x[0], x[1], [w for w in x[2]+[0]*(max_len-len(x[2]))]) for x in data]\n",
    "    return padded_data\n",
    "\n",
    "def data_load(path_to_csv, batch_size, train=True, vocab=None, sense_vocab=None): \n",
    "    dataset = WSD_Dataset(path_to_csv, train=train, vocab=vocab, sense_vocab=sense_vocab)\n",
    "    dataloader = DataLoader(dataset,\n",
    "                            batch_size=batch_size,\n",
    "                            shuffle=True,\n",
    "                            collate_fn=pad_fn)\n",
    "    if train==True:\n",
    "        return dataloader, dataset.vocab, dataset.sense_vocab\n",
    "    else:\n",
    "        return dataloader"
   ]
  },
  {
   "cell_type": "code",
   "execution_count": 7,
   "metadata": {},
   "outputs": [
    {
     "name": "stdout",
     "output_type": "stream",
     "text": [
      "pad_index = 0\n",
      "Batch size: 8\n",
      "(131, 131, [28746, 3853, 33124, 8637, 3853, 17633, 4032, 16309, 26458, 5166, 3853, 29311, 22367, 2180, 8602, 12757, 22204, 14671, 26081, 29272, 35159, 3853, 17633, 4032, 25936, 25137, 8602, 12383, 3853, 28977, 22367, 3853, 2539, 8602, 25936, 10181, 17618, 8137, 11394, 30230, 8602, 25936, 5121, 7105, 25936, 17618, 10681, 16461, 6796, 10470, 22204, 1254, 8602, 25936, 13410, 7307, 32542, 24433, 29272, 16173, 2206, 29272, 25936, 23907, 3853, 6357, 29272, 32766, 22367, 19477, 29272, 25936, 3114, 22423, 8602, 2527, 196, 8602, 24076, 3853, 19299, 22367, 10470, 22204, 2787, 7107, 128, 25734, 34566, 11394, 10447, 25936, 24453, 9293, 29272, 11363, 3853, 17633, 4032, 19596, 10681, 10470, 22204, 2787, 2539, 17854, 6271, 22496, 8565, 7105, 8602, 21833, 8602, 15668, 196, 8602, 18627, 3865, 33167, 25936, 3853, 17633, 4032, 22383, 25826, 22204, 8866, 19596, 28551, 8602, 24076, 9649, 9293, 3853, 20941, 27123, 22367, 13206, 8008, 12854, 18627, 17633, 15597, 22367, 3853, 18126, 32542, 5620, 18901, 8602, 29272, 25936, 5121, 25936, 3853, 24433, 22213, 25936, 22423, 18627, 3853, 17633, 4032, 128, 6320, 32734, 1358, 25936, 35023, 10447, 10681, 24446, 24202, 3853, 17633, 4032, 25936, 4706, 18055, 30177, 8602, 4622, 22423, 25936, 25537, 7711, 3853, 26337, 6088, 18627, 3853, 17633, 4032, 8602, 26885, 22423, 25936, 23047, 25936, 3853, 17633, 4032, 32542, 3853, 29918, 26556, 32542, 35023, 26337, 29272, 28551, 34968, 10447, 8602, 21833, 35023, 13763, 24076, 3853, 23047, 22367, 3853, 17633, 4032, 8602, 25936, 24453, 24076, 9821, 20136, 28607, 128])\n",
      "context length: 232\n",
      "(61, 28, [7400, 10560, 16309, 28954, 9293, 24583, 1358, 3853, 18854, 24076, 3853, 20455, 22367, 34491, 29272, 3485, 21103, 28674, 18627, 3853, 20649, 28752, 7688, 3853, 26855, 29985, 774, 6479, 25555, 10681, 2527, 9821, 2084, 15595, 10681, 3853, 28752, 12831, 25936, 33445, 32734, 15040, 2527, 7411, 2527, 32734, 5550, 774, 16817, 8602, 5750, 9821, 15595, 11623, 21651, 5121, 25936, 3853, 21156, 10681, 32136, 6088, 25936, 3853, 28752, 18627, 12794, 8937, 29665, 3853, 27403, 12794, 25030, 25936, 18093, 32734, 3762, 25936, 3853, 31714, 12013, 22367, 3853, 15544, 20587, 774, 0, 0, 0, 0, 0, 0, 0, 0, 0, 0, 0, 0, 0, 0, 0, 0, 0, 0, 0, 0, 0, 0, 0, 0, 0, 0, 0, 0, 0, 0, 0, 0, 0, 0, 0, 0, 0, 0, 0, 0, 0, 0, 0, 0, 0, 0, 0, 0, 0, 0, 0, 0, 0, 0, 0, 0, 0, 0, 0, 0, 0, 0, 0, 0, 0, 0, 0, 0, 0, 0, 0, 0, 0, 0, 0, 0, 0, 0, 0, 0, 0, 0, 0, 0, 0, 0, 0, 0, 0, 0, 0, 0, 0, 0, 0, 0, 0, 0, 0, 0, 0, 0, 0, 0, 0, 0, 0, 0, 0, 0, 0, 0, 0, 0, 0, 0, 0, 0, 0, 0, 0, 0, 0, 0, 0, 0, 0, 0, 0, 0, 0, 0, 0, 0, 0, 0, 0, 0, 0, 0, 0, 0, 0, 0, 0, 0])\n",
      "context length: 232\n",
      "(85, 39, [6372, 22195, 8602, 21833, 22195, 2309, 24076, 7879, 29272, 29907, 12583, 8602, 15841, 3630, 8137, 20747, 774, 18708, 29272, 22195, 29665, 25835, 22367, 29902, 18708, 22367, 17023, 20747, 3037, 24446, 21811, 12117, 22367, 9279, 29272, 3630, 8602, 21833, 24145, 870, 10681, 28131, 3853, 28207, 8137, 3853, 32047, 20413, 774, 4289, 304, 22433, 7877, 25936, 21089, 3853, 27502, 27482, 29272, 18285, 6446, 10681, 33211, 10835, 22367, 22195, 15361, 9908, 29272, 25966, 18902, 8008, 15938, 15361, 17532, 22367, 20747, 28408, 22195, 774, 0, 0, 0, 0, 0, 0, 0, 0, 0, 0, 0, 0, 0, 0, 0, 0, 0, 0, 0, 0, 0, 0, 0, 0, 0, 0, 0, 0, 0, 0, 0, 0, 0, 0, 0, 0, 0, 0, 0, 0, 0, 0, 0, 0, 0, 0, 0, 0, 0, 0, 0, 0, 0, 0, 0, 0, 0, 0, 0, 0, 0, 0, 0, 0, 0, 0, 0, 0, 0, 0, 0, 0, 0, 0, 0, 0, 0, 0, 0, 0, 0, 0, 0, 0, 0, 0, 0, 0, 0, 0, 0, 0, 0, 0, 0, 0, 0, 0, 0, 0, 0, 0, 0, 0, 0, 0, 0, 0, 0, 0, 0, 0, 0, 0, 0, 0, 0, 0, 0, 0, 0, 0, 0, 0, 0, 0, 0, 0, 0, 0, 0, 0, 0, 0, 0, 0, 0, 0, 0, 0, 0, 0, 0, 0, 0, 0, 0, 0, 0, 0, 0, 0])\n",
      "context length: 232\n",
      "(63, 43, [31984, 8602, 22589, 22433, 24076, 3853, 29554, 26907, 22367, 23957, 10447, 10681, 3853, 20649, 28752, 21651, 14419, 31403, 13705, 13610, 29272, 10681, 22589, 882, 10681, 3853, 30434, 22367, 23911, 29272, 22367, 17229, 25966, 6445, 22076, 31914, 774, 31674, 8602, 15563, 8616, 15255, 9821, 19146, 29272, 31805, 33124, 8637, 24076, 12597, 24870, 12383, 15544, 20587, 12854, 774, 7400, 16173, 18947, 25137, 25936, 4199, 33232, 24076, 13722, 12583, 25936, 3853, 15544, 20587, 8602, 4609, 18627, 4190, 12274, 29272, 18627, 22303, 31402, 32542, 3853, 20835, 774, 0, 0, 0, 0, 0, 0, 0, 0, 0, 0, 0, 0, 0, 0, 0, 0, 0, 0, 0, 0, 0, 0, 0, 0, 0, 0, 0, 0, 0, 0, 0, 0, 0, 0, 0, 0, 0, 0, 0, 0, 0, 0, 0, 0, 0, 0, 0, 0, 0, 0, 0, 0, 0, 0, 0, 0, 0, 0, 0, 0, 0, 0, 0, 0, 0, 0, 0, 0, 0, 0, 0, 0, 0, 0, 0, 0, 0, 0, 0, 0, 0, 0, 0, 0, 0, 0, 0, 0, 0, 0, 0, 0, 0, 0, 0, 0, 0, 0, 0, 0, 0, 0, 0, 0, 0, 0, 0, 0, 0, 0, 0, 0, 0, 0, 0, 0, 0, 0, 0, 0, 0, 0, 0, 0, 0, 0, 0, 0, 0, 0, 0, 0, 0, 0, 0, 0, 0, 0, 0, 0, 0, 0, 0, 0, 0, 0, 0, 0, 0])\n",
      "context length: 232\n",
      "(177, 23, [2706, 25980, 24076, 3853, 27787, 16309, 10041, 28449, 29272, 27718, 774, 23094, 8602, 20320, 24446, 29930, 21711, 17232, 18094, 8602, 2527, 6479, 24446, 18692, 24076, 3853, 15421, 22367, 3853, 27180, 32447, 22367, 3853, 24392, 774, 3853, 27595, 22367, 20320, 25966, 14577, 24076, 3853, 24583, 6182, 27787, 29272, 19596, 25966, 18055, 35030, 774, 0, 0, 0, 0, 0, 0, 0, 0, 0, 0, 0, 0, 0, 0, 0, 0, 0, 0, 0, 0, 0, 0, 0, 0, 0, 0, 0, 0, 0, 0, 0, 0, 0, 0, 0, 0, 0, 0, 0, 0, 0, 0, 0, 0, 0, 0, 0, 0, 0, 0, 0, 0, 0, 0, 0, 0, 0, 0, 0, 0, 0, 0, 0, 0, 0, 0, 0, 0, 0, 0, 0, 0, 0, 0, 0, 0, 0, 0, 0, 0, 0, 0, 0, 0, 0, 0, 0, 0, 0, 0, 0, 0, 0, 0, 0, 0, 0, 0, 0, 0, 0, 0, 0, 0, 0, 0, 0, 0, 0, 0, 0, 0, 0, 0, 0, 0, 0, 0, 0, 0, 0, 0, 0, 0, 0, 0, 0, 0, 0, 0, 0, 0, 0, 0, 0, 0, 0, 0, 0, 0, 0, 0, 0, 0, 0, 0, 0, 0, 0, 0, 0, 0, 0, 0, 0, 0, 0, 0, 0, 0, 0, 0, 0, 0, 0, 0, 0, 0, 0, 0, 0, 0, 0, 0, 0, 0, 0, 0, 0, 0])\n",
      "context length: 232\n",
      "(61, 86, [24076, 19596, 27440, 2527, 3853, 24451, 13427, 18627, 5892, 31150, 25936, 13009, 28046, 8008, 3853, 27104, 22367, 9821, 16598, 31426, 22367, 5892, 10301, 23467, 6194, 8137, 22711, 10681, 14136, 30398, 25936, 3912, 3853, 21393, 22367, 3853, 23467, 24192, 12198, 32136, 18333, 6445, 3853, 15421, 24192, 22589, 32590, 30116, 6271, 4962, 10681, 11394, 24451, 31796, 8137, 5892, 23467, 15361, 8229, 14136, 20532, 22367, 3853, 23467, 774, 9293, 7805, 25936, 3853, 18126, 15361, 4653, 4836, 8602, 24076, 26046, 27722, 23337, 9821, 24058, 22367, 3853, 23047, 8602, 2787, 10560, 14715, 21057, 10703, 25936, 3854, 9821, 6545, 79, 8137, 10681, 22367, 25167, 24491, 22367, 3853, 14925, 32542, 33037, 8229, 774, 14463, 3853, 18842, 30296, 22367, 5892, 31150, 22367, 10447, 29272, 10301, 31492, 25936, 24453, 25936, 22689, 25936, 5892, 27605, 9821, 6575, 8804, 22367, 5892, 31150, 27539, 35288, 27119, 22367, 10301, 27635, 8602, 2787, 10560, 12392, 11999, 4283, 10681, 8602, 25936, 3853, 24150, 10681, 2823, 21483, 27119, 14136, 28856, 5563, 27119, 8602, 25051, 14136, 29434, 32542, 3853, 18164, 22367, 3853, 10301, 69, 8602, 21833, 10301, 31492, 774, 0, 0, 0, 0, 0, 0, 0, 0, 0, 0, 0, 0, 0, 0, 0, 0, 0, 0, 0, 0, 0, 0, 0, 0, 0, 0, 0, 0, 0, 0, 0, 0, 0, 0, 0, 0, 0, 0, 0, 0, 0, 0, 0, 0, 0, 0, 0, 0, 0, 0, 0, 0, 0, 0, 0, 0, 0, 0, 0, 0])\n",
      "context length: 232\n",
      "(76, 86, [6479, 6579, 10681, 8602, 24076, 3853, 12227, 29272, 24203, 22367, 3853, 34373, 4394, 33145, 8602, 3853, 20425, 18947, 14889, 8565, 9821, 19146, 29942, 22367, 3853, 1454, 20582, 29272, 22711, 8602, 29272, 6456, 2266, 29272, 22711, 12198, 25966, 440, 3136, 8602, 22367, 23987, 32009, 22204, 19420, 774, 35023, 2266, 29272, 22711, 3037, 6271, 538, 29272, 21371, 25936, 3853, 12327, 16641, 2527, 9821, 5829, 22367, 3853, 2978, 24470, 33145, 8602, 16645, 3853, 23957, 10447, 32590, 9461, 12198, 2266, 29272, 22711, 3037, 6271, 8152, 29272, 12198, 6343, 3037, 6271, 32684, 11160, 24076, 13097, 20982, 4752, 24470, 774, 24076, 3853, 15421, 22367, 28077, 20582, 8602, 7400, 10560, 11365, 3853, 7548, 22367, 22328, 16268, 25936, 882, 10681, 34369, 21800, 25966, 6088, 8602, 29272, 18398, 10681, 28910, 3037, 6271, 32670, 32808, 18627, 3017, 10956, 22367, 3853, 16641, 774, 0, 0, 0, 0, 0, 0, 0, 0, 0, 0, 0, 0, 0, 0, 0, 0, 0, 0, 0, 0, 0, 0, 0, 0, 0, 0, 0, 0, 0, 0, 0, 0, 0, 0, 0, 0, 0, 0, 0, 0, 0, 0, 0, 0, 0, 0, 0, 0, 0, 0, 0, 0, 0, 0, 0, 0, 0, 0, 0, 0, 0, 0, 0, 0, 0, 0, 0, 0, 0, 0, 0, 0, 0, 0, 0, 0, 0, 0, 0, 0, 0, 0, 0, 0, 0, 0, 0, 0, 0, 0, 0, 0, 0, 0, 0, 0, 0, 0, 0, 0])\n",
      "context length: 232\n",
      "(215, 41, [6479, 25966, 33006, 25936, 34088, 8137, 3853, 18682, 22367, 24397, 18775, 29272, 24397, 30918, 10681, 3853, 7768, 22367, 29473, 14988, 23337, 20866, 24058, 29272, 27611, 24446, 6405, 27146, 9821, 20455, 22367, 1579, 6226, 774, 25051, 18947, 34247, 8602, 29665, 3853, 13371, 1952, 8602, 3853, 351, 22367, 1291, 24071, 24076, 25980, 21649, 25936, 6271, 7902, 29272, 3853, 24263, 15172, 29272, 32675, 29473, 2254, 25936, 6271, 24465, 8137, 1971, 774, 6479, 25734, 32649, 10681, 31267, 1291, 12274, 3037, 6271, 5892, 34430, 5829, 22367, 2706, 18209, 774, 0, 0, 0, 0, 0, 0, 0, 0, 0, 0, 0, 0, 0, 0, 0, 0, 0, 0, 0, 0, 0, 0, 0, 0, 0, 0, 0, 0, 0, 0, 0, 0, 0, 0, 0, 0, 0, 0, 0, 0, 0, 0, 0, 0, 0, 0, 0, 0, 0, 0, 0, 0, 0, 0, 0, 0, 0, 0, 0, 0, 0, 0, 0, 0, 0, 0, 0, 0, 0, 0, 0, 0, 0, 0, 0, 0, 0, 0, 0, 0, 0, 0, 0, 0, 0, 0, 0, 0, 0, 0, 0, 0, 0, 0, 0, 0, 0, 0, 0, 0, 0, 0, 0, 0, 0, 0, 0, 0, 0, 0, 0, 0, 0, 0, 0, 0, 0, 0, 0, 0, 0, 0, 0, 0, 0, 0, 0, 0, 0, 0, 0, 0, 0, 0, 0, 0, 0, 0, 0, 0, 0, 0, 0, 0, 0, 0, 0, 0])\n",
      "context length: 232\n"
     ]
    }
   ],
   "source": [
    "# checking that it works:\n",
    "\n",
    "dataloader, vocab, sense_vocab = data_load('test.csv', batch_size)\n",
    "print('pad_index =', vocab.t2i['PAD'])\n",
    "for i, batch in enumerate(dataloader):\n",
    "    print('Batch size:', len(batch)) \n",
    "    for example in batch:\n",
    "        print(example)\n",
    "        print('context length:', len(example[2]))\n",
    "  # Only look at first batch.\n",
    "    break"
   ]
  },
  {
   "cell_type": "markdown",
   "metadata": {},
   "source": [
    "# 2.1 Creating and running a Neural Network for WSD\n",
    "\n",
    "In this section we will create and run a neural network to predict word senses based on *contextualized representations*."
   ]
  },
  {
   "cell_type": "markdown",
   "metadata": {},
   "source": [
    "### Model\n",
    "\n",
    "We will use a bidirectional Long-Short-Term Memory (LSTM) network to create a representation for the sentences and a Linear classifier to predict the sense of each word.\n",
    "\n",
    "When we initialize the model, we need a few things:\n",
    "\n",
    "    1) An embedding layer: a dictionary from which we can obtain word embeddings\n",
    "    2) A LSTM-module to obtain contextual representations\n",
    "    3) A classifier that compute scores for each word-sense given *some* input\n",
    "\n",
    "\n",
    "The general procedure is the following:\n",
    "\n",
    "    1) For each word in the sentence, obtain word embeddings\n",
    "    2) Run the embedded sentences through the RNN\n",
    "    3) Select the appropriate hidden state\n",
    "    4) Predict the word-sense \n",
    "\n",
    "**Suggestion for efficiency:**  *Use a low dimensionality (32) for word embeddings and the LSTM when developing and testing the code, then scale up when running the full training/tests*\n",
    "    \n",
    "Your tasks will be to create two different models (both follow the two outlines described above), described below:"
   ]
  },
  {
   "cell_type": "markdown",
   "metadata": {},
   "source": [
    "In the first approach to WSD, you are to select the index of our target word (column 3 in the dataset) and predict the word sense. **[5 marks]**\n"
   ]
  },
  {
   "cell_type": "code",
   "execution_count": 8,
   "metadata": {},
   "outputs": [],
   "source": [
    "from IPython import embed"
   ]
  },
  {
   "cell_type": "code",
   "execution_count": 22,
   "metadata": {},
   "outputs": [],
   "source": [
    "class WSDModel_approach1(nn.Module):\n",
    "    def __init__(self, vocab_dims, embedding_dims, hidden_dims, n_senses, pad_index=0):\n",
    "        super(WSDModel_approach1, self).__init__()\n",
    "        \n",
    "        self.pad_index=pad_index\n",
    "        self.embeddings = nn.Embedding(num_embeddings=vocab_dims, \n",
    "                                               embedding_dim=embedding_dims,\n",
    "                                               padding_idx=pad_index)\n",
    "        self.rnn = nn.LSTM(embedding_dims, hidden_dims, batch_first=True)\n",
    "        self.classifier = nn.Linear(hidden_dims, n_senses)\n",
    "    \n",
    "    def forward(self, batch):\n",
    "        embedded_seq = self.embeddings(batch)\n",
    "        output, (h, c) = self.rnn(embedded_seq)\n",
    "        predictions = self.classifier(output)\n",
    "        # raise embed()        \n",
    "        return predictions"
   ]
  },
  {
   "cell_type": "markdown",
   "metadata": {},
   "source": [
    "In the second approach to WSD, you are to predict the word sense based on the final hidden state given by the RNN. **[5 marks]**"
   ]
  },
  {
   "cell_type": "code",
   "execution_count": 23,
   "metadata": {},
   "outputs": [],
   "source": [
    "class WSDModel_approach2(nn.Module):\n",
    "    def __init__(self, vocab_dims, embedding_dims, hidden_dims, n_senses, pad_index=0):\n",
    "        super(WSDModel_approach2, self).__init__()\n",
    "        \n",
    "        self.pad_index=pad_index\n",
    "        self.embeddings = nn.Embedding(num_embeddings=vocab_dims, \n",
    "                                               embedding_dim=embedding_dims,\n",
    "                                               padding_idx=pad_index)\n",
    "        self.rnn = nn.LSTM(embedding_dims, hidden_dims, batch_first=True)\n",
    "        self.classifier = nn.Linear(hidden_dims, n_senses)\n",
    "    \n",
    "    def forward(self, batch):\n",
    "        embedded_seq = self.embeddings(batch)\n",
    "        output, (h, c) = self.rnn(embedded_seq)\n",
    "        predictions = self.classifier(h)\n",
    "        # raise embed()\n",
    "        return predictions"
   ]
  },
  {
   "cell_type": "markdown",
   "metadata": {},
   "source": [
    "### Training and testing the model\n",
    "\n",
    "Now we are ready to train and test our model. What we need now is a loss function, an optimizer, and our data. \n",
    "\n",
    "- First, create the loss function and the optimizer.\n",
    "- Next, we iterate over the number of epochs (i.e. how many times we let the model see our data). \n",
    "- For each epoch, iterate over the dataset (``train_iter``) to obtain batches. Use the batch as input to the model, and let the model output scores for the different word senses.\n",
    "- For each model output, calculate the loss (and print the loss) on the output and update the model parameters.\n",
    "- Reset the gradients and repeat.\n",
    "- After all epochs are done, test your trained model on the test set (``test_iter``) and calculate the total and per-word-form accuracy of your model.\n",
    "\n",
    "Implement the training and testing of the model **[4 marks]**\n",
    "\n",
    "**Suggestion for efficiency:** *when developing your model, try training and testing the model on one or two batches (for each epoch) of data to make sure everything works! It's very annoying if you train for N epochs to find out that something went wrong when testing the model, or to find that something goes wrong when moving from epoch 0 to epoch 1.*"
   ]
  },
  {
   "cell_type": "code",
   "execution_count": 11,
   "metadata": {},
   "outputs": [],
   "source": [
    "train_iter, vocab, labels = data_load('train.csv', batch_size)\n",
    "test_iter = data_load('test.csv', batch_size, train=False, vocab=vocab, sense_vocab=labels)"
   ]
  },
  {
   "cell_type": "code",
   "execution_count": 12,
   "metadata": {},
   "outputs": [
    {
     "name": "stdout",
     "output_type": "stream",
     "text": [
      "pad_index = 0\n",
      "unk_index = 70401\n",
      "Batch size: 8\n",
      "(61, 73, [7653, 3465, 57653, 12999, 17157, 64675, 19843, 58067, 26356, 44643, 17157, 48328, 12193, 44624, 37379, 51350, 61196, 69659, 24971, 21315, 51408, 38005, 15965, 7653, 59872, 47322, 47550, 69654, 59902, 64675, 7653, 49033, 44182, 17618, 44417, 17094, 36969, 35885, 43589, 54762, 1491, 21315, 44307, 58875, 7653, 53346, 44182, 7653, 9503, 44182, 7653, 59872, 35994, 17157, 58067, 44624, 4832, 49680, 18529, 19584, 43552, 51350, 47968, 69659, 6706, 59398, 58067, 62018, 51350, 12554, 69468, 47550, 24971, 37085, 4956, 7304, 51350, 7653, 59872, 34724, 1491, 58875, 7653, 54668, 44182, 7653, 34724, 17157, 22721, 26590, 47550, 7653, 57292, 17157, 3465, 58067, 69183, 7653, 54762, 44182, 7653, 59902, 59999, 17157, 5938, 48328, 19584, 56430, 48936, 21315, 32446, 36813, 7653, 49033, 15965, 11787, 390, 58067, 10354, 66162, 36969, 7653, 20503, 151, 1491, 0, 0, 0, 0, 0, 0, 0, 0, 0, 0, 0, 0, 0, 0, 0, 0, 0, 0, 0, 0, 0, 0, 0, 0, 0, 0, 0, 0, 0, 0, 0, 0, 0, 0, 0])\n",
      "context length: 160\n",
      "unk in context: False\n",
      "(36, 64, [47550, 32951, 18529, 38893, 17157, 7653, 64003, 17157, 43892, 7653, 23583, 15965, 47934, 44114, 17157, 24283, 32364, 66176, 53651, 5178, 17157, 44307, 57408, 40770, 23427, 54510, 44307, 51350, 61464, 16252, 23343, 63171, 64675, 5178, 4221, 58067, 7653, 30612, 44182, 18928, 5178, 4221, 1491, 47550, 20736, 51350, 61196, 64572, 17157, 11787, 67452, 4832, 17157, 54541, 7653, 62402, 64675, 39430, 54887, 64675, 7653, 59635, 25775, 19584, 4073, 65477, 47550, 7653, 18029, 6525, 16210, 7653, 3615, 15965, 2454, 7185, 64675, 7653, 54887, 44182, 7653, 64572, 64675, 7653, 59635, 1491, 12749, 40096, 62550, 32446, 35512, 39683, 62220, 58067, 8393, 14900, 24282, 51350, 5178, 1491, 0, 0, 0, 0, 0, 0, 0, 0, 0, 0, 0, 0, 0, 0, 0, 0, 0, 0, 0, 0, 0, 0, 0, 0, 0, 0, 0, 0, 0, 0, 0, 0, 0, 0, 0, 0, 0, 0, 0, 0, 0, 0, 0, 0, 0, 0, 0, 0, 0, 0, 0, 0, 0, 0, 0, 0, 0, 0, 0, 0])\n",
      "context length: 160\n",
      "unk in context: False\n",
      "(72, 59, [7653, 45134, 44182, 7653, 63444, 13755, 21315, 17661, 57142, 68105, 17157, 47550, 50687, 18529, 29539, 58067, 41540, 54762, 17157, 67928, 7653, 57707, 64763, 12554, 34445, 36969, 35885, 37115, 64675, 35885, 22973, 16210, 14674, 1491, 64675, 28947, 34220, 61599, 17157, 7653, 37115, 54978, 34445, 56843, 44182, 35885, 32868, 17157, 11009, 63840, 11787, 2454, 29539, 15363, 46118, 62267, 47550, 7653, 6314, 43589, 3493, 47517, 1491, 33361, 17157, 51350, 28881, 41682, 40180, 48328, 38196, 12193, 43892, 69545, 390, 21845, 52626, 56291, 2407, 1491, 0, 0, 0, 0, 0, 0, 0, 0, 0, 0, 0, 0, 0, 0, 0, 0, 0, 0, 0, 0, 0, 0, 0, 0, 0, 0, 0, 0, 0, 0, 0, 0, 0, 0, 0, 0, 0, 0, 0, 0, 0, 0, 0, 0, 0, 0, 0, 0, 0, 0, 0, 0, 0, 0, 0, 0, 0, 0, 0, 0, 0, 0, 0, 0, 0, 0, 0, 0, 0, 0, 0, 0, 0, 0, 0, 0, 0, 0, 0, 0])\n",
      "context length: 160\n",
      "unk in context: False\n",
      "(10, 48, [44624, 8054, 51350, 65087, 9210, 9830, 58067, 55983, 15965, 7653, 66939, 51350, 33781, 21315, 7653, 24340, 46118, 63034, 1586, 2200, 7653, 31725, 30569, 41423, 17157, 24283, 44307, 13089, 7653, 9662, 58637, 51350, 7653, 66939, 15965, 11787, 51323, 47517, 44307, 19584, 13172, 4900, 51350, 44093, 1491, 28007, 44307, 38893, 40532, 39073, 5998, 55997, 44216, 65870, 58875, 16210, 19584, 57266, 33422, 1491, 4956, 7653, 66939, 20796, 47550, 51551, 33199, 17157, 7653, 24340, 23175, 42844, 58875, 7653, 22338, 3749, 42382, 17157, 9492, 26587, 17157, 19584, 49771, 16189, 56172, 1491, 0, 0, 0, 0, 0, 0, 0, 0, 0, 0, 0, 0, 0, 0, 0, 0, 0, 0, 0, 0, 0, 0, 0, 0, 0, 0, 0, 0, 0, 0, 0, 0, 0, 0, 0, 0, 0, 0, 0, 0, 0, 0, 0, 0, 0, 0, 0, 0, 0, 0, 0, 0, 0, 0, 0, 0, 0, 0, 0, 0, 0, 0, 0, 0, 0, 0, 0, 0, 0, 0, 0, 0, 0, 0])\n",
      "context length: 160\n",
      "unk in context: False\n",
      "(93, 81, [24856, 4515, 63695, 47550, 7653, 7635, 44854, 30180, 25980, 64675, 42015, 44182, 19584, 58656, 7459, 57438, 263, 37512, 51136, 24856, 263, 59484, 22477, 53651, 50572, 263, 58067, 11133, 58067, 4424, 29785, 15965, 47851, 64009, 44182, 44114, 58067, 24856, 4515, 1491, 63695, 4515, 36598, 24282, 51350, 16037, 51350, 5403, 44850, 44182, 7653, 30895, 40782, 60908, 65727, 16210, 7653, 15161, 46930, 70369, 263, 49525, 25980, 64675, 19584, 12956, 26043, 68496, 60908, 58067, 24965, 27754, 46118, 25669, 33216, 30895, 40782, 62550, 47517, 51350, 8538, 57021, 7653, 44114, 64479, 44182, 48376, 59902, 1491, 53466, 17157, 7653, 70369, 34445, 21315, 47550, 59902, 18529, 18928, 32098, 52551, 17157, 28925, 30865, 62194, 43892, 28925, 3784, 17157, 26043, 2652, 32446, 42844, 12886, 63124, 7653, 23031, 24550, 39317, 47550, 35885, 7004, 68515, 44182, 26043, 68496, 17157, 26043, 42666, 17157, 20108, 44932, 15965, 30895, 40782, 40920, 17157, 58067, 47550, 13383, 23028, 17157, 10414, 68496, 1491, 0, 0, 0, 0, 0, 0, 0, 0, 0, 0, 0, 0, 0, 0, 0])\n",
      "context length: 160\n",
      "unk in context: False\n",
      "(34, 69, [7653, 22101, 47799, 28103, 50597, 43630, 17157, 68496, 44182, 7653, 39021, 43364, 44182, 7653, 2224, 42487, 49242, 263, 33934, 70401, 17157, 25145, 55074, 44182, 7653, 40920, 56951, 22662, 49242, 25145, 29988, 263, 50505, 70401, 17157, 45134, 44182, 7653, 41450, 63029, 61180, 44182, 30895, 40782, 8164, 64675, 11767, 58067, 19309, 263, 58067, 8709, 13457, 44182, 7653, 59942, 44182, 20503, 58067, 6843, 4779, 44182, 39699, 38269, 1491, 7653, 1445, 2377, 35512, 56802, 19584, 54893, 23632, 18529, 7653, 22662, 49242, 51350, 49639, 19584, 48621, 36969, 48362, 49771, 70401, 17157, 39755, 44182, 7653, 56951, 44182, 16253, 17157, 58067, 70401, 35024, 70401, 17157, 46886, 44182, 7653, 22662, 18166, 11625, 44182, 7653, 56951, 44182, 16253, 17157, 64675, 7653, 43430, 44850, 44182, 7653, 56951, 44182, 16253, 64675, 22662, 1491, 7653, 1445, 2377, 36205, 16210, 7653, 40133, 58067, 66079, 44182, 7653, 29917, 22101, 44830, 47498, 58067, 33394, 17157, 49423, 58067, 23328, 25249, 44182, 7653, 9503, 44182, 7653, 40920, 56951, 58067, 69545, 20503, 58067, 5964, 52250, 47550, 22662, 1491])\n",
      "context length: 160\n",
      "unk in context: True\n",
      "(100, 63, [25706, 44182, 7653, 5890, 64715, 44594, 47550, 7653, 11133, 49978, 44182, 38893, 54233, 51408, 42844, 34904, 14082, 18529, 7653, 26391, 15965, 42325, 24824, 58067, 63745, 44182, 7653, 52764, 24856, 30180, 1491, 54541, 64460, 24824, 51734, 8164, 15179, 58067, 10230, 53362, 64720, 25423, 17157, 54137, 43892, 29224, 23075, 31373, 44182, 8164, 28925, 58067, 7653, 10230, 24971, 51378, 43892, 25423, 15965, 11787, 15554, 59548, 44182, 3749, 1491, 22600, 13383, 32923, 7624, 12554, 28191, 51350, 39903, 38005, 30628, 17157, 9048, 5387, 44832, 58067, 16037, 30628, 57142, 12554, 68452, 40275, 1491, 0, 0, 0, 0, 0, 0, 0, 0, 0, 0, 0, 0, 0, 0, 0, 0, 0, 0, 0, 0, 0, 0, 0, 0, 0, 0, 0, 0, 0, 0, 0, 0, 0, 0, 0, 0, 0, 0, 0, 0, 0, 0, 0, 0, 0, 0, 0, 0, 0, 0, 0, 0, 0, 0, 0, 0, 0, 0, 0, 0, 0, 0, 0, 0, 0, 0, 0, 0, 0, 0, 0, 0, 0])\n",
      "context length: 160\n",
      "unk in context: False\n",
      "(66, 28, [44832, 7653, 35009, 17157, 53712, 58067, 45039, 18964, 46118, 51324, 47517, 44832, 47550, 52655, 58067, 7653, 40056, 49645, 44182, 51734, 46118, 19584, 47517, 6749, 10752, 58067, 32388, 47550, 18258, 18964, 67178, 17157, 43192, 65365, 17157, 7653, 64464, 44182, 40963, 17157, 4736, 58067, 25526, 59673, 17157, 16909, 263, 58067, 46118, 40125, 47517, 64668, 6749, 3283, 65259, 2599, 44832, 47550, 25706, 69545, 59902, 1491, 69545, 59902, 47550, 7653, 55032, 18529, 6322, 44832, 51408, 51683, 3359, 18529, 19498, 44182, 67687, 33823, 1491, 0, 0, 0, 0, 0, 0, 0, 0, 0, 0, 0, 0, 0, 0, 0, 0, 0, 0, 0, 0, 0, 0, 0, 0, 0, 0, 0, 0, 0, 0, 0, 0, 0, 0, 0, 0, 0, 0, 0, 0, 0, 0, 0, 0, 0, 0, 0, 0, 0, 0, 0, 0, 0, 0, 0, 0, 0, 0, 0, 0, 0, 0, 0, 0, 0, 0, 0, 0, 0, 0, 0, 0, 0, 0, 0, 0, 0, 0, 0, 0, 0])\n",
      "context length: 160\n",
      "unk in context: False\n"
     ]
    }
   ],
   "source": [
    "# Check that it works for the test set too:\n",
    "\n",
    "print('pad_index =', vocab.t2i['PAD'])\n",
    "print('unk_index =', vocab.t2i['UNK'])\n",
    "for i, batch in enumerate(test_iter):\n",
    "    print('Batch size:', len(batch)) \n",
    "    for example in batch:\n",
    "        print(example)\n",
    "        print('context length:', len(example[2]))\n",
    "        print('unk in context:', vocab.t2i['UNK'] in example[2])\n",
    "  # Only look at first batch.\n",
    "    break"
   ]
  },
  {
   "cell_type": "code",
   "execution_count": 24,
   "metadata": {},
   "outputs": [
    {
     "name": "stdout",
     "output_type": "stream",
     "text": [
      "gold_labels: [168, 65, 104, 68, 211, 72, 62, 132]\n",
      "indices: [53, 26, 54, 43, 35, 29, 56, 19]\n",
      "input_seqs.shape: torch.Size([8, 131])\n",
      "output.shape: torch.Size([8, 131, 224])\n"
     ]
    }
   ],
   "source": [
    "# check model output:\n",
    "model_1 = WSDModel_approach1(len(vocab), 32, 32, len(labels), pad_index=vocab['PAD'])\n",
    "\n",
    "for i, batch in enumerate(test_iter):\n",
    "    gold_labels = [example[0] for example in batch]\n",
    "    indices = [example[1] for example in batch]\n",
    "    input_seqs = torch.Tensor([example[2] for example in batch]).long()\n",
    "    output = model_1(input_seqs)\n",
    "    print('gold_labels:', gold_labels)\n",
    "    print('indices:', indices)\n",
    "    print('input_seqs.shape:', input_seqs.shape)\n",
    "    print('output.shape:', output.shape)  # predictions[0][3].shape == torch.Size([224]) (so for each batch and timestep there is a distribution over labels.)\n",
    "  # Only look at first batch.\n",
    "    break"
   ]
  },
  {
   "cell_type": "code",
   "execution_count": 96,
   "metadata": {},
   "outputs": [
    {
     "name": "stderr",
     "output_type": "stream",
     "text": [
      "\r",
      "  0%|                                                                                             | 0/3 [00:00<?, ?it/s]"
     ]
    },
    {
     "name": "stdout",
     "output_type": "stream",
     "text": [
      "epoch 0, 1.9481\r"
     ]
    },
    {
     "name": "stderr",
     "output_type": "stream",
     "text": [
      "\r",
      " 33%|████████████████████████████▎                                                        | 1/3 [00:26<00:52, 26.25s/it]"
     ]
    },
    {
     "name": "stdout",
     "output_type": "stream",
     "text": [
      "epoch 1, 1.3135\r"
     ]
    },
    {
     "name": "stderr",
     "output_type": "stream",
     "text": [
      "\r",
      " 67%|████████████████████████████████████████████████████████▋                            | 2/3 [00:52<00:26, 26.24s/it]"
     ]
    },
    {
     "name": "stdout",
     "output_type": "stream",
     "text": [
      "epoch 2, 1.1991\r"
     ]
    },
    {
     "name": "stderr",
     "output_type": "stream",
     "text": [
      "100%|█████████████████████████████████████████████████████████████████████████████████████| 3/3 [01:18<00:00, 26.22s/it]"
     ]
    },
    {
     "name": "stdout",
     "output_type": "stream",
     "text": [
      "epoch 2, 1.199\r",
      "epoch 2, 1.199\r",
      "epoch 2, 1.1989\r",
      "epoch 2, 1.1989\r",
      "epoch 2, 1.1989\r",
      "epoch 2, 1.1988\r",
      "epoch 2, 1.199\r",
      "epoch 2, 1.1989\r",
      "epoch 2, 1.1988\r",
      "epoch 2, 1.1989\r",
      "epoch 2, 1.1988\r",
      "epoch 2, 1.1989\r",
      "epoch 2, 1.1989\r",
      "epoch 2, 1.1989\r",
      "epoch 2, 1.1989\r",
      "epoch 2, 1.1989\r",
      "epoch 2, 1.1989\r"
     ]
    },
    {
     "name": "stderr",
     "output_type": "stream",
     "text": [
      "\n"
     ]
    },
    {
     "name": "stdout",
     "output_type": "stream",
     "text": [
      "Accuracy: 0.5490466798159106\n"
     ]
    }
   ],
   "source": [
    "from tqdm.auto import tqdm \n",
    "\n",
    "# Train the first model:\n",
    "\n",
    "model_1 = WSDModel_approach1(len(vocab), 32, 32, len(labels), pad_index=vocab['PAD']).to(device)\n",
    "loss_function = nn.CrossEntropyLoss(ignore_index=model_1.pad_index).to(device)\n",
    "optimizer = optim.Adam(model_1.parameters(), lr=learning_rate)\n",
    "\n",
    "\n",
    "for epoch in tqdm(range(epochs)):\n",
    "    total_loss = 0\n",
    "    for i, batch in enumerate(train_iter):\n",
    "        \n",
    "        # format of examples:\n",
    "        # (self.int_senses[idx], self.indices[idx], self.int_contexts[idx])\n",
    "        \n",
    "        gold_labels = torch.Tensor([example[0] for example in batch]).long().to(device)\n",
    "        indices = [example[1] for example in batch]\n",
    "        input_seqs = torch.Tensor([example[2] for example in batch]).long().to(device)\n",
    "        output = model_1(input_seqs)\n",
    "        model_predictions = torch.stack([output[j][indices[j]] for j in range(len(batch))])\n",
    "        \n",
    "        loss = loss_function(model_predictions, gold_labels)\n",
    "        total_loss += loss.item()\n",
    "        \n",
    "        # print average loss for the epoch\n",
    "        print(f'epoch {epoch},', round(total_loss / (i + 1), 4), end='\\r') \n",
    "        \n",
    "        # compute gradients\n",
    "        loss.backward()\n",
    "        \n",
    "        # update parameters\n",
    "        optimizer.step()\n",
    "        \n",
    "        # reset gradients\n",
    "        optimizer.zero_grad()\n",
    "\n",
    "\n",
    "# Pickle trained model\n",
    "pickle.dump(model_1, open('model_1.pickle', 'wb'))\n",
    "\n",
    "\n",
    "# test model after all epochs are completed\n",
    "accuracies = []\n",
    "for batch in test_iter:\n",
    "    gold_labels = [example[0] for example in batch]\n",
    "    indices = [example[1] for example in batch] \n",
    "    input_seqs = torch.Tensor([example[2] for example in batch]).long().to(device)\n",
    "    output = model_1(input_seqs).cpu().numpy(force=True)\n",
    "    model_predictions = [np.argmax(output[i][indices[i]]) for i in range(len(batch))]\n",
    "    batch_accuracies = [int(gold_labels[i] == model_predictions[i]) for i in range(len(batch))]\n",
    "    accuracies.extend(batch_accuracies)\n",
    "\n",
    "print('Accuracy: {}'.format(sum(accuracies)/len(accuracies)))\n"
   ]
  },
  {
   "cell_type": "code",
   "execution_count": null,
   "metadata": {},
   "outputs": [],
   "source": [
    "# Train the second model:"
   ]
  },
  {
   "cell_type": "markdown",
   "metadata": {},
   "source": [
    "# 2.2 Running a transformer for WSD"
   ]
  },
  {
   "cell_type": "markdown",
   "metadata": {},
   "source": [
    "In this section of the lab you'll try out the transformer, specifically the BERT model. For this we'll use the huggingface library (https://huggingface.co/).\n",
    "\n",
    "You can find the documentation for the BERT model here (https://huggingface.co/transformers/model_doc/bert.html) and a general usage guide here (https://huggingface.co/transformers/quickstart.html).\n",
    "\n",
    "What we're going to do is *fine-tune* the BERT model, i.e. update the weights of a pre-trained model. That is, we have a model that is trained on language modeling, but now we apply it to word sense disambiguation with the word representations it learnt from language modeling.\n",
    "\n",
    "We'll use the same data splits for training and testing as before, but this time you'll not use a torchtext dataloader. Rather now you create an iterator that collects N sentences (where N is the batch size) then use the BertTokenizer to transform the sentence into integers. For your dataloader, remember to:\n",
    "* Shuffle the data in each batch\n",
    "* Make sure you get a new iterator for each *epoch*\n",
    "* Create a vocabulary of *sense-labels* so you can calculate accuracy \n",
    "\n",
    "We then pass this batch into the BERT model and train as before. The BERT model will encode the sentence, then we send this encoded sentence into a prediction layer (you can either use the sentence-representation from bert, or the ambiguous word) like before and collect sense predictions.\n",
    "\n",
    "About the hyperparameters and training:\n",
    "* For BERT, usually a lower learning rate works best, between 0.0001-0.000001.\n",
    "* BERT takes alot of resources, running it on CPU will take ages, utilize the GPUs :)\n",
    "* Since BERT takes alot of resources, use a small batch size (4-8)\n",
    "* Computing the BERT representation, make sure you pass the mask\n",
    "\n",
    "**[10 marks]**"
   ]
  },
  {
   "cell_type": "code",
   "execution_count": null,
   "metadata": {},
   "outputs": [],
   "source": [
    "def dataloader_for_bert(path_to_file, batch_size):\n",
    "    ..."
   ]
  },
  {
   "cell_type": "code",
   "execution_count": null,
   "metadata": {},
   "outputs": [],
   "source": [
    "class BERT_WSD(nn.Module):\n",
    "    def __init__(self, ...):\n",
    "        # your code goes here\n",
    "        self.bert = ...\n",
    "        self.classifier = ...\n",
    "    \n",
    "    def forward(self, batch):\n",
    "        # your code goes here\n",
    "        \n",
    "        return predictions"
   ]
  },
  {
   "cell_type": "code",
   "execution_count": null,
   "metadata": {},
   "outputs": [],
   "source": [
    "loss_function = ...\n",
    "optimizer = ...\n",
    "model = ...\n",
    "\n",
    "for _ in range(epochs):\n",
    "    # train model\n",
    "    ...\n",
    "    \n",
    "# test model after all epochs are completed"
   ]
  },
  {
   "cell_type": "markdown",
   "metadata": {},
   "source": [
    "# 3. Evaluation"
   ]
  },
  {
   "cell_type": "markdown",
   "metadata": {},
   "source": [
    "Explain the difference between the first and second approach. What kind of representations are the different approaches using to predict word-senses? **[4 marks]**"
   ]
  },
  {
   "cell_type": "code",
   "execution_count": null,
   "metadata": {},
   "outputs": [],
   "source": []
  },
  {
   "cell_type": "markdown",
   "metadata": {},
   "source": [
    "Evaluate your model with per-word-form *accuracy* and comment on the results you get, how does the model perform in comparison to the baseline, and how do the models compare to each other? \n",
    "\n",
    "Expand on the evaluation by sorting the word-forms by the number of senses they have. Are word-forms with fewer senses easier to predict? Give a short explanation of the results you get based on the number of senses per word.\n",
    "\n",
    "**[6 marks]**"
   ]
  },
  {
   "cell_type": "markdown",
   "metadata": {},
   "source": [
    "How does the LSTMs perform in comparison to BERT? What's the difference between representations obtained by the LSTMs and BERT? **[2 marks]**"
   ]
  },
  {
   "cell_type": "code",
   "execution_count": null,
   "metadata": {},
   "outputs": [],
   "source": []
  },
  {
   "cell_type": "markdown",
   "metadata": {},
   "source": [
    "What could we do to improve our LSTM word sense disambiguation models and our BERT model? **[4 marks]**"
   ]
  },
  {
   "cell_type": "code",
   "execution_count": null,
   "metadata": {},
   "outputs": [],
   "source": []
  },
  {
   "cell_type": "markdown",
   "metadata": {},
   "source": [
    "# Readings\n",
    "\n",
    "[1] Kågebäck, M., & Salomonsson, H. (2016). Word Sense Disambiguation using a Bidirectional LSTM. arXiv preprint arXiv:1606.03568.\n",
    "\n",
    "[2] https://cl.lingfil.uu.se/~nivre/master/NLP-LexSem.pdf"
   ]
  },
  {
   "cell_type": "markdown",
   "metadata": {},
   "source": [
    "## Statement of contribution\n",
    "\n",
    "Briefly state how many times you have met for discussions, who was present, to what degree each member contributed to the discussion and the final answers you are submitting."
   ]
  },
  {
   "cell_type": "markdown",
   "metadata": {},
   "source": [
    "## Marks\n",
    "\n",
    "This assignment has a total of 46 marks."
   ]
  }
 ],
 "metadata": {
  "kernelspec": {
   "display_name": "Python 3 (ipykernel)",
   "language": "python",
   "name": "python3"
  },
  "language_info": {
   "codemirror_mode": {
    "name": "ipython",
    "version": 3
   },
   "file_extension": ".py",
   "mimetype": "text/x-python",
   "name": "python",
   "nbconvert_exporter": "python",
   "pygments_lexer": "ipython3",
   "version": "3.10.8"
  }
 },
 "nbformat": 4,
 "nbformat_minor": 2
}
