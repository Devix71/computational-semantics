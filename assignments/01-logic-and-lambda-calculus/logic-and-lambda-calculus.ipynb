{
 "cells": [
  {
   "cell_type": "markdown",
   "metadata": {},
   "source": [
    "# A1: Logic and lambda calculus"
   ]
  },
  {
   "cell_type": "markdown",
   "metadata": {},
   "source": [
    "Simon Dobnik and Robin Cooper\n",
    "\n",
    "The lab is an exploration and learning exercise to be done in a group and also in discussion with the teachers and other students.\n",
    "\n",
    "Before starting, please read the instructions on how to work in groups on Canvas.\n",
    "\n",
    "Write all your answers and the code in the appropriate boxes below.\n",
    "\n",
    "*Important*: We recommend that you create a virtual environment (either with virtualenv or conda), install Jupyter Lab in it and all dependencies used in the assignment.\n",
    "To run Jupyter Lab later within your environment, run the following command:\n",
    "\n",
    "```python -m ipykernel install --user --name=my-virtualenv-name```,\n",
    "\n",
    "where you replace `my-virtualenv-name` with the name of your created environment.\n",
    "Once in Jupyter, choose the kernel with the name of your environment. You can do it by either (i) using the drop-down menu in the top right corner or (ii) going to the top menu -> Kernel -> Change Kernel."
   ]
  },
  {
   "cell_type": "markdown",
   "metadata": {},
   "source": [
    "## Translating English to logic and evaluating logic in a model"
   ]
  },
  {
   "cell_type": "code",
   "execution_count": 1,
   "metadata": {},
   "outputs": [],
   "source": [
    "# This task needs NLTK and Jupyter Lab (IPython package).\n",
    "import nltk\n",
    "from utils import display_latex, display_translation, display_tree, display, Markdown\n",
    "read_expr = nltk.sem.Expression.fromstring"
   ]
  },
  {
   "cell_type": "markdown",
   "metadata": {},
   "source": [
    "### 1. Propositional logic\n",
    "Translate the following sentences into **propositional logic** and verify that they parse with Expression.fromstring() (`read_expr` variable in the cell above). Provide a key which shows how the propositional variables in your translation correspond to expressions of English. Briefly discuss any difficulties you encounter. (By difficulties we mean cases where the semantics of English expressions cannot be expressed to the same degree by the semantics of your logic representations, i.e. they do not mean the same). **[5 + 1 marks]**"
   ]
  },
  {
   "cell_type": "code",
   "execution_count": 2,
   "metadata": {},
   "outputs": [
    {
     "data": {
      "text/markdown": [
       "\"Alex plays the piano\": $p$"
      ],
      "text/plain": [
       "<IPython.core.display.Markdown object>"
      ]
     },
     "metadata": {},
     "output_type": "display_data"
    },
    {
     "data": {
      "text/markdown": [
       "\"Alex is smart\": $q$"
      ],
      "text/plain": [
       "<IPython.core.display.Markdown object>"
      ]
     },
     "metadata": {},
     "output_type": "display_data"
    },
    {
     "data": {
      "text/markdown": [
       "\"If Alex plays the piano, she is smart.\": $(p\\ \\rightarrow\\ q)$"
      ],
      "text/plain": [
       "<IPython.core.display.Markdown object>"
      ]
     },
     "metadata": {},
     "output_type": "display_data"
    },
    {
     "data": {
      "text/markdown": [
       "\"Alex is musical\": $m$"
      ],
      "text/plain": [
       "<IPython.core.display.Markdown object>"
      ]
     },
     "metadata": {},
     "output_type": "display_data"
    },
    {
     "data": {
      "text/markdown": [
       "\"Alex is both smart and musical.\": $(q\\ \\land\\ m)$"
      ],
      "text/plain": [
       "<IPython.core.display.Markdown object>"
      ]
     },
     "metadata": {},
     "output_type": "display_data"
    },
    {
     "data": {
      "text/markdown": [
       "\"Lydia is not happy\": $h$"
      ],
      "text/plain": [
       "<IPython.core.display.Markdown object>"
      ]
     },
     "metadata": {},
     "output_type": "display_data"
    },
    {
     "data": {
      "text/markdown": [
       "\"If Alex is not smart, Lydia is not happy.\": $(-q\\ \\rightarrow\\ -h)$"
      ],
      "text/plain": [
       "<IPython.core.display.Markdown object>"
      ]
     },
     "metadata": {},
     "output_type": "display_data"
    },
    {
     "data": {
      "text/markdown": [
       "\"George plays the piano\": $g$"
      ],
      "text/plain": [
       "<IPython.core.display.Markdown object>"
      ]
     },
     "metadata": {},
     "output_type": "display_data"
    },
    {
     "data": {
      "text/markdown": [
       "\"George is musical\": $mg$"
      ],
      "text/plain": [
       "<IPython.core.display.Markdown object>"
      ]
     },
     "metadata": {},
     "output_type": "display_data"
    },
    {
     "data": {
      "text/markdown": [
       "\"If Alex or George plays the piano, they are musical.\": $((p\\ \\lor\\ g)\\ \\rightarrow\\ (m\\ \\land\\ mg))$"
      ],
      "text/plain": [
       "<IPython.core.display.Markdown object>"
      ]
     },
     "metadata": {},
     "output_type": "display_data"
    },
    {
     "data": {
      "text/markdown": [
       "\"George plays the piano.\": $g$"
      ],
      "text/plain": [
       "<IPython.core.display.Markdown object>"
      ]
     },
     "metadata": {},
     "output_type": "display_data"
    }
   ],
   "source": [
    "propositions = {\n",
    "    \"Alex plays the piano\":\n",
    "    read_expr('p'),\n",
    "\n",
    "    \"Alex is smart\":\n",
    "    read_expr('q'),\n",
    "\n",
    "    \"If Alex plays the piano, she is smart.\":\n",
    "    read_expr('p -> q'),\n",
    "    \n",
    "    \"Alex is musical\":\n",
    "    read_expr('m'),\n",
    "\n",
    "    \"Alex is both smart and musical.\":\n",
    "    read_expr('q & m'),\n",
    "    \n",
    "    \"Lydia is not happy\":\n",
    "    read_expr('-h'),\n",
    "    \n",
    "    \"If Alex is not smart, Lydia is not happy.\":\n",
    "    read_expr('-q -> -h'),\n",
    "    \n",
    "    \"George plays the piano\":\n",
    "    read_expr(\"g\"),\n",
    "\n",
    "    \"George is musical\":\n",
    "    read_expr(\"mg\"),\n",
    "\n",
    "    \"If Alex or George plays the piano, they are musical.\":\n",
    "    read_expr('(p | g) -> (m& mg)'),\n",
    "    \n",
    "    \"George plays the piano.\":\n",
    "    read_expr('g'),\n",
    "}\n",
    "\n",
    "for text, semrep in propositions.items():\n",
    "    display_translation(text, semrep)"
   ]
  },
  {
   "cell_type": "markdown",
   "metadata": {},
   "source": [
    "*Difficulties encountered:*\n",
    "\n",
    "- For the sentence \"If Alex plays the piano, she is smart\", I didn't know if the implication reffered to Alex being smart or somebody else, thus I presumed that the sentence would be akin to \"If Alex plays the piano, Alex is smart.\"\n",
    "\n",
    "- I could not properly translate the statement \"If Alex or George plays the piano, they are musical.\" to propositional logic, as I know it means that \"If Alex plays the piano, Alex is musical\" and the same for George, but I just couldn't figure out a formula which would properly convey this. For example the formule \"(p -> m) or (g -> mg)\" would not account for both of them playing the piano, as it would translate into \"Either Alex plays the piano, thus being musical, or George playing the piano, thus being musical\". The closest logical translation I could find was \"If Alex or George plays the piano, they are (both) musical\".\n"
   ]
  },
  {
   "cell_type": "markdown",
   "metadata": {},
   "source": [
    "### 2. Valuation of Propositional logic\n",
    "\n",
    "Imagine that we observe a world where \n",
    "- (i) Alex does not play the piano,\n",
    "- (ii) Alex and Lydia are smart and musical,\n",
    "- (iii) George is not musical,\n",
    "- (iv) Lydia is happy,\n",
    "- (v) George plays the piano. \n",
    "\n",
    "Translate this informal description of the world into a model by appropriately defining an evaluation function and evaluate the formulae from Question 1 in this model. Briefly comment the answers you get. **[5 + 1 marks]**."
   ]
  },
  {
   "cell_type": "code",
   "execution_count": 3,
   "metadata": {},
   "outputs": [
    {
     "name": "stdout",
     "output_type": "stream",
     "text": [
      "Logic model - atomized propositions based on input sentences:\n"
     ]
    },
    {
     "data": {
      "text/markdown": [
       "\"Alex plays the piano\": $p$"
      ],
      "text/plain": [
       "<IPython.core.display.Markdown object>"
      ]
     },
     "metadata": {},
     "output_type": "display_data"
    },
    {
     "data": {
      "text/markdown": [
       "\"Lydia is smart\": $f$"
      ],
      "text/plain": [
       "<IPython.core.display.Markdown object>"
      ]
     },
     "metadata": {},
     "output_type": "display_data"
    },
    {
     "data": {
      "text/markdown": [
       "\"Lydia is musical\": $M$"
      ],
      "text/plain": [
       "<IPython.core.display.Markdown object>"
      ]
     },
     "metadata": {},
     "output_type": "display_data"
    },
    {
     "data": {
      "text/markdown": [
       "\"Alex is smart\": $q$"
      ],
      "text/plain": [
       "<IPython.core.display.Markdown object>"
      ]
     },
     "metadata": {},
     "output_type": "display_data"
    },
    {
     "data": {
      "text/markdown": [
       "\"Alex is musical\": $m$"
      ],
      "text/plain": [
       "<IPython.core.display.Markdown object>"
      ]
     },
     "metadata": {},
     "output_type": "display_data"
    },
    {
     "data": {
      "text/markdown": [
       "\"George is musical\": $mg$"
      ],
      "text/plain": [
       "<IPython.core.display.Markdown object>"
      ]
     },
     "metadata": {},
     "output_type": "display_data"
    },
    {
     "data": {
      "text/markdown": [
       "\"Lydia is happy\": $h$"
      ],
      "text/plain": [
       "<IPython.core.display.Markdown object>"
      ]
     },
     "metadata": {},
     "output_type": "display_data"
    },
    {
     "data": {
      "text/markdown": [
       "\"George plays the piano\": $g$"
      ],
      "text/plain": [
       "<IPython.core.display.Markdown object>"
      ]
     },
     "metadata": {},
     "output_type": "display_data"
    },
    {
     "name": "stdout",
     "output_type": "stream",
     "text": [
      "Logic model - evaluation function based on input sentences:\n"
     ]
    },
    {
     "data": {
      "text/markdown": [
       "\"p\": $False$"
      ],
      "text/plain": [
       "<IPython.core.display.Markdown object>"
      ]
     },
     "metadata": {},
     "output_type": "display_data"
    },
    {
     "data": {
      "text/markdown": [
       "\"f\": $True$"
      ],
      "text/plain": [
       "<IPython.core.display.Markdown object>"
      ]
     },
     "metadata": {},
     "output_type": "display_data"
    },
    {
     "data": {
      "text/markdown": [
       "\"M\": $True$"
      ],
      "text/plain": [
       "<IPython.core.display.Markdown object>"
      ]
     },
     "metadata": {},
     "output_type": "display_data"
    },
    {
     "data": {
      "text/markdown": [
       "\"q\": $True$"
      ],
      "text/plain": [
       "<IPython.core.display.Markdown object>"
      ]
     },
     "metadata": {},
     "output_type": "display_data"
    },
    {
     "data": {
      "text/markdown": [
       "\"m\": $True$"
      ],
      "text/plain": [
       "<IPython.core.display.Markdown object>"
      ]
     },
     "metadata": {},
     "output_type": "display_data"
    },
    {
     "data": {
      "text/markdown": [
       "\"mg\": $False$"
      ],
      "text/plain": [
       "<IPython.core.display.Markdown object>"
      ]
     },
     "metadata": {},
     "output_type": "display_data"
    },
    {
     "data": {
      "text/markdown": [
       "\"h\": $True$"
      ],
      "text/plain": [
       "<IPython.core.display.Markdown object>"
      ]
     },
     "metadata": {},
     "output_type": "display_data"
    },
    {
     "data": {
      "text/markdown": [
       "\"g\": $True$"
      ],
      "text/plain": [
       "<IPython.core.display.Markdown object>"
      ]
     },
     "metadata": {},
     "output_type": "display_data"
    },
    {
     "name": "stdout",
     "output_type": "stream",
     "text": [
      "Evaluating the previous expressions:\n"
     ]
    },
    {
     "data": {
      "text/markdown": [
       "\"If Alex plays the piano, she is smart.\": $False$"
      ],
      "text/plain": [
       "<IPython.core.display.Markdown object>"
      ]
     },
     "metadata": {},
     "output_type": "display_data"
    },
    {
     "data": {
      "text/markdown": [
       "\"Alex is both smart and musical.\": $True$"
      ],
      "text/plain": [
       "<IPython.core.display.Markdown object>"
      ]
     },
     "metadata": {},
     "output_type": "display_data"
    },
    {
     "data": {
      "text/markdown": [
       "\"If Alex is not smart, Lydia is not happy.\": $True$"
      ],
      "text/plain": [
       "<IPython.core.display.Markdown object>"
      ]
     },
     "metadata": {},
     "output_type": "display_data"
    },
    {
     "data": {
      "text/markdown": [
       "\"If Alex or George plays the piano, they are musical.\": $True$"
      ],
      "text/plain": [
       "<IPython.core.display.Markdown object>"
      ]
     },
     "metadata": {},
     "output_type": "display_data"
    },
    {
     "data": {
      "text/markdown": [
       "\"George plays the piano.\": $True$"
      ],
      "text/plain": [
       "<IPython.core.display.Markdown object>"
      ]
     },
     "metadata": {},
     "output_type": "display_data"
    }
   ],
   "source": [
    "print(\"Logic model - atomized propositions based on input sentences:\")\n",
    "propositions = {\n",
    "\"Alex plays the piano\":\n",
    "    read_expr('p'),\n",
    "'Lydia is smart':\n",
    "    read_expr('f'),\n",
    "'Lydia is musical':\n",
    "    read_expr('M'),\n",
    "\"Alex is smart\":\n",
    "read_expr('q'),\n",
    "\"Alex is musical\":\n",
    "read_expr('m'), \n",
    "'George is musical':\n",
    "    read_expr('mg'),\n",
    "'Lydia is happy':\n",
    "    read_expr('h'),\n",
    "'George plays the piano':\n",
    "    read_expr('g')\n",
    "}\n",
    "for text, semrep in propositions.items():\n",
    "    display_translation(text, semrep)\n",
    "print(\"Logic model - evaluation function based on input sentences:\")\n",
    "propositions = {\n",
    "\"p\": read_expr('False'),\n",
    "\"f\": read_expr('True'),\n",
    "\"M\": read_expr(\"True\"),\n",
    "\"q\": read_expr(\"True\"),\n",
    "\"m\": read_expr(\"True\"),\n",
    "\"mg\": read_expr(\"False\"),\n",
    "\"h\": read_expr(\"True\"),\n",
    "\"g\": read_expr(\"True\")\n",
    "}\n",
    "\n",
    "for text, semrep in propositions.items():\n",
    "    display_translation(text, semrep)\n",
    "\n",
    "print(\"Evaluating the previous expressions:\")\n",
    "\n",
    "propositions = {\n",
    "\"If Alex plays the piano, she is smart.\":\n",
    "    read_expr('False'),\n",
    "\n",
    "\"Alex is both smart and musical.\":\n",
    "read_expr('True'),\n",
    "\n",
    "\"If Alex is not smart, Lydia is not happy.\":\n",
    "read_expr('True'),\n",
    "\n",
    "\"If Alex or George plays the piano, they are musical.\":\n",
    "    read_expr('True'),\n",
    "\n",
    "\"George plays the piano.\":\n",
    "read_expr('True'),\n",
    "}\n",
    "\n",
    "for text, semrep in propositions.items():\n",
    "    display_translation(text, semrep)\n",
    "\n"
   ]
  },
  {
   "cell_type": "markdown",
   "metadata": {},
   "source": [
    "\"If Alex plays the piano, she is smart.\" this statement is false as according to the model Alex does not play the piano(-p) and Alex is smart(q) (as previously stated, I chose to interpret the statement as reffering to Alex), which invalidates this implication.\n",
    "\n",
    "\"Alex is both smart and musical.\" this statement is true, as according to the model, Alex is smart and musical (q & m).\n",
    "\n",
    "\"If Alex is not smart, Lydia is not happy.\" this statement is true, as Alex is smart(q) while Lydia is happy(h), meaning that this implication is valid.\n",
    "\n",
    "\"If Alex or George plays the piano, they are musical.\" this statement is true, as according to the model, George plays the piano(g) and this implication has the condition that either Alex or George have to fulfill the criteria of playing the piano in order for it to work.\n",
    "\n",
    "\"George plays the piano\" this statement is true, as it is specified in the model that George does indeed play the piano(g)."
   ]
  },
  {
   "cell_type": "markdown",
   "metadata": {},
   "source": [
    "*Comments:*"
   ]
  },
  {
   "cell_type": "markdown",
   "metadata": {},
   "source": [
    "### 3. Predicate logic *without quantifiers*\n",
    "\n",
    "Translate the following sentences into predicate-argument formulae of First Order Logic and verify that they parse with `Expression.fromstring()`. Briefly discuss any difficulties you encounter. **[4 + 1 marks]**"
   ]
  },
  {
   "cell_type": "code",
   "execution_count": 4,
   "metadata": {},
   "outputs": [
    {
     "data": {
      "text/markdown": [
       "\"Lydia likes George but Lydia doesn't like Alex\": $(like(lydia,george)\\ \\land\\ -like(lydia,alex))$"
      ],
      "text/plain": [
       "<IPython.core.display.Markdown object>"
      ]
     },
     "metadata": {},
     "output_type": "display_data"
    },
    {
     "data": {
      "text/markdown": [
       "\"Lydia likes herself and so does George\": $(like(lydia,lydia)\\ \\land\\ like(george,george))$"
      ],
      "text/plain": [
       "<IPython.core.display.Markdown object>"
      ]
     },
     "metadata": {},
     "output_type": "display_data"
    },
    {
     "data": {
      "text/markdown": [
       "\"Charlie is an English pianist who plays a sonata\": $(english(charlie)\\ \\land\\ pianist(charlie)\\ \\land\\ play(charlie,sonata))$"
      ],
      "text/plain": [
       "<IPython.core.display.Markdown object>"
      ]
     },
     "metadata": {},
     "output_type": "display_data"
    },
    {
     "data": {
      "text/markdown": [
       "\"Lydia and George admire each other\": $(admire(lydia,george)\\ \\land\\ admire(george,lydia))$"
      ],
      "text/plain": [
       "<IPython.core.display.Markdown object>"
      ]
     },
     "metadata": {},
     "output_type": "display_data"
    }
   ],
   "source": [
    "sentences1 = {\n",
    "    \"Lydia likes George but Lydia doesn't like Alex\": \n",
    "    read_expr(r'like(lydia, george) & -like(lydia, alex)'),\n",
    "    \n",
    "    \"Lydia likes herself and so does George\":\n",
    "    read_expr(r'like(lydia, lydia) & like(george, george)'),\n",
    "    \n",
    "    \"Charlie is an English pianist who plays a sonata\":\n",
    "    read_expr(r'english(charlie) & pianist(charlie) & play(charlie, sonata)'),\n",
    "    \n",
    "    \"Lydia and George admire each other\":\n",
    "    read_expr(r'admire(lydia, george) & admire(george, lydia)'),\n",
    "}\n",
    "\n",
    "for text, semrep in sentences1.items():\n",
    "    display_translation(text, semrep)\n",
    "\n"
   ]
  },
  {
   "cell_type": "markdown",
   "metadata": {},
   "source": [
    "*Difficulties encountered:* \n",
    "\n",
    "- The second sentence (Lydia likes herself and so does George) is a bit ambiguous - it could also be interpreted as 'likes(lydia, lydia) & likes(george, lydia)', depending on whether the \"so does\" refers to liking oneself or to liking Lydia.\n",
    "- In the third sentence, it feels a bit weird to me to treat \"sonata\" as an entity, since I would argue that \"sonata\" is a property that an entity can have (or in other words, it is a set to which an entity can belong), rather than a single identifiable entity. Therefore, I would normally have used the existential quantifier to express that Charlie plays a sonata ('exists x.sonata(x) & plays(charlie, x)').\n",
    "\n"
   ]
  },
  {
   "cell_type": "markdown",
   "metadata": {},
   "source": [
    "### 4. First order logic with quantifiers\n",
    "\n",
    "Translate the following sentences into quantified formulas of First Order Logic and verify that they parse with `Expression.fromstring()`. Briefly discuss any difficulties you encounter. **[4 + 1 marks]**"
   ]
  },
  {
   "cell_type": "code",
   "execution_count": 83,
   "metadata": {},
   "outputs": [
    {
     "data": {
      "text/markdown": [
       "\"Charlie knows a woman who likes George\": $\\exists\\ x.(woman(x)\\ \\land\\ like(x,george)\\ \\land\\ know(charlie,x))$"
      ],
      "text/plain": [
       "<IPython.core.display.Markdown object>"
      ]
     },
     "metadata": {},
     "output_type": "display_data"
    },
    {
     "data": {
      "text/markdown": [
       "\"George admires everybody and Lydia admires nobody\": $\\forall\\ x.(person(x)\\ \\rightarrow\\ (admire(george,x)\\ \\land\\ -admire(lydia,x)))$"
      ],
      "text/plain": [
       "<IPython.core.display.Markdown object>"
      ]
     },
     "metadata": {},
     "output_type": "display_data"
    },
    {
     "data": {
      "text/markdown": [
       "\"Nobody admires everybody\": $-\\exists\\ x.(person(x)\\ \\land\\ \\forall\\ y.(person(y)\\ \\rightarrow\\ admire(x,y)))$"
      ],
      "text/plain": [
       "<IPython.core.display.Markdown object>"
      ]
     },
     "metadata": {},
     "output_type": "display_data"
    },
    {
     "data": {
      "text/markdown": [
       "\"Exactly one musician plays everything Alex wrote\": $\\exists\\ x.(musician(x)\\ \\land\\ \\forall\\ y.(wrote(alex,y)\\ \\rightarrow\\ play(x,y))\\ \\land\\ \\forall\\ z.((musician(z)\\ \\land\\ \\forall\\ y.(wrote(alex,y)\\ \\rightarrow\\ play(z,y)))\\ \\rightarrow\\ (x\\ =\\ z)))$"
      ],
      "text/plain": [
       "<IPython.core.display.Markdown object>"
      ]
     },
     "metadata": {},
     "output_type": "display_data"
    },
    {
     "data": {
      "text/markdown": [
       "\"Alex and Lydia like Alex\": $like((alex\\ \\land\\ lydia),alex)$"
      ],
      "text/plain": [
       "<IPython.core.display.Markdown object>"
      ]
     },
     "metadata": {},
     "output_type": "display_data"
    }
   ],
   "source": [
    "sentences2 = {\n",
    "    \"Charlie knows a woman who likes George\":\n",
    "    read_expr('exists x.(woman(x) & like(x, george) & know(charlie, x))'),\n",
    "    \n",
    "    \"George admires everybody and Lydia admires nobody\":\n",
    "    read_expr('all x.(person(x) -> (admire(george, x) & -admire(lydia, x)))'),\n",
    "\n",
    "    \"Nobody admires everybody\":\n",
    "    read_expr('-exists x.(person(x) & all y.(person(y) -> admire(x, y)))'),\n",
    "    \n",
    "    \"Exactly one musician plays everything Alex wrote\":\n",
    "    read_expr('exists x.(musician(x) & all y.(wrote(alex, y) -> play(x, y)) & all z.(musician(z) & all y.(wrote(alex, y) -> play(z, y)) -> x=z))'),\n",
    "    \n",
    "    \"Alex and Lydia like Alex\":\n",
    "    read_expr('like((alex & lydia), alex)')\n",
    "}\n",
    "\n",
    "for text, semrep in sentences2.items():\n",
    "    display_translation(text, semrep)"
   ]
  },
  {
   "cell_type": "markdown",
   "metadata": {},
   "source": [
    "*Difficulties encountered:*\n",
    "\n",
    "- The third sentence (Nobody admires everybody) *could* possibly be interpreted as 'all x.(-exists y.(admires(y, x)))' (it is true for everyone that no one admires them), but that would be a weird way to say it in that case.\n",
    "- In the last sentence (Exactly one musician plays everything Alex wrote), the \"exactly one\" part was a bit tricky, but I hope I got it right.\n"
   ]
  },
  {
   "cell_type": "markdown",
   "metadata": {},
   "source": [
    "### 5. Valuation of first order logic\n",
    "\n",
    "We observe a world with entities Lydia, George, Alex, Charlie and Bertie, sonata, etude, prelude, waltz, scherzo.\n",
    "\n",
    "1. Lydia likes Lydia, George, Alex and Charlie. George likes Lydia, Bertie and George. Alex likes Alex. Charlie likes Lydia, George, Alex, Charlie and Bertie. Bertie likes Alex.\n",
    "2. Lydia, George, Alex, Charlie and Bertie are English.\n",
    "3. Charlie and Bertie are pianists.\n",
    "4. Charlie plays a sonata, an etude and a waltz. Bertie plays a waltz and a scherzo. Lydia plays an etude, a prelude and a waltz.\n",
    "5. Lydia admires Lydia, Charlie and Bertie. George admires Lydia, George, Alex, Charlie and Bertie. Alex admires Lydia, Alex and Bertie. Charlie admires George and Bertie. Bertie admires Lydia, George, Alex, Charlie and Bertie.\n",
    "6. Lydia knows Lydia, George, Alex, Charlie and Bertie. George knows Lydia, George and Bertie. Alex knows Lydia, Alex and Bertie. Charlie knows George, Charlie and Bertie. Bertie knows Lydia, George, Alex, Charlie and Bertie.\n",
    "7. Lydia, Alex and Charlie are women.\n",
    "8. George and Bertie are men.\n",
    "9. Alex wrote a sonata, an etude an a waltz.\n",
    "10. Lydia, Alex, Charlie and Bertie are musicians.\n",
    "\n",
    "Translate this informal description of the world into a model and evaluate the formulae from Questions 3 and 4 in this model. Briefly comment on the answers you get **[3 + 2 marks]**."
   ]
  },
  {
   "cell_type": "code",
   "execution_count": 84,
   "metadata": {},
   "outputs": [
    {
     "name": "stdout",
     "output_type": "stream",
     "text": [
      "False\n"
     ]
    },
    {
     "data": {
      "text/markdown": [
       "$(like(lydia,george)\\ \\land\\ -like(lydia,alex))$"
      ],
      "text/plain": [
       "<IPython.core.display.Markdown object>"
      ]
     },
     "metadata": {},
     "output_type": "display_data"
    },
    {
     "data": {
      "text/markdown": [
       "----"
      ],
      "text/plain": [
       "<IPython.core.display.Markdown object>"
      ]
     },
     "metadata": {},
     "output_type": "display_data"
    },
    {
     "name": "stdout",
     "output_type": "stream",
     "text": [
      "True\n"
     ]
    },
    {
     "data": {
      "text/markdown": [
       "$(like(lydia,lydia)\\ \\land\\ like(george,george))$"
      ],
      "text/plain": [
       "<IPython.core.display.Markdown object>"
      ]
     },
     "metadata": {},
     "output_type": "display_data"
    },
    {
     "data": {
      "text/markdown": [
       "----"
      ],
      "text/plain": [
       "<IPython.core.display.Markdown object>"
      ]
     },
     "metadata": {},
     "output_type": "display_data"
    },
    {
     "name": "stdout",
     "output_type": "stream",
     "text": [
      "True\n"
     ]
    },
    {
     "data": {
      "text/markdown": [
       "$(english(charlie)\\ \\land\\ pianist(charlie)\\ \\land\\ play(charlie,sonata))$"
      ],
      "text/plain": [
       "<IPython.core.display.Markdown object>"
      ]
     },
     "metadata": {},
     "output_type": "display_data"
    },
    {
     "data": {
      "text/markdown": [
       "----"
      ],
      "text/plain": [
       "<IPython.core.display.Markdown object>"
      ]
     },
     "metadata": {},
     "output_type": "display_data"
    },
    {
     "name": "stdout",
     "output_type": "stream",
     "text": [
      "False\n"
     ]
    },
    {
     "data": {
      "text/markdown": [
       "$(admire(lydia,george)\\ \\land\\ admire(george,lydia))$"
      ],
      "text/plain": [
       "<IPython.core.display.Markdown object>"
      ]
     },
     "metadata": {},
     "output_type": "display_data"
    },
    {
     "data": {
      "text/markdown": [
       "----"
      ],
      "text/plain": [
       "<IPython.core.display.Markdown object>"
      ]
     },
     "metadata": {},
     "output_type": "display_data"
    },
    {
     "name": "stdout",
     "output_type": "stream",
     "text": [
      "True\n"
     ]
    },
    {
     "data": {
      "text/markdown": [
       "$\\exists\\ x.(woman(x)\\ \\land\\ like(x,george)\\ \\land\\ know(charlie,x))$"
      ],
      "text/plain": [
       "<IPython.core.display.Markdown object>"
      ]
     },
     "metadata": {},
     "output_type": "display_data"
    },
    {
     "data": {
      "text/markdown": [
       "----"
      ],
      "text/plain": [
       "<IPython.core.display.Markdown object>"
      ]
     },
     "metadata": {},
     "output_type": "display_data"
    },
    {
     "name": "stdout",
     "output_type": "stream",
     "text": [
      "False\n"
     ]
    },
    {
     "data": {
      "text/markdown": [
       "$\\forall\\ x.(person(x)\\ \\rightarrow\\ (admire(george,x)\\ \\land\\ -admire(lydia,x)))$"
      ],
      "text/plain": [
       "<IPython.core.display.Markdown object>"
      ]
     },
     "metadata": {},
     "output_type": "display_data"
    },
    {
     "data": {
      "text/markdown": [
       "----"
      ],
      "text/plain": [
       "<IPython.core.display.Markdown object>"
      ]
     },
     "metadata": {},
     "output_type": "display_data"
    },
    {
     "name": "stdout",
     "output_type": "stream",
     "text": [
      "False\n"
     ]
    },
    {
     "data": {
      "text/markdown": [
       "$-\\exists\\ x.(person(x)\\ \\land\\ \\forall\\ y.(person(y)\\ \\rightarrow\\ admire(x,y)))$"
      ],
      "text/plain": [
       "<IPython.core.display.Markdown object>"
      ]
     },
     "metadata": {},
     "output_type": "display_data"
    },
    {
     "data": {
      "text/markdown": [
       "----"
      ],
      "text/plain": [
       "<IPython.core.display.Markdown object>"
      ]
     },
     "metadata": {},
     "output_type": "display_data"
    },
    {
     "name": "stdout",
     "output_type": "stream",
     "text": [
      "True\n"
     ]
    },
    {
     "data": {
      "text/markdown": [
       "$\\exists\\ x.(musician(x)\\ \\land\\ \\forall\\ y.(wrote(alex,y)\\ \\rightarrow\\ play(x,y))\\ \\land\\ \\forall\\ z.((musician(z)\\ \\land\\ \\forall\\ y.(wrote(alex,y)\\ \\rightarrow\\ play(z,y)))\\ \\rightarrow\\ (x\\ =\\ z)))$"
      ],
      "text/plain": [
       "<IPython.core.display.Markdown object>"
      ]
     },
     "metadata": {},
     "output_type": "display_data"
    },
    {
     "data": {
      "text/markdown": [
       "----"
      ],
      "text/plain": [
       "<IPython.core.display.Markdown object>"
      ]
     },
     "metadata": {},
     "output_type": "display_data"
    },
    {
     "name": "stdout",
     "output_type": "stream",
     "text": [
      "True\n"
     ]
    },
    {
     "data": {
      "text/markdown": [
       "$like((alex\\ \\land\\ lydia),alex)$"
      ],
      "text/plain": [
       "<IPython.core.display.Markdown object>"
      ]
     },
     "metadata": {},
     "output_type": "display_data"
    },
    {
     "data": {
      "text/markdown": [
       "----"
      ],
      "text/plain": [
       "<IPython.core.display.Markdown object>"
      ]
     },
     "metadata": {},
     "output_type": "display_data"
    }
   ],
   "source": [
    "entities = set(['l','g','a','c','b','s','e','p','w','z'])\n",
    "\n",
    "assign = \"\"\"\n",
    "    lydia => l\n",
    "    george => g\n",
    "    alex => a\n",
    "    charlie => c\n",
    "    bertie => b\n",
    "    sonata => s\n",
    "    etude => e\n",
    "    prelude => p\n",
    "    waltz => w\n",
    "    scherzo => z\n",
    "    english => {l, g, a, c, b}\n",
    "    person => {l, g, a, c, b}\n",
    "    musician => {l, a, c, b}\n",
    "    pianist => {c, b}\n",
    "    woman => {l, a, c}\n",
    "    man => {g, b}\n",
    "    like => {(l, l), (l, g), (l, a), (l, c), (g, l), (g, b), (g, g), (a, a), (c, l), (c, g), (c, a), (c, c), (c, b), (b, a)}\n",
    "    admire => {(l, l), (l, c), (l, b), (g, l), (g, g), (g, a), (g, c), (g, b), (a, l), (a, a), (a, b), (c, g), (c, b), (b, l), (b, g),(b, a) (b, c), (b, b)}\n",
    "    know => {(l, l), (l, g), (l, a), (l, c), (l, b), (g, l), (g, g), (g, b), (a, l), (a, a), (a, b), (c, g), (c, c), (c, b), (b, l), (b, g), (b, a), (b, c), (b, b)}\n",
    "    play => {(c, s), (c, e), (c, w), (b, w), (b, z), (l, e), (l, p), (l, w)}\n",
    "    wrote => {(a, s), (a, e), (a, w)}\n",
    "\"\"\"\n",
    "\n",
    "val2 = nltk.Valuation.fromstring(assign)\n",
    "\n",
    "g2 = nltk.Assignment(entities)\n",
    "m2 = nltk.Model(entities, val2)\n",
    "\n",
    "# sentences from question 3\n",
    "for text, semrep in sentences1.items():\n",
    "    print(m2.evaluate(str(semrep), g2))\n",
    "    display_latex(semrep)\n",
    "    display(Markdown('----'))\n",
    "\n",
    "# sentences from question 4\n",
    "for text, semrep in sentences2.items():\n",
    "    print(m2.evaluate(str(semrep), g2))\n",
    "    display_latex(semrep)\n",
    "    display(Markdown('----'))"
   ]
  },
  {
   "cell_type": "markdown",
   "metadata": {},
   "source": [
    "*Comments on the answers:*\n",
    "\n",
    "This was a useful way to check if the expressions in 3 and 4 were correctly formulated. For example, to begin with a lot of the expressions with quantifiers turned up as 'undefined', which turned out to be because of missing parentheses - for example, 'all x.(person(x) -> (admire(george, x) & -admire(lydia, x)))' without the parentheses directly after the quantifiers did not get a truth value, I am guessing since the quantifier scope was underspecified. \n",
    "Now that that is fixed, the evaluations all agree with what is true in the defined world. \n"
   ]
  },
  {
   "cell_type": "markdown",
   "metadata": {},
   "source": [
    "## Lambda calculus"
   ]
  },
  {
   "cell_type": "code",
   "execution_count": 2,
   "metadata": {},
   "outputs": [],
   "source": [
    "from nltk.grammar import FeatureGrammar"
   ]
  },
  {
   "cell_type": "markdown",
   "metadata": {},
   "source": [
    "### 6. Function application and $\\beta$-reduction\n",
    "In the following examples some code has been deleted and replaced with `<????>`. What has been deleted? Verify that your answer is correct. **[4 marks]**"
   ]
  },
  {
   "cell_type": "code",
   "execution_count": 8,
   "metadata": {},
   "outputs": [
    {
     "data": {
      "text/markdown": [
       "$like(pip,rob)$"
      ],
      "text/plain": [
       "<IPython.core.display.Markdown object>"
      ]
     },
     "metadata": {},
     "output_type": "display_data"
    },
    {
     "data": {
      "text/markdown": [
       "$like(pip,rob)$"
      ],
      "text/plain": [
       "<IPython.core.display.Markdown object>"
      ]
     },
     "metadata": {},
     "output_type": "display_data"
    },
    {
     "data": {
      "text/markdown": [
       "$play(pip,scherzo)$"
      ],
      "text/plain": [
       "<IPython.core.display.Markdown object>"
      ]
     },
     "metadata": {},
     "output_type": "display_data"
    },
    {
     "data": {
      "text/markdown": [
       "$play(pip,scherzo)$"
      ],
      "text/plain": [
       "<IPython.core.display.Markdown object>"
      ]
     },
     "metadata": {},
     "output_type": "display_data"
    },
    {
     "data": {
      "text/markdown": [
       "$\\exists\\ x.(woman(x)\\ \\land\\ play(x,etude))$"
      ],
      "text/plain": [
       "<IPython.core.display.Markdown object>"
      ]
     },
     "metadata": {},
     "output_type": "display_data"
    },
    {
     "data": {
      "text/markdown": [
       "$\\exists\\ x.(woman(x)\\ \\land\\ play(x,etude))$"
      ],
      "text/plain": [
       "<IPython.core.display.Markdown object>"
      ]
     },
     "metadata": {},
     "output_type": "display_data"
    },
    {
     "data": {
      "text/markdown": [
       "$\\lambda\\ x.\\forall\\ z_{1}.(musician(z_{1})\\ \\rightarrow\\ likes(x,z_{1}))$"
      ],
      "text/plain": [
       "<IPython.core.display.Markdown object>"
      ]
     },
     "metadata": {},
     "output_type": "display_data"
    },
    {
     "data": {
      "text/markdown": [
       "$\\lambda\\ x.\\forall\\ z_{2}.(musician(z_{2})\\ \\rightarrow\\ like(x,z_{2}))$"
      ],
      "text/plain": [
       "<IPython.core.display.Markdown object>"
      ]
     },
     "metadata": {},
     "output_type": "display_data"
    }
   ],
   "source": [
    "e1 = read_expr(r'\\x.like(x,rob)')\n",
    "e2 = read_expr(r'pip')\n",
    "e3 = nltk.sem.ApplicationExpression(e1,e2) \n",
    "display_latex(e3.simplify())\n",
    "# with result like(pip,rob).\n",
    "display_latex(read_expr(r\"like(pip,rob)\"))\n",
    "\n",
    "e1 = read_expr(r'\\P.P(pip)')\n",
    "e2 = read_expr(r'\\x.play(x,scherzo)') \n",
    "e3 = nltk.sem.ApplicationExpression(e1,e2)\n",
    "display_latex(e3.simplify())\n",
    "# with result play(pip,scherzo).\n",
    "display_latex(read_expr(r\"play(pip,scherzo)\"))\n",
    "\n",
    "e1 = read_expr(r'\\P.exists x.(woman(x) & P(x))')\n",
    "e2 = read_expr(r'\\x.play(x,etude)') \n",
    "e3 = nltk.sem.ApplicationExpression(e1,e2) \n",
    "display_latex(e3.simplify())\n",
    "# with result exists x.(woman(x) & play(x,etude)).\n",
    "display_latex(read_expr(r\"exists x.(woman(x) & play(x,etude))\"))\n",
    "\n",
    "e1 = read_expr(r'\\X x.X(\\y.likes(x, y)) ')\n",
    "e2 = read_expr(r'\\P.all x. (musician(x) -> P(x))') \n",
    "e3 = nltk.sem.ApplicationExpression(e1,e2) \n",
    "display_latex(e3.simplify())\n",
    "# with result \\x.all z2.(musician(z2) -> like(x,z2)).\n",
    "display_latex(read_expr(r\"\\x.all z2.(musician(z2) -> like(x,z2))\"))"
   ]
  },
  {
   "cell_type": "markdown",
   "metadata": {},
   "source": [
    "### 7. Extending the grammar\n",
    "\n",
    "Extend the grammar simple_sem.fcfg that comes with NLTK `(~/nltk_data/grammars/book_grammars/)` so that it will cover the following sentences:\n",
    "\n",
    "- no man gives a bone to a dog **[4 marks]**\n",
    "- no man gives a bone to the dog **[4 marks]**\n",
    "- a boy and a girl chased every dog **[2 marks]**\n",
    "- every dog chased a boy and a girl **[2 marks]**\n",
    "- a brown cat chases a white dog **[4 marks]**\n",
    "\n",
    "The last example includes adjectives. Several different kinds of adjectives are discussed in the literature [(cf. Kennedy, 2012)](http://semantics.uchicago.edu/kennedy/docs/routledge.pdf). In this example we have an intersective adjective. The denotiation we want for \"brown cat\" is a a set that we get by intersecting the set of individuals that are brown and the set of individuals that are cats.\n",
    "\n",
    "C. Kennedy. Adjectives. In G. Russell, editor, The Routledge Companion to Philosophy of Language, chapter 3.3, pages 328–341. Routledge, 2012.\n",
    "\n",
    "The original grammar is included in the code below as a string."
   ]
  },
  {
   "cell_type": "code",
   "execution_count": 3,
   "metadata": {},
   "outputs": [],
   "source": [
    "fcfg_string_orginal = r\"\"\"\n",
    "% start S\n",
    "############################\n",
    "# Grammar Rules\n",
    "#############################\n",
    "\n",
    "S[SEM = <?subj(?vp)>] -> NP[NUM=?n,SEM=?subj] VP[NUM=?n,SEM=?vp]\n",
    "\n",
    "NP[NUM=?n,SEM=<?det(?nom)> ] -> Det[NUM=?n,SEM=?det]  Nom[NUM=?n,SEM=?nom]\n",
    "NP[LOC=?l,NUM=?n,SEM=?np] -> PropN[LOC=?l,NUM=?n,SEM=?np]\n",
    "\n",
    "Nom[NUM=?n,SEM=?nom] -> N[NUM=?n,SEM=?nom]\n",
    "\n",
    "VP[NUM=?n,SEM=?v] -> IV[NUM=?n,SEM=?v]\n",
    "VP[NUM=?n,SEM=<?v(?obj)>] -> TV[NUM=?n,SEM=?v] NP[SEM=?obj]\n",
    "VP[NUM=?n,SEM=<?v(?obj,?pp)>] -> DTV[NUM=?n,SEM=?v] NP[SEM=?obj] PP[+TO,SEM=?pp]\n",
    "\n",
    "PP[+TO, SEM=?np] -> P[+TO] NP[SEM=?np]\n",
    "\n",
    "#############################\n",
    "# Lexical Rules\n",
    "#############################\n",
    "\n",
    "PropN[-LOC,NUM=sg,SEM=<\\P.P(angus)>] -> 'Angus'\n",
    "PropN[-LOC,NUM=sg,SEM=<\\P.P(cyril)>] -> 'Cyril'\n",
    "PropN[-LOC,NUM=sg,SEM=<\\P.P(irene)>] -> 'Irene'\n",
    " \n",
    "Det[NUM=sg,SEM=<\\P Q.all x.(P(x) -> Q(x))>] -> 'every'\n",
    "Det[NUM=pl,SEM=<\\P Q.all x.(P(x) -> Q(x))>] -> 'all'\n",
    "Det[SEM=<\\P Q.exists x.(P(x) & Q(x))>] -> 'some'\n",
    "Det[NUM=sg,SEM=<\\P Q.exists x.(P(x) & Q(x))>] -> 'a'\n",
    "Det[NUM=sg,SEM=<\\P Q.exists x.(P(x) & Q(x))>] -> 'an'\n",
    "\n",
    "N[NUM=sg,SEM=<\\x.man(x)>] -> 'man'\n",
    "N[NUM=sg,SEM=<\\x.girl(x)>] -> 'girl'\n",
    "N[NUM=sg,SEM=<\\x.boy(x)>] -> 'boy'\n",
    "N[NUM=sg,SEM=<\\x.bone(x)>] -> 'bone'\n",
    "N[NUM=sg,SEM=<\\x.ankle(x)>] -> 'ankle'\n",
    "N[NUM=sg,SEM=<\\x.dog(x)>] -> 'dog'\n",
    "N[NUM=pl,SEM=<\\x.dog(x)>] -> 'dogs'\n",
    "\n",
    "IV[NUM=sg,SEM=<\\x.bark(x)>,TNS=pres] -> 'barks'\n",
    "IV[NUM=pl,SEM=<\\x.bark(x)>,TNS=pres] -> 'bark'\n",
    "IV[NUM=sg,SEM=<\\x.walk(x)>,TNS=pres] -> 'walks'\n",
    "IV[NUM=pl,SEM=<\\x.walk(x)>,TNS=pres] -> 'walk'\n",
    "TV[NUM=sg,SEM=<\\X x.X(\\ y.chase(x,y))>,TNS=pres] -> 'chases'\n",
    "TV[NUM=pl,SEM=<\\X x.X(\\ y.chase(x,y))>,TNS=pres] -> 'chase'\n",
    "TV[NUM=sg,SEM=<\\X x.X(\\ y.see(x,y))>,TNS=pres] -> 'sees'\n",
    "TV[NUM=pl,SEM=<\\X x.X(\\ y.see(x,y))>,TNS=pres] -> 'see'\n",
    "TV[NUM=sg,SEM=<\\X x.X(\\ y.bite(x,y))>,TNS=pres] -> 'bites'\n",
    "TV[NUM=pl,SEM=<\\X x.X(\\ y.bite(x,y))>,TNS=pres] -> 'bite'\n",
    "DTV[NUM=sg,SEM=<\\Y X x.X(\\z.Y(\\y.give(x,y,z)))>,TNS=pres] -> 'gives'\n",
    "DTV[NUM=pl,SEM=<\\Y X x.X(\\z.Y(\\y.give(x,y,z)))>,TNS=pres] -> 'give'\n",
    "\n",
    "P[+to] -> 'to'\n",
    "\"\"\""
   ]
  },
  {
   "cell_type": "markdown",
   "metadata": {},
   "source": [
    "Write your extension of this grammar here:"
   ]
  },
  {
   "cell_type": "code",
   "execution_count": 10,
   "metadata": {},
   "outputs": [
    {
     "ename": "ValueError",
     "evalue": "Unable to parse line 62: CONJ[SEM=<&>] -> 'and'\nError parsing feature structure\n    CONJ[SEM=<&>] -> 'and'\n              ^ Expected logic expression",
     "output_type": "error",
     "traceback": [
      "\u001b[0;31m---------------------------------------------------------------------------\u001b[0m",
      "\u001b[0;31mUnexpectedTokenException\u001b[0m                  Traceback (most recent call last)",
      "\u001b[0;32m~/opt/anaconda3/lib/python3.9/site-packages/nltk/sem/logic.py\u001b[0m in \u001b[0;36mparse\u001b[0;34m(self, data, signature)\u001b[0m\n\u001b[1;32m    151\u001b[0m         \u001b[0;32mtry\u001b[0m\u001b[0;34m:\u001b[0m\u001b[0;34m\u001b[0m\u001b[0;34m\u001b[0m\u001b[0m\n\u001b[0;32m--> 152\u001b[0;31m             \u001b[0mresult\u001b[0m \u001b[0;34m=\u001b[0m \u001b[0mself\u001b[0m\u001b[0;34m.\u001b[0m\u001b[0mprocess_next_expression\u001b[0m\u001b[0;34m(\u001b[0m\u001b[0;32mNone\u001b[0m\u001b[0;34m)\u001b[0m\u001b[0;34m\u001b[0m\u001b[0;34m\u001b[0m\u001b[0m\n\u001b[0m\u001b[1;32m    153\u001b[0m             \u001b[0;32mif\u001b[0m \u001b[0mself\u001b[0m\u001b[0;34m.\u001b[0m\u001b[0minRange\u001b[0m\u001b[0;34m(\u001b[0m\u001b[0;36m0\u001b[0m\u001b[0;34m)\u001b[0m\u001b[0;34m:\u001b[0m\u001b[0;34m\u001b[0m\u001b[0;34m\u001b[0m\u001b[0m\n",
      "\u001b[0;32m~/opt/anaconda3/lib/python3.9/site-packages/nltk/sem/logic.py\u001b[0m in \u001b[0;36mprocess_next_expression\u001b[0;34m(self, context)\u001b[0m\n\u001b[1;32m    290\u001b[0m         \u001b[0;32mif\u001b[0m \u001b[0;32mnot\u001b[0m \u001b[0maccum\u001b[0m\u001b[0;34m:\u001b[0m\u001b[0;34m\u001b[0m\u001b[0;34m\u001b[0m\u001b[0m\n\u001b[0;32m--> 291\u001b[0;31m             raise UnexpectedTokenException(\n\u001b[0m\u001b[1;32m    292\u001b[0m                 \u001b[0mself\u001b[0m\u001b[0;34m.\u001b[0m\u001b[0m_currentIndex\u001b[0m\u001b[0;34m,\u001b[0m \u001b[0mtok\u001b[0m\u001b[0;34m,\u001b[0m \u001b[0mmessage\u001b[0m\u001b[0;34m=\u001b[0m\u001b[0;34m\"Expression expected.\"\u001b[0m\u001b[0;34m\u001b[0m\u001b[0;34m\u001b[0m\u001b[0m\n",
      "\u001b[0;31mUnexpectedTokenException\u001b[0m: Unexpected token: '&'.  Expression expected.",
      "\nThe above exception was the direct cause of the following exception:\n",
      "\u001b[0;31mLogicalExpressionException\u001b[0m                Traceback (most recent call last)",
      "\u001b[0;32m~/opt/anaconda3/lib/python3.9/site-packages/nltk/featstruct.py\u001b[0m in \u001b[0;36mread_logic_value\u001b[0;34m(self, s, position, reentrances, match)\u001b[0m\n\u001b[1;32m   2512\u001b[0m             \u001b[0;32mtry\u001b[0m\u001b[0;34m:\u001b[0m\u001b[0;34m\u001b[0m\u001b[0;34m\u001b[0m\u001b[0m\n\u001b[0;32m-> 2513\u001b[0;31m                 \u001b[0mexpr\u001b[0m \u001b[0;34m=\u001b[0m \u001b[0mself\u001b[0m\u001b[0;34m.\u001b[0m\u001b[0m_logic_parser\u001b[0m\u001b[0;34m.\u001b[0m\u001b[0mparse\u001b[0m\u001b[0;34m(\u001b[0m\u001b[0mmatch\u001b[0m\u001b[0;34m.\u001b[0m\u001b[0mgroup\u001b[0m\u001b[0;34m(\u001b[0m\u001b[0;36m1\u001b[0m\u001b[0;34m)\u001b[0m\u001b[0;34m)\u001b[0m\u001b[0;34m\u001b[0m\u001b[0;34m\u001b[0m\u001b[0m\n\u001b[0m\u001b[1;32m   2514\u001b[0m             \u001b[0;32mexcept\u001b[0m \u001b[0mLogicalExpressionException\u001b[0m \u001b[0;32mas\u001b[0m \u001b[0me\u001b[0m\u001b[0;34m:\u001b[0m\u001b[0;34m\u001b[0m\u001b[0;34m\u001b[0m\u001b[0m\n",
      "\u001b[0;32m~/opt/anaconda3/lib/python3.9/site-packages/nltk/sem/logic.py\u001b[0m in \u001b[0;36mparse\u001b[0;34m(self, data, signature)\u001b[0m\n\u001b[1;32m    156\u001b[0m             \u001b[0mmsg\u001b[0m \u001b[0;34m=\u001b[0m \u001b[0;34m\"{}\\n{}\\n{}^\"\u001b[0m\u001b[0;34m.\u001b[0m\u001b[0mformat\u001b[0m\u001b[0;34m(\u001b[0m\u001b[0me\u001b[0m\u001b[0;34m,\u001b[0m \u001b[0mdata\u001b[0m\u001b[0;34m,\u001b[0m \u001b[0;34m\" \"\u001b[0m \u001b[0;34m*\u001b[0m \u001b[0mmapping\u001b[0m\u001b[0;34m[\u001b[0m\u001b[0me\u001b[0m\u001b[0;34m.\u001b[0m\u001b[0mindex\u001b[0m \u001b[0;34m-\u001b[0m \u001b[0;36m1\u001b[0m\u001b[0;34m]\u001b[0m\u001b[0;34m)\u001b[0m\u001b[0;34m\u001b[0m\u001b[0;34m\u001b[0m\u001b[0m\n\u001b[0;32m--> 157\u001b[0;31m             \u001b[0;32mraise\u001b[0m \u001b[0mLogicalExpressionException\u001b[0m\u001b[0;34m(\u001b[0m\u001b[0;32mNone\u001b[0m\u001b[0;34m,\u001b[0m \u001b[0mmsg\u001b[0m\u001b[0;34m)\u001b[0m \u001b[0;32mfrom\u001b[0m \u001b[0me\u001b[0m\u001b[0;34m\u001b[0m\u001b[0;34m\u001b[0m\u001b[0m\n\u001b[0m\u001b[1;32m    158\u001b[0m \u001b[0;34m\u001b[0m\u001b[0m\n",
      "\u001b[0;31mLogicalExpressionException\u001b[0m: Unexpected token: '&'.  Expression expected.\n&\n^",
      "\nThe above exception was the direct cause of the following exception:\n",
      "\u001b[0;31mValueError\u001b[0m                                Traceback (most recent call last)",
      "\u001b[0;32m~/opt/anaconda3/lib/python3.9/site-packages/nltk/featstruct.py\u001b[0m in \u001b[0;36mread_logic_value\u001b[0;34m(self, s, position, reentrances, match)\u001b[0m\n\u001b[1;32m   2514\u001b[0m             \u001b[0;32mexcept\u001b[0m \u001b[0mLogicalExpressionException\u001b[0m \u001b[0;32mas\u001b[0m \u001b[0me\u001b[0m\u001b[0;34m:\u001b[0m\u001b[0;34m\u001b[0m\u001b[0;34m\u001b[0m\u001b[0m\n\u001b[0;32m-> 2515\u001b[0;31m                 \u001b[0;32mraise\u001b[0m \u001b[0mValueError\u001b[0m \u001b[0;32mfrom\u001b[0m \u001b[0me\u001b[0m\u001b[0;34m\u001b[0m\u001b[0;34m\u001b[0m\u001b[0m\n\u001b[0m\u001b[1;32m   2516\u001b[0m             \u001b[0;32mreturn\u001b[0m \u001b[0mexpr\u001b[0m\u001b[0;34m,\u001b[0m \u001b[0mmatch\u001b[0m\u001b[0;34m.\u001b[0m\u001b[0mend\u001b[0m\u001b[0;34m(\u001b[0m\u001b[0;34m)\u001b[0m\u001b[0;34m\u001b[0m\u001b[0;34m\u001b[0m\u001b[0m\n",
      "\u001b[0;31mValueError\u001b[0m: ",
      "\nThe above exception was the direct cause of the following exception:\n",
      "\u001b[0;31mValueError\u001b[0m                                Traceback (most recent call last)",
      "\u001b[0;32m~/opt/anaconda3/lib/python3.9/site-packages/nltk/featstruct.py\u001b[0m in \u001b[0;36mread_partial\u001b[0;34m(self, s, position, reentrances, fstruct)\u001b[0m\n\u001b[1;32m   2235\u001b[0m         \u001b[0;32mtry\u001b[0m\u001b[0;34m:\u001b[0m\u001b[0;34m\u001b[0m\u001b[0;34m\u001b[0m\u001b[0m\n\u001b[0;32m-> 2236\u001b[0;31m             \u001b[0;32mreturn\u001b[0m \u001b[0mself\u001b[0m\u001b[0;34m.\u001b[0m\u001b[0m_read_partial\u001b[0m\u001b[0;34m(\u001b[0m\u001b[0ms\u001b[0m\u001b[0;34m,\u001b[0m \u001b[0mposition\u001b[0m\u001b[0;34m,\u001b[0m \u001b[0mreentrances\u001b[0m\u001b[0;34m,\u001b[0m \u001b[0mfstruct\u001b[0m\u001b[0;34m)\u001b[0m\u001b[0;34m\u001b[0m\u001b[0;34m\u001b[0m\u001b[0m\n\u001b[0m\u001b[1;32m   2237\u001b[0m         \u001b[0;32mexcept\u001b[0m \u001b[0mValueError\u001b[0m \u001b[0;32mas\u001b[0m \u001b[0me\u001b[0m\u001b[0;34m:\u001b[0m\u001b[0;34m\u001b[0m\u001b[0;34m\u001b[0m\u001b[0m\n",
      "\u001b[0;32m~/opt/anaconda3/lib/python3.9/site-packages/nltk/featstruct.py\u001b[0m in \u001b[0;36m_read_partial\u001b[0;34m(self, s, position, reentrances, fstruct)\u001b[0m\n\u001b[1;32m   2266\u001b[0m             \u001b[0mfstruct\u001b[0m\u001b[0;34m.\u001b[0m\u001b[0mclear\u001b[0m\u001b[0;34m(\u001b[0m\u001b[0;34m)\u001b[0m\u001b[0;34m\u001b[0m\u001b[0;34m\u001b[0m\u001b[0m\n\u001b[0;32m-> 2267\u001b[0;31m             \u001b[0;32mreturn\u001b[0m \u001b[0mself\u001b[0m\u001b[0;34m.\u001b[0m\u001b[0m_read_partial_featdict\u001b[0m\u001b[0;34m(\u001b[0m\u001b[0ms\u001b[0m\u001b[0;34m,\u001b[0m \u001b[0mposition\u001b[0m\u001b[0;34m,\u001b[0m \u001b[0mmatch\u001b[0m\u001b[0;34m,\u001b[0m \u001b[0mreentrances\u001b[0m\u001b[0;34m,\u001b[0m \u001b[0mfstruct\u001b[0m\u001b[0;34m)\u001b[0m\u001b[0;34m\u001b[0m\u001b[0;34m\u001b[0m\u001b[0m\n\u001b[0m\u001b[1;32m   2268\u001b[0m         \u001b[0;32melse\u001b[0m\u001b[0;34m:\u001b[0m\u001b[0;34m\u001b[0m\u001b[0;34m\u001b[0m\u001b[0m\n",
      "\u001b[0;32m~/opt/anaconda3/lib/python3.9/site-packages/nltk/featstruct.py\u001b[0m in \u001b[0;36m_read_partial_featdict\u001b[0;34m(self, s, position, match, reentrances, fstruct)\u001b[0m\n\u001b[1;32m   2389\u001b[0m                     \u001b[0mposition\u001b[0m \u001b[0;34m=\u001b[0m \u001b[0mmatch\u001b[0m\u001b[0;34m.\u001b[0m\u001b[0mend\u001b[0m\u001b[0;34m(\u001b[0m\u001b[0;34m)\u001b[0m\u001b[0;34m\u001b[0m\u001b[0;34m\u001b[0m\u001b[0m\n\u001b[0;32m-> 2390\u001b[0;31m                     \u001b[0mvalue\u001b[0m\u001b[0;34m,\u001b[0m \u001b[0mposition\u001b[0m \u001b[0;34m=\u001b[0m \u001b[0mself\u001b[0m\u001b[0;34m.\u001b[0m\u001b[0m_read_value\u001b[0m\u001b[0;34m(\u001b[0m\u001b[0mname\u001b[0m\u001b[0;34m,\u001b[0m \u001b[0ms\u001b[0m\u001b[0;34m,\u001b[0m \u001b[0mposition\u001b[0m\u001b[0;34m,\u001b[0m \u001b[0mreentrances\u001b[0m\u001b[0;34m)\u001b[0m\u001b[0;34m\u001b[0m\u001b[0;34m\u001b[0m\u001b[0m\n\u001b[0m\u001b[1;32m   2391\u001b[0m                 \u001b[0;31m# None of the above: error.\u001b[0m\u001b[0;34m\u001b[0m\u001b[0;34m\u001b[0m\u001b[0m\n",
      "\u001b[0;32m~/opt/anaconda3/lib/python3.9/site-packages/nltk/featstruct.py\u001b[0m in \u001b[0;36m_read_value\u001b[0;34m(self, name, s, position, reentrances)\u001b[0m\n\u001b[1;32m   2431\u001b[0m         \u001b[0;32melse\u001b[0m\u001b[0;34m:\u001b[0m\u001b[0;34m\u001b[0m\u001b[0;34m\u001b[0m\u001b[0m\n\u001b[0;32m-> 2432\u001b[0;31m             \u001b[0;32mreturn\u001b[0m \u001b[0mself\u001b[0m\u001b[0;34m.\u001b[0m\u001b[0mread_value\u001b[0m\u001b[0;34m(\u001b[0m\u001b[0ms\u001b[0m\u001b[0;34m,\u001b[0m \u001b[0mposition\u001b[0m\u001b[0;34m,\u001b[0m \u001b[0mreentrances\u001b[0m\u001b[0;34m)\u001b[0m\u001b[0;34m\u001b[0m\u001b[0;34m\u001b[0m\u001b[0m\n\u001b[0m\u001b[1;32m   2433\u001b[0m \u001b[0;34m\u001b[0m\u001b[0m\n",
      "\u001b[0;32m~/opt/anaconda3/lib/python3.9/site-packages/nltk/featstruct.py\u001b[0m in \u001b[0;36mread_value\u001b[0;34m(self, s, position, reentrances)\u001b[0m\n\u001b[1;32m   2438\u001b[0m                 \u001b[0mhandler_func\u001b[0m \u001b[0;34m=\u001b[0m \u001b[0mgetattr\u001b[0m\u001b[0;34m(\u001b[0m\u001b[0mself\u001b[0m\u001b[0;34m,\u001b[0m \u001b[0mhandler\u001b[0m\u001b[0;34m)\u001b[0m\u001b[0;34m\u001b[0m\u001b[0;34m\u001b[0m\u001b[0m\n\u001b[0;32m-> 2439\u001b[0;31m                 \u001b[0;32mreturn\u001b[0m \u001b[0mhandler_func\u001b[0m\u001b[0;34m(\u001b[0m\u001b[0ms\u001b[0m\u001b[0;34m,\u001b[0m \u001b[0mposition\u001b[0m\u001b[0;34m,\u001b[0m \u001b[0mreentrances\u001b[0m\u001b[0;34m,\u001b[0m \u001b[0mmatch\u001b[0m\u001b[0;34m)\u001b[0m\u001b[0;34m\u001b[0m\u001b[0;34m\u001b[0m\u001b[0m\n\u001b[0m\u001b[1;32m   2440\u001b[0m         \u001b[0;32mraise\u001b[0m \u001b[0mValueError\u001b[0m\u001b[0;34m(\u001b[0m\u001b[0;34m\"value\"\u001b[0m\u001b[0;34m,\u001b[0m \u001b[0mposition\u001b[0m\u001b[0;34m)\u001b[0m\u001b[0;34m\u001b[0m\u001b[0;34m\u001b[0m\u001b[0m\n",
      "\u001b[0;32m~/opt/anaconda3/lib/python3.9/site-packages/nltk/featstruct.py\u001b[0m in \u001b[0;36mread_logic_value\u001b[0;34m(self, s, position, reentrances, match)\u001b[0m\n\u001b[1;32m   2517\u001b[0m         \u001b[0;32mexcept\u001b[0m \u001b[0mValueError\u001b[0m \u001b[0;32mas\u001b[0m \u001b[0me\u001b[0m\u001b[0;34m:\u001b[0m\u001b[0;34m\u001b[0m\u001b[0;34m\u001b[0m\u001b[0m\n\u001b[0;32m-> 2518\u001b[0;31m             \u001b[0;32mraise\u001b[0m \u001b[0mValueError\u001b[0m\u001b[0;34m(\u001b[0m\u001b[0;34m\"logic expression\"\u001b[0m\u001b[0;34m,\u001b[0m \u001b[0mmatch\u001b[0m\u001b[0;34m.\u001b[0m\u001b[0mstart\u001b[0m\u001b[0;34m(\u001b[0m\u001b[0;36m1\u001b[0m\u001b[0;34m)\u001b[0m\u001b[0;34m)\u001b[0m \u001b[0;32mfrom\u001b[0m \u001b[0me\u001b[0m\u001b[0;34m\u001b[0m\u001b[0;34m\u001b[0m\u001b[0m\n\u001b[0m\u001b[1;32m   2519\u001b[0m \u001b[0;34m\u001b[0m\u001b[0m\n",
      "\u001b[0;31mValueError\u001b[0m: ('logic expression', 10)",
      "\nDuring handling of the above exception, another exception occurred:\n",
      "\u001b[0;31mValueError\u001b[0m                                Traceback (most recent call last)",
      "\u001b[0;32m~/opt/anaconda3/lib/python3.9/site-packages/nltk/grammar.py\u001b[0m in \u001b[0;36mread_grammar\u001b[0;34m(input, nonterm_parser, probabilistic, encoding)\u001b[0m\n\u001b[1;32m   1433\u001b[0m                 \u001b[0;31m# expand out the disjunctions on the RHS\u001b[0m\u001b[0;34m\u001b[0m\u001b[0;34m\u001b[0m\u001b[0m\n\u001b[0;32m-> 1434\u001b[0;31m                 \u001b[0mproductions\u001b[0m \u001b[0;34m+=\u001b[0m \u001b[0m_read_production\u001b[0m\u001b[0;34m(\u001b[0m\u001b[0mline\u001b[0m\u001b[0;34m,\u001b[0m \u001b[0mnonterm_parser\u001b[0m\u001b[0;34m,\u001b[0m \u001b[0mprobabilistic\u001b[0m\u001b[0;34m)\u001b[0m\u001b[0;34m\u001b[0m\u001b[0;34m\u001b[0m\u001b[0m\n\u001b[0m\u001b[1;32m   1435\u001b[0m         \u001b[0;32mexcept\u001b[0m \u001b[0mValueError\u001b[0m \u001b[0;32mas\u001b[0m \u001b[0me\u001b[0m\u001b[0;34m:\u001b[0m\u001b[0;34m\u001b[0m\u001b[0;34m\u001b[0m\u001b[0m\n",
      "\u001b[0;32m~/opt/anaconda3/lib/python3.9/site-packages/nltk/grammar.py\u001b[0m in \u001b[0;36m_read_production\u001b[0;34m(line, nonterm_parser, probabilistic)\u001b[0m\n\u001b[1;32m   1332\u001b[0m     \u001b[0;31m# Parse the left-hand side.\u001b[0m\u001b[0;34m\u001b[0m\u001b[0;34m\u001b[0m\u001b[0m\n\u001b[0;32m-> 1333\u001b[0;31m     \u001b[0mlhs\u001b[0m\u001b[0;34m,\u001b[0m \u001b[0mpos\u001b[0m \u001b[0;34m=\u001b[0m \u001b[0mnonterm_parser\u001b[0m\u001b[0;34m(\u001b[0m\u001b[0mline\u001b[0m\u001b[0;34m,\u001b[0m \u001b[0mpos\u001b[0m\u001b[0;34m)\u001b[0m\u001b[0;34m\u001b[0m\u001b[0;34m\u001b[0m\u001b[0m\n\u001b[0m\u001b[1;32m   1334\u001b[0m \u001b[0;34m\u001b[0m\u001b[0m\n",
      "\u001b[0;32m~/opt/anaconda3/lib/python3.9/site-packages/nltk/featstruct.py\u001b[0m in \u001b[0;36mread_partial\u001b[0;34m(self, s, position, reentrances, fstruct)\u001b[0m\n\u001b[1;32m   2239\u001b[0m                 \u001b[0;32mraise\u001b[0m\u001b[0;34m\u001b[0m\u001b[0;34m\u001b[0m\u001b[0m\n\u001b[0;32m-> 2240\u001b[0;31m             \u001b[0mself\u001b[0m\u001b[0;34m.\u001b[0m\u001b[0m_error\u001b[0m\u001b[0;34m(\u001b[0m\u001b[0ms\u001b[0m\u001b[0;34m,\u001b[0m \u001b[0;34m*\u001b[0m\u001b[0me\u001b[0m\u001b[0;34m.\u001b[0m\u001b[0margs\u001b[0m\u001b[0;34m)\u001b[0m\u001b[0;34m\u001b[0m\u001b[0;34m\u001b[0m\u001b[0m\n\u001b[0m\u001b[1;32m   2241\u001b[0m \u001b[0;34m\u001b[0m\u001b[0m\n",
      "\u001b[0;32m~/opt/anaconda3/lib/python3.9/site-packages/nltk/featstruct.py\u001b[0m in \u001b[0;36m_error\u001b[0;34m(self, s, expected, position)\u001b[0m\n\u001b[1;32m   2453\u001b[0m         )\n\u001b[0;32m-> 2454\u001b[0;31m         \u001b[0;32mraise\u001b[0m \u001b[0mValueError\u001b[0m\u001b[0;34m(\u001b[0m\u001b[0mestr\u001b[0m\u001b[0;34m)\u001b[0m\u001b[0;34m\u001b[0m\u001b[0;34m\u001b[0m\u001b[0m\n\u001b[0m\u001b[1;32m   2455\u001b[0m \u001b[0;34m\u001b[0m\u001b[0m\n",
      "\u001b[0;31mValueError\u001b[0m: Error parsing feature structure\n    CONJ[SEM=<&>] -> 'and'\n              ^ Expected logic expression",
      "\nThe above exception was the direct cause of the following exception:\n",
      "\u001b[0;31mValueError\u001b[0m                                Traceback (most recent call last)",
      "\u001b[0;32m/var/folders/53/gh2xyyrj65s9ppfyr8jv8bmm0000gn/T/ipykernel_58791/3467609509.py\u001b[0m in \u001b[0;36m<module>\u001b[0;34m\u001b[0m\n\u001b[1;32m     15\u001b[0m \u001b[0;34m\u001b[0m\u001b[0m\n\u001b[1;32m     16\u001b[0m \u001b[0;31m# Load `fcfg_string` as a feature grammar:\u001b[0m\u001b[0;34m\u001b[0m\u001b[0;34m\u001b[0m\u001b[0m\n\u001b[0;32m---> 17\u001b[0;31m \u001b[0msyntax\u001b[0m \u001b[0;34m=\u001b[0m \u001b[0mFeatureGrammar\u001b[0m\u001b[0;34m.\u001b[0m\u001b[0mfromstring\u001b[0m\u001b[0;34m(\u001b[0m\u001b[0mfcfg_string\u001b[0m\u001b[0;34m)\u001b[0m\u001b[0;34m\u001b[0m\u001b[0;34m\u001b[0m\u001b[0m\n\u001b[0m",
      "\u001b[0;32m~/opt/anaconda3/lib/python3.9/site-packages/nltk/grammar.py\u001b[0m in \u001b[0;36mfromstring\u001b[0;34m(cls, input, features, logic_parser, fstruct_reader, encoding)\u001b[0m\n\u001b[1;32m    939\u001b[0m             )\n\u001b[1;32m    940\u001b[0m \u001b[0;34m\u001b[0m\u001b[0m\n\u001b[0;32m--> 941\u001b[0;31m         start, productions = read_grammar(\n\u001b[0m\u001b[1;32m    942\u001b[0m             \u001b[0minput\u001b[0m\u001b[0;34m,\u001b[0m \u001b[0mfstruct_reader\u001b[0m\u001b[0;34m.\u001b[0m\u001b[0mread_partial\u001b[0m\u001b[0;34m,\u001b[0m \u001b[0mencoding\u001b[0m\u001b[0;34m=\u001b[0m\u001b[0mencoding\u001b[0m\u001b[0;34m\u001b[0m\u001b[0;34m\u001b[0m\u001b[0m\n\u001b[1;32m    943\u001b[0m         )\n",
      "\u001b[0;32m~/opt/anaconda3/lib/python3.9/site-packages/nltk/grammar.py\u001b[0m in \u001b[0;36mread_grammar\u001b[0;34m(input, nonterm_parser, probabilistic, encoding)\u001b[0m\n\u001b[1;32m   1434\u001b[0m                 \u001b[0mproductions\u001b[0m \u001b[0;34m+=\u001b[0m \u001b[0m_read_production\u001b[0m\u001b[0;34m(\u001b[0m\u001b[0mline\u001b[0m\u001b[0;34m,\u001b[0m \u001b[0mnonterm_parser\u001b[0m\u001b[0;34m,\u001b[0m \u001b[0mprobabilistic\u001b[0m\u001b[0;34m)\u001b[0m\u001b[0;34m\u001b[0m\u001b[0;34m\u001b[0m\u001b[0m\n\u001b[1;32m   1435\u001b[0m         \u001b[0;32mexcept\u001b[0m \u001b[0mValueError\u001b[0m \u001b[0;32mas\u001b[0m \u001b[0me\u001b[0m\u001b[0;34m:\u001b[0m\u001b[0;34m\u001b[0m\u001b[0;34m\u001b[0m\u001b[0m\n\u001b[0;32m-> 1436\u001b[0;31m             \u001b[0;32mraise\u001b[0m \u001b[0mValueError\u001b[0m\u001b[0;34m(\u001b[0m\u001b[0;34mf\"Unable to parse line {linenum + 1}: {line}\\n{e}\"\u001b[0m\u001b[0;34m)\u001b[0m \u001b[0;32mfrom\u001b[0m \u001b[0me\u001b[0m\u001b[0;34m\u001b[0m\u001b[0;34m\u001b[0m\u001b[0m\n\u001b[0m\u001b[1;32m   1437\u001b[0m \u001b[0;34m\u001b[0m\u001b[0m\n\u001b[1;32m   1438\u001b[0m     \u001b[0;32mif\u001b[0m \u001b[0;32mnot\u001b[0m \u001b[0mproductions\u001b[0m\u001b[0;34m:\u001b[0m\u001b[0;34m\u001b[0m\u001b[0;34m\u001b[0m\u001b[0m\n",
      "\u001b[0;31mValueError\u001b[0m: Unable to parse line 62: CONJ[SEM=<&>] -> 'and'\nError parsing feature structure\n    CONJ[SEM=<&>] -> 'and'\n              ^ Expected logic expression"
     ]
    }
   ],
   "source": [
    "fcfg_string = fcfg_string_orginal + r\"\"\"\n",
    "## Your answers here\n",
    " Det[NUM=sg,SEM=<\\P Q.-exists x.(P(x) -> Q(x))>] -> 'no'\n",
    " Det[NUM=sg,SEM=<\\P Q.exists x.((P(x) & Q(x)) & (exists y.(P(y) -> y=x)))>] -> 'the'\n",
    " TV[SEM=<\\X x.X(\\ y.chase(x,y))>,TNS=past] -> 'chased'\n",
    " \n",
    " CONJ[SEM=<\\X x y.(X(x) & X(z))>] -> 'and'\n",
    " NP[NUM=pl,SEM=<?np & ?np> ] -> NP[NUM=?n,SEM=<?np> ] CONJ NP[NUM=?n,SEM=<?np> ]\n",
    " \n",
    " N[NUM=sg,SEM=<\\x.cat(x)>] -> 'cat'\n",
    " ADJ[SEM=<\\X x.(brown(x) & X(x))>] -> 'brown'\n",
    " ADJ[SEM=<\\X x.(white(x) & X(x))>] -> 'white'\n",
    " NP[NUM=?n,SEM=<?det(?adj(?nom))> ] -> Det[NUM=?n,SEM=?det] ADJ[SEM=?adj] Nom[NUM=?n,SEM=?nom]\n",
    "\"\"\"\n",
    "\n",
    "# Load `fcfg_string` as a feature grammar:\n",
    "syntax = FeatureGrammar.fromstring(fcfg_string)"
   ]
  },
  {
   "cell_type": "markdown",
   "metadata": {},
   "source": [
    "Run the code below without errors:"
   ]
  },
  {
   "cell_type": "code",
   "execution_count": 9,
   "metadata": {},
   "outputs": [
    {
     "data": {
      "text/markdown": [
       "----"
      ],
      "text/plain": [
       "<IPython.core.display.Markdown object>"
      ]
     },
     "metadata": {},
     "output_type": "display_data"
    },
    {
     "data": {
      "text/markdown": [
       "$-\\exists\\ x.(man(x)\\ \\rightarrow\\ \\exists\\ z_{17}.(dog(z_{17})\\ \\land\\ \\exists\\ z_{16}.(bone(z_{16})\\ \\land\\ give(x,z_{16},z_{17}))))$"
      ],
      "text/plain": [
       "<IPython.core.display.Markdown object>"
      ]
     },
     "metadata": {},
     "output_type": "display_data"
    },
    {
     "data": {
      "text/markdown": [
       "----"
      ],
      "text/plain": [
       "<IPython.core.display.Markdown object>"
      ]
     },
     "metadata": {},
     "output_type": "display_data"
    },
    {
     "data": {
      "text/markdown": [
       "$-\\exists\\ x.(man(x)\\ \\rightarrow\\ \\exists\\ z_{19}.(dog(z_{19})\\ \\land\\ \\exists\\ z_{18}.(bone(z_{18})\\ \\land\\ give(x,z_{18},z_{19}))\\ \\land\\ \\exists\\ y.(dog(y)\\ \\rightarrow\\ (y\\ =\\ z_{19}))))$"
      ],
      "text/plain": [
       "<IPython.core.display.Markdown object>"
      ]
     },
     "metadata": {},
     "output_type": "display_data"
    },
    {
     "data": {
      "text/markdown": [
       "----"
      ],
      "text/plain": [
       "<IPython.core.display.Markdown object>"
      ]
     },
     "metadata": {},
     "output_type": "display_data"
    },
    {
     "data": {
      "text/markdown": [
       "$\\exists\\ x.(brown(x)\\ \\land\\ cat(x)\\ \\land\\ \\exists\\ z_{22}.(white(z_{22})\\ \\land\\ dog(z_{22})\\ \\land\\ chase(x,z_{22})))$"
      ],
      "text/plain": [
       "<IPython.core.display.Markdown object>"
      ]
     },
     "metadata": {},
     "output_type": "display_data"
    }
   ],
   "source": [
    "# comment out sentences if you couldn't find an answer for them\n",
    "sentences = [\n",
    "    'no man gives a bone to a dog',\n",
    "    'no man gives a bone to the dog',\n",
    "    #'a boy and a girl chased every dog',\n",
    "    #'every dog chased a boy and a girl',\n",
    "    'a brown cat chases a white dog',\n",
    "\n",
    "    \n",
    "]\n",
    "for results in nltk.interpret_sents(sentences, syntax):\n",
    "    for (synrep, semrep) in results:\n",
    "        display(Markdown('----'))\n",
    "        display_latex(semrep) # prints the SEM feature of a tree\n",
    "       # display_tree(synrep) # show the parse tree"
   ]
  },
  {
   "cell_type": "markdown",
   "metadata": {},
   "source": [
    "If you are working with iPython which is also running behind Jupyter notebooks and you are changing grammars and want to rerun a new version without restarting you may find `nltk.data.clear_cache()` useful."
   ]
  },
  {
   "cell_type": "markdown",
   "metadata": {},
   "source": [
    "## Statement of contribution\n",
    "\n",
    "Briefly state how many times you have met for discussions, who was present, to what degree each member contributed to the discussion and the final answers you are submitting."
   ]
  },
  {
   "cell_type": "markdown",
   "metadata": {},
   "source": [
    "## Marks\n",
    "\n",
    "This part of the assignment has a total of 47 marks."
   ]
  }
 ],
 "metadata": {
  "kernelspec": {
   "display_name": "Python 3 (ipykernel)",
   "language": "python",
   "name": "python3"
  },
  "language_info": {
   "codemirror_mode": {
    "name": "ipython",
    "version": 3
   },
   "file_extension": ".py",
   "mimetype": "text/x-python",
   "name": "python",
   "nbconvert_exporter": "python",
   "pygments_lexer": "ipython3",
   "version": "3.9.13"
  }
 },
 "nbformat": 4,
 "nbformat_minor": 4
}
